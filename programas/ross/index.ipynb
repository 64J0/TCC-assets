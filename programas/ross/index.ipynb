{
 "metadata": {
  "language_info": {
   "codemirror_mode": {
    "name": "ipython",
    "version": 3
   },
   "file_extension": ".py",
   "mimetype": "text/x-python",
   "name": "python",
   "nbconvert_exporter": "python",
   "pygments_lexer": "ipython3",
   "version": "3.8.5-final"
  },
  "orig_nbformat": 2,
  "kernelspec": {
   "name": "python3",
   "display_name": "Python 3",
   "language": "python"
  }
 },
 "nbformat": 4,
 "nbformat_minor": 2,
 "cells": [
  {
   "cell_type": "code",
   "execution_count": 1,
   "metadata": {},
   "outputs": [],
   "source": [
    "import os\n",
    "from pathlib import Path\n",
    "import ross as rs\n",
    "import numpy as np\n",
    "\n",
    "# MATERIAL\n",
    "#\n",
    "# E       - Módulo de young\n",
    "# G_s     - Módulo de cisalhamento (shear)\n",
    "# Poisson - Coeficiente de Poisson\n",
    "# rho     - Densidade do material\n",
    "\n",
    "ABNT1020  = rs.Material(name=\"ABNT1020\", rho=7850, E=2.05e11, Poisson=0.29)\n",
    "ASTMA36   = rs.Material(name=\"ASTMA36\", rho=7850, E=2e11, G_s=7.93e10)\n",
    "\n",
    "# ===========================================\n",
    "# EIXO\n",
    "#\n",
    "\n",
    "L       = [0.3, 0.3, 0.052]   # comprimento\n",
    "i_d     = 0                   # diâmetro interno\n",
    "o_d     = 0.0127              # diâmetro externo\n",
    "N_shaft = 3                   # quantidade de elementos\n",
    "\n",
    "shaft_elements = [\n",
    "  rs.ShaftElement(\n",
    "    n=i,\n",
    "    L=L[i],\n",
    "    idl=i_d,\n",
    "    odl=o_d,\n",
    "    material=ABNT1020,\n",
    "    shear_effects=True,\n",
    "    rotary_inertia=True,\n",
    "    gyroscopic=True,\n",
    "    tag=(f\"Elemento {i} do eixo\")\n",
    "  )\n",
    "  for i in range(N_shaft)\n",
    "]\n",
    "\n",
    "# ===========================================\n",
    "# DISCO\n",
    "#\n",
    "# Utilizando as propriedades geométricas:\n",
    "\n",
    "disk_geo = rs.DiskElement.from_geometry(\n",
    "  n=1,\n",
    "  material=ASTMA36,\n",
    "  width=0.01,\n",
    "  i_d=0.0127,\n",
    "  o_d=0.1807,\n",
    "  tag=\"Geometria do disco\"\n",
    ")\n",
    "\n",
    "# ===========================================\n",
    "# ROLAMENTOS E VEDAÇÕES\n",
    "#\n",
    "\n",
    "N_bearing = 2\n",
    "\n",
    "n_balls   = 7\n",
    "d_balls   = 0.006\n",
    "fs        = 10\n",
    "alpha     = (np.pi / 18)\n",
    "bearings  = [\n",
    "  rs.BallBearingElement(\n",
    "    n=i*2,\n",
    "    n_balls=n_balls,\n",
    "    d_balls=d_balls,\n",
    "    fs=fs,\n",
    "    alpha=alpha,\n",
    "    tag=(f\"Rolamento de esferas {i}\")\n",
    "  )\n",
    "  for i in range(N_bearing)\n",
    "]"
   ]
  },
  {
   "cell_type": "code",
   "execution_count": 2,
   "metadata": {},
   "outputs": [
    {
     "output_type": "display_data",
     "data": {
      "application/vnd.plotly.v1+json": {
       "config": {
        "plotlyServerURL": "https://plot.ly"
       },
       "data": [
        {
         "hoverinfo": "none",
         "line": {
          "color": "black",
          "dash": "dashdot",
          "width": 3
         },
         "mode": "lines",
         "opacity": 0.7,
         "showlegend": false,
         "type": "scatter",
         "x": [
          -0.13040000000000002,
          0.7824
         ],
         "y": [
          0,
          0
         ]
        },
        {
         "hoverinfo": "none",
         "marker": {
          "color": "#ffcc99",
          "line": {
           "color": "black",
           "width": 1
          },
          "opacity": 0.7,
          "size": 20
         },
         "mode": "markers+text",
         "showlegend": false,
         "text": [
          "0",
          "1",
          "2",
          "3"
         ],
         "type": "scatter",
         "x": [
          0,
          0.3,
          0.6,
          0.652
         ],
         "y": [
          0,
          0,
          0,
          0
         ]
        },
        {
         "customdata": [
          [
           0,
           0.0127,
           0,
           0.0127,
           0,
           0.3,
           "ABNT1020"
          ],
          [
           0,
           0.0127,
           0,
           0.0127,
           0,
           0.3,
           "ABNT1020"
          ],
          [
           0,
           0.0127,
           0,
           0.0127,
           0,
           0.3,
           "ABNT1020"
          ],
          [
           0,
           0.0127,
           0,
           0.0127,
           0,
           0.3,
           "ABNT1020"
          ],
          [
           0,
           0.0127,
           0,
           0.0127,
           0,
           0.3,
           "ABNT1020"
          ],
          [
           0,
           0.0127,
           0,
           0.0127,
           0,
           0.3,
           "ABNT1020"
          ],
          [
           0,
           0.0127,
           0,
           0.0127,
           0,
           0.3,
           "ABNT1020"
          ],
          [
           0,
           0.0127,
           0,
           0.0127,
           0,
           0.3,
           "ABNT1020"
          ],
          [
           0,
           0.0127,
           0,
           0.0127,
           0,
           0.3,
           "ABNT1020"
          ],
          [
           0,
           0.0127,
           0,
           0.0127,
           0,
           0.3,
           "ABNT1020"
          ]
         ],
         "fill": "toself",
         "fillcolor": "#525252",
         "hoverinfo": "text",
         "hoverlabel": {
          "bgcolor": "#525252"
         },
         "hoveron": "points+fills",
         "hovertemplate": "Element Number: 0<br>Left Outer Diameter: 0.0127 m<br>Left Inner Diameter: 0.0 m<br>Right Outer Diameter: 0.0127 m<br>Right Inner Diameter: 0.0 m<br>Element Length: 0.3 m<br>Material: ABNT1020<br>",
         "legendgroup": "Shaft",
         "line": {
          "color": "black",
          "width": 1.5
         },
         "mode": "lines",
         "name": "Elemento 0 do eixo",
         "opacity": 0.5,
         "showlegend": false,
         "text": "Element Number: 0<br>Left Outer Diameter: 0.0127 m<br>Left Inner Diameter: 0.0 m<br>Right Outer Diameter: 0.0127 m<br>Right Inner Diameter: 0.0 m<br>Element Length: 0.3 m<br>Material: ABNT1020<br>",
         "type": "scatter",
         "x": [
          0,
          0,
          0.3,
          0.3,
          0,
          0,
          0,
          0.3,
          0.3,
          0
         ],
         "y": [
          0,
          0.00635,
          0.00635,
          0,
          0,
          0,
          -0.00635,
          -0.00635,
          0,
          0
         ]
        },
        {
         "customdata": [
          [
           1,
           0.0127,
           0,
           0.0127,
           0,
           0.3,
           "ABNT1020"
          ],
          [
           1,
           0.0127,
           0,
           0.0127,
           0,
           0.3,
           "ABNT1020"
          ],
          [
           1,
           0.0127,
           0,
           0.0127,
           0,
           0.3,
           "ABNT1020"
          ],
          [
           1,
           0.0127,
           0,
           0.0127,
           0,
           0.3,
           "ABNT1020"
          ],
          [
           1,
           0.0127,
           0,
           0.0127,
           0,
           0.3,
           "ABNT1020"
          ],
          [
           1,
           0.0127,
           0,
           0.0127,
           0,
           0.3,
           "ABNT1020"
          ],
          [
           1,
           0.0127,
           0,
           0.0127,
           0,
           0.3,
           "ABNT1020"
          ],
          [
           1,
           0.0127,
           0,
           0.0127,
           0,
           0.3,
           "ABNT1020"
          ],
          [
           1,
           0.0127,
           0,
           0.0127,
           0,
           0.3,
           "ABNT1020"
          ],
          [
           1,
           0.0127,
           0,
           0.0127,
           0,
           0.3,
           "ABNT1020"
          ]
         ],
         "fill": "toself",
         "fillcolor": "#525252",
         "hoverinfo": "text",
         "hoverlabel": {
          "bgcolor": "#525252"
         },
         "hoveron": "points+fills",
         "hovertemplate": "Element Number: 1<br>Left Outer Diameter: 0.0127 m<br>Left Inner Diameter: 0.0 m<br>Right Outer Diameter: 0.0127 m<br>Right Inner Diameter: 0.0 m<br>Element Length: 0.3 m<br>Material: ABNT1020<br>",
         "legendgroup": "Shaft",
         "line": {
          "color": "black",
          "width": 1.5
         },
         "mode": "lines",
         "name": "Elemento 1 do eixo",
         "opacity": 0.5,
         "showlegend": false,
         "text": "Element Number: 1<br>Left Outer Diameter: 0.0127 m<br>Left Inner Diameter: 0.0 m<br>Right Outer Diameter: 0.0127 m<br>Right Inner Diameter: 0.0 m<br>Element Length: 0.3 m<br>Material: ABNT1020<br>",
         "type": "scatter",
         "x": [
          0.3,
          0.3,
          0.6,
          0.6,
          0.3,
          0.3,
          0.3,
          0.6,
          0.6,
          0.3
         ],
         "y": [
          0,
          0.00635,
          0.00635,
          0,
          0,
          0,
          -0.00635,
          -0.00635,
          0,
          0
         ]
        },
        {
         "customdata": [
          [
           2,
           0.0127,
           0,
           0.0127,
           0,
           0.052,
           "ABNT1020"
          ],
          [
           2,
           0.0127,
           0,
           0.0127,
           0,
           0.052,
           "ABNT1020"
          ],
          [
           2,
           0.0127,
           0,
           0.0127,
           0,
           0.052,
           "ABNT1020"
          ],
          [
           2,
           0.0127,
           0,
           0.0127,
           0,
           0.052,
           "ABNT1020"
          ],
          [
           2,
           0.0127,
           0,
           0.0127,
           0,
           0.052,
           "ABNT1020"
          ],
          [
           2,
           0.0127,
           0,
           0.0127,
           0,
           0.052,
           "ABNT1020"
          ],
          [
           2,
           0.0127,
           0,
           0.0127,
           0,
           0.052,
           "ABNT1020"
          ],
          [
           2,
           0.0127,
           0,
           0.0127,
           0,
           0.052,
           "ABNT1020"
          ],
          [
           2,
           0.0127,
           0,
           0.0127,
           0,
           0.052,
           "ABNT1020"
          ],
          [
           2,
           0.0127,
           0,
           0.0127,
           0,
           0.052,
           "ABNT1020"
          ]
         ],
         "fill": "toself",
         "fillcolor": "#525252",
         "hoverinfo": "text",
         "hoverlabel": {
          "bgcolor": "#525252"
         },
         "hoveron": "points+fills",
         "hovertemplate": "Element Number: 2<br>Left Outer Diameter: 0.0127 m<br>Left Inner Diameter: 0.0 m<br>Right Outer Diameter: 0.0127 m<br>Right Inner Diameter: 0.0 m<br>Element Length: 0.052 m<br>Material: ABNT1020<br>",
         "legendgroup": "Shaft",
         "line": {
          "color": "black",
          "width": 1.5
         },
         "mode": "lines",
         "name": "Elemento 2 do eixo",
         "opacity": 0.5,
         "showlegend": false,
         "text": "Element Number: 2<br>Left Outer Diameter: 0.0127 m<br>Left Inner Diameter: 0.0 m<br>Right Outer Diameter: 0.0127 m<br>Right Inner Diameter: 0.0 m<br>Element Length: 0.052 m<br>Material: ABNT1020<br>",
         "type": "scatter",
         "x": [
          0.6,
          0.6,
          0.652,
          0.652,
          0.6,
          0.6,
          0.6,
          0.652,
          0.652,
          0.6
         ],
         "y": [
          0,
          0.00635,
          0.00635,
          0,
          0,
          0,
          -0.00635,
          -0.00635,
          0,
          0
         ]
        },
        {
         "customdata": [
          [
           1,
           0.008216589016168249,
           0.004124987879011762,
           2.003204511316465
          ],
          [
           1,
           0.008216589016168249,
           0.004124987879011762,
           2.003204511316465
          ],
          [
           1,
           0.008216589016168249,
           0.004124987879011762,
           2.003204511316465
          ],
          [
           1,
           0.008216589016168249,
           0.004124987879011762,
           2.003204511316465
          ],
          [
           1,
           0.008216589016168249,
           0.004124987879011762,
           2.003204511316465
          ],
          [
           1,
           0.008216589016168249,
           0.004124987879011762,
           2.003204511316465
          ],
          [
           1,
           0.008216589016168249,
           0.004124987879011762,
           2.003204511316465
          ],
          [
           1,
           0.008216589016168249,
           0.004124987879011762,
           2.003204511316465
          ],
          [
           1,
           0.008216589016168249,
           0.004124987879011762,
           2.003204511316465
          ]
         ],
         "fill": "toself",
         "fillcolor": "Firebrick",
         "hoverinfo": "text",
         "hoverlabel": {
          "bgcolor": "Firebrick"
         },
         "hoveron": "points+fills",
         "hovertemplate": "Disk Node: 1<br>Polar Inertia: 8.217e-03<br>Diametral Inertia: 4.125e-03<br>Disk mass: 2.003<br>",
         "legendgroup": "disks",
         "line": {
          "color": "Firebrick",
          "width": 2
         },
         "mode": "lines",
         "name": "Geometria do disco",
         "showlegend": false,
         "text": "Disk Node: 1<br>Polar Inertia: 8.217e-03<br>Diametral Inertia: 4.125e-03<br>Disk mass: 2.003<br>",
         "type": "scatter",
         "x": [
          0.3,
          0.30211666666666664,
          0.29788333333333333,
          0.3,
          null,
          0.3,
          0.30211666666666664,
          0.29788333333333333,
          0.3
         ],
         "y": [
          0.00635,
          0.03175,
          0.03175,
          0.00635,
          null,
          -0.00635,
          -0.03175,
          -0.03175,
          -0.00635
         ]
        },
        {
         "hoverinfo": "none",
         "legendgroup": "bearings",
         "line": {
          "color": "#77ACA2",
          "width": 3.5
         },
         "mode": "lines",
         "name": "Rolamento de esferas 0",
         "showlegend": false,
         "type": "scatter",
         "x": [
          0,
          0,
          -0.00635,
          0.00635
         ],
         "y": [
          0.00635,
          0.0127,
          0.0127,
          0.0127
         ]
        },
        {
         "hoverinfo": "none",
         "legendgroup": "bearings",
         "line": {
          "color": "#77ACA2",
          "width": 3.5
         },
         "mode": "lines",
         "name": "Rolamento de esferas 0",
         "showlegend": false,
         "type": "scatter",
         "x": [
          0,
          0,
          -0.00635,
          0.00635
         ],
         "y": [
          -0.00635,
          -0.0127,
          -0.0127,
          -0.0127
         ]
        },
        {
         "hoverinfo": "none",
         "legendgroup": "bearings",
         "line": {
          "color": "#77ACA2",
          "width": 3.5
         },
         "mode": "lines",
         "name": "Rolamento de esferas 0",
         "showlegend": false,
         "type": "scatter",
         "x": [
          0,
          0,
          -0.00635,
          0.00635
         ],
         "y": [
          0.03175,
          0.0254,
          0.0254,
          0.0254
         ]
        },
        {
         "hoverinfo": "none",
         "legendgroup": "bearings",
         "line": {
          "color": "#77ACA2",
          "width": 3.5
         },
         "mode": "lines",
         "name": "Rolamento de esferas 0",
         "showlegend": false,
         "type": "scatter",
         "x": [
          0,
          0,
          -0.00635,
          0.00635
         ],
         "y": [
          -0.03175,
          -0.0254,
          -0.0254,
          -0.0254
         ]
        },
        {
         "hoverinfo": "none",
         "legendgroup": "bearings",
         "line": {
          "color": "#77ACA2",
          "width": 3.5
         },
         "mode": "lines",
         "name": "Rolamento de esferas 0",
         "showlegend": false,
         "type": "scatter",
         "x": [
          -0.008164285714285714,
          0.008164285714285714
         ],
         "y": [
          0.03175,
          0.03175
         ]
        },
        {
         "hoverinfo": "none",
         "legendgroup": "bearings",
         "line": {
          "color": "#77ACA2",
          "width": 3.5
         },
         "mode": "lines",
         "name": "Rolamento de esferas 0",
         "showlegend": false,
         "type": "scatter",
         "x": [
          -0.008164285714285714,
          0.008164285714285714
         ],
         "y": [
          -0.03175,
          -0.03175
         ]
        },
        {
         "hoverinfo": "none",
         "legendgroup": "bearings",
         "line": {
          "color": "#77ACA2",
          "width": 3.5
         },
         "mode": "lines",
         "name": "Rolamento de esferas 0",
         "showlegend": false,
         "type": "scatter",
         "x": [
          -0.008164285714285714,
          -0.004898571428571428
         ],
         "y": [
          0.03175,
          0.034925000000000005
         ]
        },
        {
         "hoverinfo": "none",
         "legendgroup": "bearings",
         "line": {
          "color": "#77ACA2",
          "width": 3.5
         },
         "mode": "lines",
         "name": "Rolamento de esferas 0",
         "showlegend": false,
         "type": "scatter",
         "x": [
          -0.008164285714285714,
          -0.004898571428571428
         ],
         "y": [
          -0.03175,
          -0.034925000000000005
         ]
        },
        {
         "hoverinfo": "none",
         "legendgroup": "bearings",
         "line": {
          "color": "#77ACA2",
          "width": 3.5
         },
         "mode": "lines",
         "name": "Rolamento de esferas 0",
         "showlegend": false,
         "type": "scatter",
         "x": [
          -0.004898571428571428,
          -0.0016328571428571425
         ],
         "y": [
          0.03175,
          0.034925000000000005
         ]
        },
        {
         "hoverinfo": "none",
         "legendgroup": "bearings",
         "line": {
          "color": "#77ACA2",
          "width": 3.5
         },
         "mode": "lines",
         "name": "Rolamento de esferas 0",
         "showlegend": false,
         "type": "scatter",
         "x": [
          -0.004898571428571428,
          -0.0016328571428571425
         ],
         "y": [
          -0.03175,
          -0.034925000000000005
         ]
        },
        {
         "hoverinfo": "none",
         "legendgroup": "bearings",
         "line": {
          "color": "#77ACA2",
          "width": 3.5
         },
         "mode": "lines",
         "name": "Rolamento de esferas 0",
         "showlegend": false,
         "type": "scatter",
         "x": [
          -0.0016328571428571425,
          0.0016328571428571442
         ],
         "y": [
          0.03175,
          0.034925000000000005
         ]
        },
        {
         "hoverinfo": "none",
         "legendgroup": "bearings",
         "line": {
          "color": "#77ACA2",
          "width": 3.5
         },
         "mode": "lines",
         "name": "Rolamento de esferas 0",
         "showlegend": false,
         "type": "scatter",
         "x": [
          -0.0016328571428571425,
          0.0016328571428571442
         ],
         "y": [
          -0.03175,
          -0.034925000000000005
         ]
        },
        {
         "hoverinfo": "none",
         "legendgroup": "bearings",
         "line": {
          "color": "#77ACA2",
          "width": 3.5
         },
         "mode": "lines",
         "name": "Rolamento de esferas 0",
         "showlegend": false,
         "type": "scatter",
         "x": [
          0.0016328571428571442,
          0.004898571428571429
         ],
         "y": [
          0.03175,
          0.034925000000000005
         ]
        },
        {
         "hoverinfo": "none",
         "legendgroup": "bearings",
         "line": {
          "color": "#77ACA2",
          "width": 3.5
         },
         "mode": "lines",
         "name": "Rolamento de esferas 0",
         "showlegend": false,
         "type": "scatter",
         "x": [
          0.0016328571428571442,
          0.004898571428571429
         ],
         "y": [
          -0.03175,
          -0.034925000000000005
         ]
        },
        {
         "hoverinfo": "none",
         "legendgroup": "bearings",
         "line": {
          "color": "#77ACA2",
          "width": 3.5
         },
         "mode": "lines",
         "name": "Rolamento de esferas 0",
         "showlegend": false,
         "type": "scatter",
         "x": [
          0.004898571428571429,
          0.008164285714285714
         ],
         "y": [
          0.03175,
          0.034925000000000005
         ]
        },
        {
         "hoverinfo": "none",
         "legendgroup": "bearings",
         "line": {
          "color": "#77ACA2",
          "width": 3.5
         },
         "mode": "lines",
         "name": "Rolamento de esferas 0",
         "showlegend": false,
         "type": "scatter",
         "x": [
          0.004898571428571429,
          0.008164285714285714
         ],
         "y": [
          -0.03175,
          -0.034925000000000005
         ]
        },
        {
         "hoverinfo": "none",
         "legendgroup": "bearings",
         "line": {
          "color": "#77ACA2",
          "width": 3.5
         },
         "mode": "lines",
         "name": "Rolamento de esferas 0",
         "showlegend": false,
         "type": "scatter",
         "x": [
          0.008164285714285714,
          0.011430000000000003
         ],
         "y": [
          0.03175,
          0.034925000000000005
         ]
        },
        {
         "hoverinfo": "none",
         "legendgroup": "bearings",
         "line": {
          "color": "#77ACA2",
          "width": 3.5
         },
         "mode": "lines",
         "name": "Rolamento de esferas 0",
         "showlegend": false,
         "type": "scatter",
         "x": [
          0.008164285714285714,
          0.011430000000000003
         ],
         "y": [
          -0.03175,
          -0.034925000000000005
         ]
        },
        {
         "hoverinfo": "none",
         "legendgroup": "bearings",
         "line": {
          "color": "#77ACA2",
          "width": 3.5
         },
         "mode": "lines",
         "name": "Rolamento de esferas 0",
         "showlegend": false,
         "type": "scatter",
         "x": [
          -0.00635,
          -0.00635,
          -0.008164285714285714,
          -0.004535714285714285,
          -0.008164285714285714,
          -0.004535714285714285,
          -0.008164285714285714,
          -0.004535714285714285,
          -0.00635,
          -0.00635
         ],
         "y": [
          0.0127,
          0.014514285714285714,
          0.014514285714285714,
          0.01632857142857143,
          0.01814285714285714,
          0.019957142857142857,
          0.02177142857142857,
          0.023585714285714286,
          0.023585714285714286,
          0.0254
         ]
        },
        {
         "hoverinfo": "none",
         "legendgroup": "bearings",
         "line": {
          "color": "#77ACA2",
          "width": 3.5
         },
         "mode": "lines",
         "name": "Rolamento de esferas 0",
         "showlegend": false,
         "type": "scatter",
         "x": [
          -0.00635,
          -0.00635,
          -0.008164285714285714,
          -0.004535714285714285,
          -0.008164285714285714,
          -0.004535714285714285,
          -0.008164285714285714,
          -0.004535714285714285,
          -0.00635,
          -0.00635
         ],
         "y": [
          -0.0127,
          -0.014514285714285714,
          -0.014514285714285714,
          -0.01632857142857143,
          -0.01814285714285714,
          -0.019957142857142857,
          -0.02177142857142857,
          -0.023585714285714286,
          -0.023585714285714286,
          -0.0254
         ]
        },
        {
         "hoverinfo": "none",
         "legendgroup": "bearings",
         "line": {
          "color": "#77ACA2",
          "width": 3.5
         },
         "mode": "lines",
         "name": "Rolamento de esferas 0",
         "showlegend": false,
         "type": "scatter",
         "x": [
          0.00635,
          0.00635
         ],
         "y": [
          0.0127,
          0.01632857142857143
         ]
        },
        {
         "hoverinfo": "none",
         "legendgroup": "bearings",
         "line": {
          "color": "#77ACA2",
          "width": 3.5
         },
         "mode": "lines",
         "name": "Rolamento de esferas 0",
         "showlegend": false,
         "type": "scatter",
         "x": [
          0.00635,
          0.00635
         ],
         "y": [
          -0.0127,
          -0.01632857142857143
         ]
        },
        {
         "hoverinfo": "none",
         "legendgroup": "bearings",
         "line": {
          "color": "#77ACA2",
          "width": 3.5
         },
         "mode": "lines",
         "name": "Rolamento de esferas 0",
         "showlegend": false,
         "type": "scatter",
         "x": [
          0.0027214285714285713,
          0.0027214285714285713,
          0.009978571428571429,
          0.009978571428571429
         ],
         "y": [
          0.02177142857142857,
          0.01632857142857143,
          0.01632857142857143,
          0.02177142857142857
         ]
        },
        {
         "hoverinfo": "none",
         "legendgroup": "bearings",
         "line": {
          "color": "#77ACA2",
          "width": 3.5
         },
         "mode": "lines",
         "name": "Rolamento de esferas 0",
         "showlegend": false,
         "type": "scatter",
         "x": [
          0.0027214285714285713,
          0.0027214285714285713,
          0.009978571428571429,
          0.009978571428571429
         ],
         "y": [
          -0.02177142857142857,
          -0.01632857142857143,
          -0.01632857142857143,
          -0.02177142857142857
         ]
        },
        {
         "hoverinfo": "none",
         "legendgroup": "bearings",
         "line": {
          "color": "#77ACA2",
          "width": 3.5
         },
         "mode": "lines",
         "name": "Rolamento de esferas 0",
         "showlegend": false,
         "type": "scatter",
         "x": [
          0.0027214285714285713,
          0.009978571428571429,
          0.00635,
          0.00635
         ],
         "y": [
          0.019957142857142857,
          0.019957142857142857,
          0.019957142857142857,
          0.0254
         ]
        },
        {
         "hoverinfo": "none",
         "legendgroup": "bearings",
         "line": {
          "color": "#77ACA2",
          "width": 3.5
         },
         "mode": "lines",
         "name": "Rolamento de esferas 0",
         "showlegend": false,
         "type": "scatter",
         "x": [
          0.0027214285714285713,
          0.009978571428571429,
          0.00635,
          0.00635
         ],
         "y": [
          -0.019957142857142857,
          -0.019957142857142857,
          -0.019957142857142857,
          -0.0254
         ]
        },
        {
         "hoverinfo": "none",
         "legendgroup": "bearings",
         "line": {
          "color": "#77ACA2",
          "width": 3.5
         },
         "mode": "lines",
         "name": "Rolamento de esferas 1",
         "showlegend": false,
         "type": "scatter",
         "x": [
          0.6,
          0.6,
          0.59365,
          0.60635
         ],
         "y": [
          0.00635,
          0.0127,
          0.0127,
          0.0127
         ]
        },
        {
         "hoverinfo": "none",
         "legendgroup": "bearings",
         "line": {
          "color": "#77ACA2",
          "width": 3.5
         },
         "mode": "lines",
         "name": "Rolamento de esferas 1",
         "showlegend": false,
         "type": "scatter",
         "x": [
          0.6,
          0.6,
          0.59365,
          0.60635
         ],
         "y": [
          -0.00635,
          -0.0127,
          -0.0127,
          -0.0127
         ]
        },
        {
         "hoverinfo": "none",
         "legendgroup": "bearings",
         "line": {
          "color": "#77ACA2",
          "width": 3.5
         },
         "mode": "lines",
         "name": "Rolamento de esferas 1",
         "showlegend": false,
         "type": "scatter",
         "x": [
          0.6,
          0.6,
          0.59365,
          0.60635
         ],
         "y": [
          0.03175,
          0.0254,
          0.0254,
          0.0254
         ]
        },
        {
         "hoverinfo": "none",
         "legendgroup": "bearings",
         "line": {
          "color": "#77ACA2",
          "width": 3.5
         },
         "mode": "lines",
         "name": "Rolamento de esferas 1",
         "showlegend": false,
         "type": "scatter",
         "x": [
          0.6,
          0.6,
          0.59365,
          0.60635
         ],
         "y": [
          -0.03175,
          -0.0254,
          -0.0254,
          -0.0254
         ]
        },
        {
         "hoverinfo": "none",
         "legendgroup": "bearings",
         "line": {
          "color": "#77ACA2",
          "width": 3.5
         },
         "mode": "lines",
         "name": "Rolamento de esferas 1",
         "showlegend": false,
         "type": "scatter",
         "x": [
          0.5918357142857142,
          0.6081642857142857
         ],
         "y": [
          0.03175,
          0.03175
         ]
        },
        {
         "hoverinfo": "none",
         "legendgroup": "bearings",
         "line": {
          "color": "#77ACA2",
          "width": 3.5
         },
         "mode": "lines",
         "name": "Rolamento de esferas 1",
         "showlegend": false,
         "type": "scatter",
         "x": [
          0.5918357142857142,
          0.6081642857142857
         ],
         "y": [
          -0.03175,
          -0.03175
         ]
        },
        {
         "hoverinfo": "none",
         "legendgroup": "bearings",
         "line": {
          "color": "#77ACA2",
          "width": 3.5
         },
         "mode": "lines",
         "name": "Rolamento de esferas 1",
         "showlegend": false,
         "type": "scatter",
         "x": [
          0.5918357142857142,
          0.5951014285714286
         ],
         "y": [
          0.03175,
          0.034925000000000005
         ]
        },
        {
         "hoverinfo": "none",
         "legendgroup": "bearings",
         "line": {
          "color": "#77ACA2",
          "width": 3.5
         },
         "mode": "lines",
         "name": "Rolamento de esferas 1",
         "showlegend": false,
         "type": "scatter",
         "x": [
          0.5918357142857142,
          0.5951014285714286
         ],
         "y": [
          -0.03175,
          -0.034925000000000005
         ]
        },
        {
         "hoverinfo": "none",
         "legendgroup": "bearings",
         "line": {
          "color": "#77ACA2",
          "width": 3.5
         },
         "mode": "lines",
         "name": "Rolamento de esferas 1",
         "showlegend": false,
         "type": "scatter",
         "x": [
          0.5951014285714286,
          0.5983671428571429
         ],
         "y": [
          0.03175,
          0.034925000000000005
         ]
        },
        {
         "hoverinfo": "none",
         "legendgroup": "bearings",
         "line": {
          "color": "#77ACA2",
          "width": 3.5
         },
         "mode": "lines",
         "name": "Rolamento de esferas 1",
         "showlegend": false,
         "type": "scatter",
         "x": [
          0.5951014285714286,
          0.5983671428571429
         ],
         "y": [
          -0.03175,
          -0.034925000000000005
         ]
        },
        {
         "hoverinfo": "none",
         "legendgroup": "bearings",
         "line": {
          "color": "#77ACA2",
          "width": 3.5
         },
         "mode": "lines",
         "name": "Rolamento de esferas 1",
         "showlegend": false,
         "type": "scatter",
         "x": [
          0.5983671428571429,
          0.6016328571428571
         ],
         "y": [
          0.03175,
          0.034925000000000005
         ]
        },
        {
         "hoverinfo": "none",
         "legendgroup": "bearings",
         "line": {
          "color": "#77ACA2",
          "width": 3.5
         },
         "mode": "lines",
         "name": "Rolamento de esferas 1",
         "showlegend": false,
         "type": "scatter",
         "x": [
          0.5983671428571429,
          0.6016328571428571
         ],
         "y": [
          -0.03175,
          -0.034925000000000005
         ]
        },
        {
         "hoverinfo": "none",
         "legendgroup": "bearings",
         "line": {
          "color": "#77ACA2",
          "width": 3.5
         },
         "mode": "lines",
         "name": "Rolamento de esferas 1",
         "showlegend": false,
         "type": "scatter",
         "x": [
          0.6016328571428571,
          0.6048985714285714
         ],
         "y": [
          0.03175,
          0.034925000000000005
         ]
        },
        {
         "hoverinfo": "none",
         "legendgroup": "bearings",
         "line": {
          "color": "#77ACA2",
          "width": 3.5
         },
         "mode": "lines",
         "name": "Rolamento de esferas 1",
         "showlegend": false,
         "type": "scatter",
         "x": [
          0.6016328571428571,
          0.6048985714285714
         ],
         "y": [
          -0.03175,
          -0.034925000000000005
         ]
        },
        {
         "hoverinfo": "none",
         "legendgroup": "bearings",
         "line": {
          "color": "#77ACA2",
          "width": 3.5
         },
         "mode": "lines",
         "name": "Rolamento de esferas 1",
         "showlegend": false,
         "type": "scatter",
         "x": [
          0.6048985714285714,
          0.6081642857142857
         ],
         "y": [
          0.03175,
          0.034925000000000005
         ]
        },
        {
         "hoverinfo": "none",
         "legendgroup": "bearings",
         "line": {
          "color": "#77ACA2",
          "width": 3.5
         },
         "mode": "lines",
         "name": "Rolamento de esferas 1",
         "showlegend": false,
         "type": "scatter",
         "x": [
          0.6048985714285714,
          0.6081642857142857
         ],
         "y": [
          -0.03175,
          -0.034925000000000005
         ]
        },
        {
         "hoverinfo": "none",
         "legendgroup": "bearings",
         "line": {
          "color": "#77ACA2",
          "width": 3.5
         },
         "mode": "lines",
         "name": "Rolamento de esferas 1",
         "showlegend": false,
         "type": "scatter",
         "x": [
          0.6081642857142857,
          0.61143
         ],
         "y": [
          0.03175,
          0.034925000000000005
         ]
        },
        {
         "hoverinfo": "none",
         "legendgroup": "bearings",
         "line": {
          "color": "#77ACA2",
          "width": 3.5
         },
         "mode": "lines",
         "name": "Rolamento de esferas 1",
         "showlegend": false,
         "type": "scatter",
         "x": [
          0.6081642857142857,
          0.61143
         ],
         "y": [
          -0.03175,
          -0.034925000000000005
         ]
        },
        {
         "hoverinfo": "none",
         "legendgroup": "bearings",
         "line": {
          "color": "#77ACA2",
          "width": 3.5
         },
         "mode": "lines",
         "name": "Rolamento de esferas 1",
         "showlegend": false,
         "type": "scatter",
         "x": [
          0.59365,
          0.59365,
          0.5918357142857142,
          0.5954642857142858,
          0.5918357142857142,
          0.5954642857142858,
          0.5918357142857142,
          0.5954642857142858,
          0.59365,
          0.59365
         ],
         "y": [
          0.0127,
          0.014514285714285714,
          0.014514285714285714,
          0.01632857142857143,
          0.01814285714285714,
          0.019957142857142857,
          0.02177142857142857,
          0.023585714285714286,
          0.023585714285714286,
          0.0254
         ]
        },
        {
         "hoverinfo": "none",
         "legendgroup": "bearings",
         "line": {
          "color": "#77ACA2",
          "width": 3.5
         },
         "mode": "lines",
         "name": "Rolamento de esferas 1",
         "showlegend": false,
         "type": "scatter",
         "x": [
          0.59365,
          0.59365,
          0.5918357142857142,
          0.5954642857142858,
          0.5918357142857142,
          0.5954642857142858,
          0.5918357142857142,
          0.5954642857142858,
          0.59365,
          0.59365
         ],
         "y": [
          -0.0127,
          -0.014514285714285714,
          -0.014514285714285714,
          -0.01632857142857143,
          -0.01814285714285714,
          -0.019957142857142857,
          -0.02177142857142857,
          -0.023585714285714286,
          -0.023585714285714286,
          -0.0254
         ]
        },
        {
         "hoverinfo": "none",
         "legendgroup": "bearings",
         "line": {
          "color": "#77ACA2",
          "width": 3.5
         },
         "mode": "lines",
         "name": "Rolamento de esferas 1",
         "showlegend": false,
         "type": "scatter",
         "x": [
          0.60635,
          0.60635
         ],
         "y": [
          0.0127,
          0.01632857142857143
         ]
        },
        {
         "hoverinfo": "none",
         "legendgroup": "bearings",
         "line": {
          "color": "#77ACA2",
          "width": 3.5
         },
         "mode": "lines",
         "name": "Rolamento de esferas 1",
         "showlegend": false,
         "type": "scatter",
         "x": [
          0.60635,
          0.60635
         ],
         "y": [
          -0.0127,
          -0.01632857142857143
         ]
        },
        {
         "hoverinfo": "none",
         "legendgroup": "bearings",
         "line": {
          "color": "#77ACA2",
          "width": 3.5
         },
         "mode": "lines",
         "name": "Rolamento de esferas 1",
         "showlegend": false,
         "type": "scatter",
         "x": [
          0.6027214285714285,
          0.6027214285714285,
          0.6099785714285714,
          0.6099785714285714
         ],
         "y": [
          0.02177142857142857,
          0.01632857142857143,
          0.01632857142857143,
          0.02177142857142857
         ]
        },
        {
         "hoverinfo": "none",
         "legendgroup": "bearings",
         "line": {
          "color": "#77ACA2",
          "width": 3.5
         },
         "mode": "lines",
         "name": "Rolamento de esferas 1",
         "showlegend": false,
         "type": "scatter",
         "x": [
          0.6027214285714285,
          0.6027214285714285,
          0.6099785714285714,
          0.6099785714285714
         ],
         "y": [
          -0.02177142857142857,
          -0.01632857142857143,
          -0.01632857142857143,
          -0.02177142857142857
         ]
        },
        {
         "hoverinfo": "none",
         "legendgroup": "bearings",
         "line": {
          "color": "#77ACA2",
          "width": 3.5
         },
         "mode": "lines",
         "name": "Rolamento de esferas 1",
         "showlegend": false,
         "type": "scatter",
         "x": [
          0.6027214285714285,
          0.6099785714285714,
          0.60635,
          0.60635
         ],
         "y": [
          0.019957142857142857,
          0.019957142857142857,
          0.019957142857142857,
          0.0254
         ]
        },
        {
         "hoverinfo": "none",
         "legendgroup": "bearings",
         "line": {
          "color": "#77ACA2",
          "width": 3.5
         },
         "mode": "lines",
         "name": "Rolamento de esferas 1",
         "showlegend": false,
         "type": "scatter",
         "x": [
          0.6027214285714285,
          0.6099785714285714,
          0.60635,
          0.60635
         ],
         "y": [
          -0.019957142857142857,
          -0.019957142857142857,
          -0.019957142857142857,
          -0.0254
         ]
        }
       ],
       "layout": {
        "shapes": [
         {
          "fillcolor": "Firebrick",
          "line": {
           "color": "Firebrick"
          },
          "type": "circle",
          "x0": 0.30211666666666664,
          "x1": 0.29788333333333333,
          "xref": "x",
          "y0": 0.029633333333333334,
          "y1": 0.03386666666666667,
          "yref": "y"
         },
         {
          "fillcolor": "Firebrick",
          "line": {
           "color": "Firebrick"
          },
          "type": "circle",
          "x0": 0.30211666666666664,
          "x1": 0.29788333333333333,
          "xref": "x",
          "y0": -0.029633333333333334,
          "y1": -0.03386666666666667,
          "yref": "y"
         }
        ],
        "template": {
         "data": {
          "bar": [
           {
            "error_x": {
             "color": "#2a3f5f"
            },
            "error_y": {
             "color": "#2a3f5f"
            },
            "marker": {
             "line": {
              "color": "white",
              "width": 0.5
             }
            },
            "type": "bar"
           }
          ],
          "barpolar": [
           {
            "marker": {
             "line": {
              "color": "white",
              "width": 0.5
             }
            },
            "type": "barpolar"
           }
          ],
          "carpet": [
           {
            "aaxis": {
             "endlinecolor": "#2a3f5f",
             "gridcolor": "#C8D4E3",
             "linecolor": "#C8D4E3",
             "minorgridcolor": "#C8D4E3",
             "startlinecolor": "#2a3f5f"
            },
            "baxis": {
             "endlinecolor": "#2a3f5f",
             "gridcolor": "#C8D4E3",
             "linecolor": "#C8D4E3",
             "minorgridcolor": "#C8D4E3",
             "startlinecolor": "#2a3f5f"
            },
            "type": "carpet"
           }
          ],
          "choropleth": [
           {
            "colorbar": {
             "outlinewidth": 0,
             "ticks": ""
            },
            "type": "choropleth"
           }
          ],
          "contour": [
           {
            "colorbar": {
             "outlinewidth": 0,
             "ticks": ""
            },
            "colorscale": [
             [
              0,
              "#0d0887"
             ],
             [
              0.1111111111111111,
              "#46039f"
             ],
             [
              0.2222222222222222,
              "#7201a8"
             ],
             [
              0.3333333333333333,
              "#9c179e"
             ],
             [
              0.4444444444444444,
              "#bd3786"
             ],
             [
              0.5555555555555556,
              "#d8576b"
             ],
             [
              0.6666666666666666,
              "#ed7953"
             ],
             [
              0.7777777777777778,
              "#fb9f3a"
             ],
             [
              0.8888888888888888,
              "#fdca26"
             ],
             [
              1,
              "#f0f921"
             ]
            ],
            "type": "contour"
           }
          ],
          "contourcarpet": [
           {
            "colorbar": {
             "outlinewidth": 0,
             "ticks": ""
            },
            "type": "contourcarpet"
           }
          ],
          "heatmap": [
           {
            "colorbar": {
             "outlinewidth": 0,
             "ticks": ""
            },
            "colorscale": [
             [
              0,
              "#0d0887"
             ],
             [
              0.1111111111111111,
              "#46039f"
             ],
             [
              0.2222222222222222,
              "#7201a8"
             ],
             [
              0.3333333333333333,
              "#9c179e"
             ],
             [
              0.4444444444444444,
              "#bd3786"
             ],
             [
              0.5555555555555556,
              "#d8576b"
             ],
             [
              0.6666666666666666,
              "#ed7953"
             ],
             [
              0.7777777777777778,
              "#fb9f3a"
             ],
             [
              0.8888888888888888,
              "#fdca26"
             ],
             [
              1,
              "#f0f921"
             ]
            ],
            "type": "heatmap"
           }
          ],
          "heatmapgl": [
           {
            "colorbar": {
             "outlinewidth": 0,
             "ticks": ""
            },
            "colorscale": [
             [
              0,
              "#0d0887"
             ],
             [
              0.1111111111111111,
              "#46039f"
             ],
             [
              0.2222222222222222,
              "#7201a8"
             ],
             [
              0.3333333333333333,
              "#9c179e"
             ],
             [
              0.4444444444444444,
              "#bd3786"
             ],
             [
              0.5555555555555556,
              "#d8576b"
             ],
             [
              0.6666666666666666,
              "#ed7953"
             ],
             [
              0.7777777777777778,
              "#fb9f3a"
             ],
             [
              0.8888888888888888,
              "#fdca26"
             ],
             [
              1,
              "#f0f921"
             ]
            ],
            "type": "heatmapgl"
           }
          ],
          "histogram": [
           {
            "marker": {
             "colorbar": {
              "outlinewidth": 0,
              "ticks": ""
             }
            },
            "type": "histogram"
           }
          ],
          "histogram2d": [
           {
            "colorbar": {
             "outlinewidth": 0,
             "ticks": ""
            },
            "colorscale": [
             [
              0,
              "#0d0887"
             ],
             [
              0.1111111111111111,
              "#46039f"
             ],
             [
              0.2222222222222222,
              "#7201a8"
             ],
             [
              0.3333333333333333,
              "#9c179e"
             ],
             [
              0.4444444444444444,
              "#bd3786"
             ],
             [
              0.5555555555555556,
              "#d8576b"
             ],
             [
              0.6666666666666666,
              "#ed7953"
             ],
             [
              0.7777777777777778,
              "#fb9f3a"
             ],
             [
              0.8888888888888888,
              "#fdca26"
             ],
             [
              1,
              "#f0f921"
             ]
            ],
            "type": "histogram2d"
           }
          ],
          "histogram2dcontour": [
           {
            "colorbar": {
             "outlinewidth": 0,
             "ticks": ""
            },
            "colorscale": [
             [
              0,
              "#0d0887"
             ],
             [
              0.1111111111111111,
              "#46039f"
             ],
             [
              0.2222222222222222,
              "#7201a8"
             ],
             [
              0.3333333333333333,
              "#9c179e"
             ],
             [
              0.4444444444444444,
              "#bd3786"
             ],
             [
              0.5555555555555556,
              "#d8576b"
             ],
             [
              0.6666666666666666,
              "#ed7953"
             ],
             [
              0.7777777777777778,
              "#fb9f3a"
             ],
             [
              0.8888888888888888,
              "#fdca26"
             ],
             [
              1,
              "#f0f921"
             ]
            ],
            "type": "histogram2dcontour"
           }
          ],
          "mesh3d": [
           {
            "colorbar": {
             "outlinewidth": 0,
             "ticks": ""
            },
            "type": "mesh3d"
           }
          ],
          "parcoords": [
           {
            "line": {
             "colorbar": {
              "outlinewidth": 0,
              "ticks": ""
             }
            },
            "type": "parcoords"
           }
          ],
          "pie": [
           {
            "automargin": true,
            "type": "pie"
           }
          ],
          "scatter": [
           {
            "marker": {
             "colorbar": {
              "outlinewidth": 0,
              "ticks": ""
             }
            },
            "type": "scatter"
           }
          ],
          "scatter3d": [
           {
            "line": {
             "colorbar": {
              "outlinewidth": 0,
              "ticks": ""
             }
            },
            "marker": {
             "colorbar": {
              "outlinewidth": 0,
              "ticks": ""
             }
            },
            "type": "scatter3d"
           }
          ],
          "scattercarpet": [
           {
            "marker": {
             "colorbar": {
              "outlinewidth": 0,
              "ticks": ""
             }
            },
            "type": "scattercarpet"
           }
          ],
          "scattergeo": [
           {
            "marker": {
             "colorbar": {
              "outlinewidth": 0,
              "ticks": ""
             }
            },
            "type": "scattergeo"
           }
          ],
          "scattergl": [
           {
            "marker": {
             "colorbar": {
              "outlinewidth": 0,
              "ticks": ""
             }
            },
            "type": "scattergl"
           }
          ],
          "scattermapbox": [
           {
            "marker": {
             "colorbar": {
              "outlinewidth": 0,
              "ticks": ""
             }
            },
            "type": "scattermapbox"
           }
          ],
          "scatterpolar": [
           {
            "marker": {
             "colorbar": {
              "outlinewidth": 0,
              "ticks": ""
             }
            },
            "type": "scatterpolar"
           }
          ],
          "scatterpolargl": [
           {
            "marker": {
             "colorbar": {
              "outlinewidth": 0,
              "ticks": ""
             }
            },
            "type": "scatterpolargl"
           }
          ],
          "scatterternary": [
           {
            "marker": {
             "colorbar": {
              "outlinewidth": 0,
              "ticks": ""
             }
            },
            "type": "scatterternary"
           }
          ],
          "surface": [
           {
            "colorbar": {
             "outlinewidth": 0,
             "ticks": ""
            },
            "colorscale": [
             [
              0,
              "#0d0887"
             ],
             [
              0.1111111111111111,
              "#46039f"
             ],
             [
              0.2222222222222222,
              "#7201a8"
             ],
             [
              0.3333333333333333,
              "#9c179e"
             ],
             [
              0.4444444444444444,
              "#bd3786"
             ],
             [
              0.5555555555555556,
              "#d8576b"
             ],
             [
              0.6666666666666666,
              "#ed7953"
             ],
             [
              0.7777777777777778,
              "#fb9f3a"
             ],
             [
              0.8888888888888888,
              "#fdca26"
             ],
             [
              1,
              "#f0f921"
             ]
            ],
            "type": "surface"
           }
          ],
          "table": [
           {
            "cells": {
             "fill": {
              "color": "#EBF0F8"
             },
             "line": {
              "color": "white"
             }
            },
            "header": {
             "fill": {
              "color": "#C8D4E3"
             },
             "line": {
              "color": "white"
             }
            },
            "type": "table"
           }
          ]
         },
         "layout": {
          "annotationdefaults": {
           "arrowcolor": "#2a3f5f",
           "arrowhead": 0,
           "arrowwidth": 1
          },
          "coloraxis": {
           "colorbar": {
            "outlinewidth": 0,
            "ticks": ""
           }
          },
          "colorscale": {
           "diverging": [
            [
             0,
             "#8e0152"
            ],
            [
             0.1,
             "#c51b7d"
            ],
            [
             0.2,
             "#de77ae"
            ],
            [
             0.3,
             "#f1b6da"
            ],
            [
             0.4,
             "#fde0ef"
            ],
            [
             0.5,
             "#f7f7f7"
            ],
            [
             0.6,
             "#e6f5d0"
            ],
            [
             0.7,
             "#b8e186"
            ],
            [
             0.8,
             "#7fbc41"
            ],
            [
             0.9,
             "#4d9221"
            ],
            [
             1,
             "#276419"
            ]
           ],
           "sequential": [
            [
             0,
             "#0d0887"
            ],
            [
             0.1111111111111111,
             "#46039f"
            ],
            [
             0.2222222222222222,
             "#7201a8"
            ],
            [
             0.3333333333333333,
             "#9c179e"
            ],
            [
             0.4444444444444444,
             "#bd3786"
            ],
            [
             0.5555555555555556,
             "#d8576b"
            ],
            [
             0.6666666666666666,
             "#ed7953"
            ],
            [
             0.7777777777777778,
             "#fb9f3a"
            ],
            [
             0.8888888888888888,
             "#fdca26"
            ],
            [
             1,
             "#f0f921"
            ]
           ],
           "sequentialminus": [
            [
             0,
             "#0d0887"
            ],
            [
             0.1111111111111111,
             "#46039f"
            ],
            [
             0.2222222222222222,
             "#7201a8"
            ],
            [
             0.3333333333333333,
             "#9c179e"
            ],
            [
             0.4444444444444444,
             "#bd3786"
            ],
            [
             0.5555555555555556,
             "#d8576b"
            ],
            [
             0.6666666666666666,
             "#ed7953"
            ],
            [
             0.7777777777777778,
             "#fb9f3a"
            ],
            [
             0.8888888888888888,
             "#fdca26"
            ],
            [
             1,
             "#f0f921"
            ]
           ]
          },
          "colorway": [
           "#1f77b4",
           "#ff7f0e",
           "#2ca02c",
           "#d62728",
           "#9467bd",
           "#8c564b",
           "#e377c2",
           "#7f7f7f",
           "#bcbd22",
           "#17becf"
          ],
          "font": {
           "color": "#2a3f5f"
          },
          "geo": {
           "bgcolor": "white",
           "lakecolor": "white",
           "landcolor": "white",
           "showlakes": true,
           "showland": true,
           "subunitcolor": "#C8D4E3"
          },
          "hoverlabel": {
           "align": "left"
          },
          "hovermode": "closest",
          "mapbox": {
           "style": "light"
          },
          "paper_bgcolor": "white",
          "plot_bgcolor": "white",
          "polar": {
           "angularaxis": {
            "gridcolor": "#EBF0F8",
            "linecolor": "#EBF0F8",
            "ticks": ""
           },
           "bgcolor": "white",
           "radialaxis": {
            "gridcolor": "#EBF0F8",
            "linecolor": "#EBF0F8",
            "ticks": ""
           }
          },
          "scene": {
           "camera": {
            "center": {
             "x": 0,
             "y": 0,
             "z": 0
            },
            "eye": {
             "x": 2,
             "y": 2,
             "z": 2
            },
            "up": {
             "x": 0,
             "y": 0,
             "z": 1
            }
           },
           "xaxis": {
            "backgroundcolor": "white",
            "gridcolor": "#DFE8F3",
            "gridwidth": 2,
            "linecolor": "#EBF0F8",
            "showbackground": true,
            "showspikes": false,
            "ticks": "",
            "zerolinecolor": "#EBF0F8"
           },
           "yaxis": {
            "backgroundcolor": "white",
            "gridcolor": "#DFE8F3",
            "gridwidth": 2,
            "linecolor": "#EBF0F8",
            "showbackground": true,
            "showspikes": false,
            "ticks": "",
            "zerolinecolor": "#EBF0F8"
           },
           "zaxis": {
            "backgroundcolor": "white",
            "gridcolor": "#DFE8F3",
            "gridwidth": 2,
            "linecolor": "#EBF0F8",
            "showbackground": true,
            "showspikes": false,
            "ticks": "",
            "zerolinecolor": "#EBF0F8"
           }
          },
          "shapedefaults": {
           "line": {
            "color": "#2a3f5f"
           }
          },
          "ternary": {
           "aaxis": {
            "gridcolor": "#DFE8F3",
            "linecolor": "#A2B1C6",
            "ticks": ""
           },
           "baxis": {
            "gridcolor": "#DFE8F3",
            "linecolor": "#A2B1C6",
            "ticks": ""
           },
           "bgcolor": "white",
           "caxis": {
            "gridcolor": "#DFE8F3",
            "linecolor": "#A2B1C6",
            "ticks": ""
           }
          },
          "title": {
           "x": 0.05
          },
          "xaxis": {
           "automargin": true,
           "gridcolor": "#EBF0F8",
           "linecolor": "black",
           "linewidth": 2,
           "mirror": true,
           "showline": true,
           "ticks": "",
           "title": {
            "standoff": 15
           },
           "zeroline": false,
           "zerolinecolor": "#EBF0F8",
           "zerolinewidth": 2
          },
          "yaxis": {
           "automargin": true,
           "gridcolor": "#EBF0F8",
           "linecolor": "black",
           "linewidth": 2,
           "mirror": true,
           "showline": true,
           "ticks": "",
           "title": {
            "standoff": 15
           },
           "zeroline": false,
           "zerolinecolor": "#EBF0F8",
           "zerolinewidth": 2
          }
         }
        },
        "title": {
         "text": "Rotor Model"
        },
        "xaxis": {
         "mirror": true,
         "range": [
          -0.06520000000000001,
          0.7172000000000001
         ],
         "showgrid": false,
         "title": {
          "text": "Axial location (m)"
         }
        },
        "yaxis": {
         "mirror": true,
         "range": [
          -0.1956,
          0.1956
         ],
         "showgrid": false,
         "title": {
          "text": "Shaft radius (m)"
         }
        }
       }
      }
     },
     "metadata": {}
    }
   ],
   "source": [
    "# ===========================================\n",
    "# ROTOR\n",
    "#\n",
    "\n",
    "rotor = rs.Rotor(shaft_elements, [disk_geo], bearings)\n",
    "rotor.plot_rotor()"
   ]
  },
  {
   "cell_type": "code",
   "execution_count": 7,
   "metadata": {},
   "outputs": [
    {
     "output_type": "display_data",
     "data": {
      "application/vnd.plotly.v1+json": {
       "config": {
        "plotlyServerURL": "https://plot.ly"
       },
       "data": [
        {
         "hovertemplate": "Frequency (rad/s): %{x:.2f}<br>Critical Speed (rad/s): %{y:.2f}",
         "legendgroup": "Crit. Speed",
         "marker": {
          "color": "black",
          "symbol": "x"
         },
         "mode": "markers",
         "name": "Crit. Speed",
         "showlegend": true,
         "type": "scatter",
         "x": [
          158.8148277867292,
          159.01742475330911,
          623.5516142804321
         ],
         "y": [
          158.8148277867292,
          159.01742475330911,
          623.5516142804321
         ]
        },
        {
         "hoverinfo": "none",
         "legendgroup": "Foward",
         "marker": {
          "color": [
           0.000010646303067801885,
           0.000010647071123034682,
           0.000010648350356911896,
           0.000010650140701423987,
           0.000010652440593364443,
           0.000010655248926254952,
           0.000010658564186804546,
           0.000010662384112510091,
           0.000010666706947820946,
           0.000010671529898384193,
           0.000010676850589666808,
           0.000010682666005246052,
           0.00001068897262879377,
           0.000010695767076060242,
           0.000010703045458606105,
           0.000010710804437394236,
           0.000010719037795972405,
           0.000010727743476751937,
           0.000010736915217773958,
           0.000010746548296332075,
           0.000010756638277107024,
           0.000010767178890956697,
           0.000010778164681815841,
           0.000010789590460339015,
           0.000010801449817757854,
           0.000010813736294530167,
           0.00001082644417384737,
           0.000010839566680736767,
           0.00001085309701617534,
           0.000010867029362533143,
           0.000010881355744526102,
           0.000010896068354144685,
           0.000010911162120102956,
           0.000010926628397783268,
           0.000010942461002382872,
           0.000010958651517708773,
           0.000010975192464532614,
           0.000010992076285748839,
           0.00001100929506618199,
           0.000011026843162800715,
           0.000011044710276089161,
           0.000011062888771187606,
           0.000011081372758184531,
           0.000011100152617344908,
           0.000011119220015327283,
           0.000011138569935157617,
           0.000011158191632986612,
           0.000011178078278826814,
           0.000011198221924664708,
           0.000011218614593239575
          ],
          "coloraxis": "coloraxis",
          "symbol": "triangle-up"
         },
         "mode": "markers",
         "name": "Foward",
         "showlegend": false,
         "type": "scatter",
         "x": [
          20,
          40,
          60,
          80,
          100,
          120,
          140,
          160,
          180,
          200,
          220,
          240,
          260,
          280,
          300,
          320,
          340,
          360,
          380,
          400,
          420,
          440,
          460,
          480,
          500,
          520,
          540,
          560,
          580,
          600,
          620,
          640,
          660,
          680,
          700,
          720,
          740,
          760,
          780,
          800,
          820,
          840,
          860,
          880,
          900,
          920,
          940,
          960,
          980,
          1000
         ],
         "y": [
          159.0172234729943,
          159.0172331804135,
          159.01724935743073,
          159.0172720008367,
          159.0173011063765,
          159.0173366684313,
          159.0173786802543,
          159.01742713377038,
          159.01748201980232,
          159.0175433279058,
          159.01761104650717,
          159.0176851626498,
          159.0177656625655,
          159.01785253090088,
          159.01794575149938,
          159.01804530675864,
          159.01815117870564,
          159.0182633470521,
          159.0183817913832,
          159.01850649003597,
          159.01863742002473,
          159.01877455765117,
          159.01891787797416,
          159.01906735543332,
          159.0192229630138,
          159.01938467322447,
          159.01955245736718,
          159.01972628595755,
          159.0199061287722,
          159.02009195458933,
          159.02028373124514,
          159.0204814261764,
          159.02068500581188,
          159.02089443581715,
          159.0211096812988,
          159.02133070654418,
          159.0215574753243,
          159.02178995043195,
          159.02202809484658,
          159.0222718700564,
          159.02252123746803,
          159.0227761579246,
          159.0230365917492,
          159.02330249873359,
          159.0235738384939,
          159.02385056981066,
          159.02413265134462,
          159.02442004138842,
          159.02471269783274,
          159.02501057823295
         ]
        },
        {
         "hoverinfo": "none",
         "legendgroup": "Foward",
         "marker": {
          "color": [
           0.00020891350491582792,
           0.00021641695587891854,
           0.00022179512555397797,
           0.00022674219974372248,
           0.0002316030868546096,
           0.00023649699645876033,
           0.00024147849146782804,
           0.00024657833372131134,
           0.00025181629964416867,
           0.0002572074927710893,
           0.0002627640352823925,
           0.0002684964735537455,
           0.00027441487197888055,
           0.00028052863322237725,
           0.0002868471099299601,
           0.0002933792570570448,
           0.00030013441603990573,
           0.000307122122723592,
           0.00031435170556209875,
           0.00032183299667432644,
           0.00032957556542666396,
           0.0003375896915221175,
           0.0003458853407983464,
           0.00035447345444577924,
           0.0003633641756365105,
           0.0003725687079896519,
           0.00038209816215978065,
           0.0003919635122051865,
           0.00040217649965990684,
           0.00041274893189592187,
           0.000423692204275352,
           0.00043501880789428507,
           0.00044674038820242625,
           0.0004588692525139908,
           0.0004714177339149687,
           0.00048439813428651673,
           0.000497822659579137,
           0.0005117039230482021,
           0.000526054069487819,
           0.0005408850227584831,
           0.0005562093196890878,
           0.0005720380962427776,
           0.0005883840530121945,
           0.0006052567757063251,
           0.0006226694277299465,
           0.000640631241884685,
           0.0006591521542733879,
           0.000678241646002516,
           0.0006979091261158883,
           0.0007181622950164188
          ],
          "coloraxis": "coloraxis",
          "symbol": "triangle-up"
         },
         "mode": "markers",
         "name": "Foward",
         "showlegend": false,
         "type": "scatter",
         "x": [
          20,
          40,
          60,
          80,
          100,
          120,
          140,
          160,
          180,
          200,
          220,
          240,
          260,
          280,
          300,
          320,
          340,
          360,
          380,
          400,
          420,
          440,
          460,
          480,
          500,
          520,
          540,
          560,
          580,
          600,
          620,
          640,
          660,
          680,
          700,
          720,
          740,
          760,
          780,
          800,
          820,
          840,
          860,
          880,
          900,
          920,
          940,
          960,
          980,
          1000
         ],
         "y": [
          1013.2101462042339,
          1028.9755640854023,
          1044.975725459489,
          1061.1978299671118,
          1077.6373497422678,
          1094.290930803952,
          1111.1553777368624,
          1128.2274018768464,
          1145.5035397253223,
          1162.980123329672,
          1180.6532690188312,
          1198.5188750566053,
          1216.5726230761513,
          1234.8099814940983,
          1253.2262108340447,
          1271.8163690922431,
          1290.5753185486817,
          1309.4977324573074,
          1328.5781018598661,
          1347.8107434387678,
          1367.1898062364014,
          1386.7092798495992,
          1406.3630015371577,
          1426.144663665647,
          1446.047821462371,
          1466.0659003105063,
          1486.1922027518692,
          1506.4199157114053,
          1526.742117796051,
          1547.1517855997495,
          1567.6418010019331,
          1588.2049572230774,
          1608.8339655422542,
          1629.5214614199344,
          1650.2600108214758,
          1671.042115881929,
          1691.860221599035,
          1712.7067209772695,
          1733.5739615968769,
          1754.4542510556328,
          1775.339863089653,
          1796.2230431797038,
          1817.0960156549852,
          1837.9509886959188,
          1858.7801612350656,
          1879.575729439748,
          1900.329893457054,
          1921.0348648852512,
          1941.6828724869604,
          1962.2661717745577
         ]
        },
        {
         "hoverinfo": "none",
         "legendgroup": "Foward",
         "marker": {
          "color": [
           0.0014122025629720524,
           0.0014181326943615144,
           0.0014279631050973093,
           0.0014416155869348864,
           0.0014589846389893872,
           0.0014799381418720504,
           0.0015043228869742198,
           0.001531964930870149,
           0.001562679167147762,
           0.0015962667355433218,
           0.001632524791728663,
           0.0016712462210399389,
           0.0017122222025944154,
           0.001755250021969923,
           0.0018001324425460001,
           0.0018466770416630282,
           0.0018947022670251295,
           0.0019440402961919648,
           0.001994526654813765,
           0.002046015984310506,
           0.0020983722395891743,
           0.0021514676177017927,
           0.0022051903231827125,
           0.0022594405635010906,
           0.002314127071943247,
           0.0023691583194100176,
           0.002424475938677298,
           0.0024800026598750828,
           0.002535689010194037,
           0.00259148003033868,
           0.0026473379844154364,
           0.0027032178002600648,
           0.0027590921324541625,
           0.0028149289929940862,
           0.002870705905519141,
           0.0029264014029176336,
           0.002982000464053995,
           0.0030374783008375724,
           0.0030928347907626533,
           0.00314805067248762,
           0.003203119654486396,
           0.003258036606668293,
           0.0033127879005312665,
           0.003367376730118348,
           0.0034217895589992685,
           0.0034760320224134548,
           0.0035300969363427164,
           0.0035839810223357127,
           0.0036376811915398207,
           0.0036911995336663048
          ],
          "coloraxis": "coloraxis",
          "symbol": "triangle-up"
         },
         "mode": "markers",
         "name": "Foward",
         "showlegend": false,
         "type": "scatter",
         "x": [
          20,
          40,
          60,
          80,
          100,
          120,
          140,
          160,
          180,
          200,
          220,
          240,
          260,
          280,
          300,
          320,
          340,
          360,
          380,
          400,
          420,
          440,
          460,
          480,
          500,
          520,
          540,
          560,
          580,
          600,
          620,
          640,
          660,
          680,
          700,
          720,
          740,
          760,
          780,
          800,
          820,
          840,
          860,
          880,
          900,
          920,
          940,
          960,
          980,
          1000
         ],
         "y": [
          3532.2866833231305,
          3532.314268466462,
          3532.3601329494927,
          3532.4241090941778,
          3532.505972527029,
          3532.6054353313193,
          3532.7221562097925,
          3532.855743396271,
          3533.005766370499,
          3533.1717481140554,
          3533.3531827361426,
          3533.5495363109453,
          3533.7602590613233,
          3533.984776936096,
          3534.2225133633247,
          3534.472882305653,
          3534.735293533407,
          3535.009169289012,
          3535.293929323069,
          3535.589003606941,
          3535.893834839605,
          3536.2078812849036,
          3536.5306085985694,
          3536.8615094257766,
          3537.2000827280835,
          3537.5458508315032,
          3537.898349673725,
          3538.2571392775094,
          3538.6217937850097,
          3538.9919017332722,
          3539.3670757898176,
          3539.746941321238,
          3540.13114055752,
          3540.5193324295237,
          3540.9111901993774,
          3541.306403534278,
          3541.7046768717464,
          3542.1057220662688,
          3542.5092735110616,
          3542.915074164827,
          3543.3228705500424,
          3543.732433941672,
          3544.143537775997,
          3544.555969189406,
          3544.9695206822803,
          3545.384001639739,
          3545.7992230226187,
          3546.2150071701717,
          3546.6311846136455,
          3547.047590786362
         ]
        },
        {
         "hoverinfo": "none",
         "legendgroup": "Backward",
         "marker": {
          "color": [
           0.00002646262830327923,
           0.000026461860429463077,
           0.00002646058108216431,
           0.0000264587907957984,
           0.000026456490976234114,
           0.00002645368266548982,
           0.00002645036760445137,
           0.000026446547558308462,
           0.00002644222479946047,
           0.000026437401959983545,
           0.000026432081345639372,
           0.000026426266038868606,
           0.00002641995953308617,
           0.000026413165239738385,
           0.000026405887042832005,
           0.000026398128237923068,
           0.00002638989492133218,
           0.00002638118938372536,
           0.00002637201788661825,
           0.000026362384981667126,
           0.000026352295142683833,
           0.0000263417547338662,
           0.00002633076912587519,
           0.000026319343615287015,
           0.00002630748444843128,
           0.000026295198249305076,
           0.00002628249063592329,
           0.00002626936833212788,
           0.000026255838314372244,
           0.000026241906364957013,
           0.000026227580157402023,
           0.000026212867805902326,
           0.00002619777436752139,
           0.000026182308346202888,
           0.000026166476189504125,
           0.000026150285884208944,
           0.000026133745265431987,
           0.000026116861733734603,
           0.000026099643494719687,
           0.000026082095653938758,
           0.00002606422888747716,
           0.000026046050770555977,
           0.000026027567174868835,
           0.000026008787738265076,
           0.00002598972068524462,
           0.000025970371188159518,
           0.000025950749908853958,
           0.00002593086372349532,
           0.000025910720543697168,
           0.000025890328190367106
          ],
          "coloraxis": "coloraxis",
          "symbol": "triangle-down"
         },
         "mode": "markers",
         "name": "Backward",
         "showlegend": false,
         "type": "scatter",
         "x": [
          20,
          40,
          60,
          80,
          100,
          120,
          140,
          160,
          180,
          200,
          220,
          240,
          260,
          280,
          300,
          320,
          340,
          360,
          380,
          400,
          420,
          440,
          460,
          480,
          500,
          520,
          540,
          560,
          580,
          600,
          620,
          640,
          660,
          680,
          700,
          720,
          740,
          760,
          780,
          800,
          820,
          840,
          860,
          880,
          900,
          920,
          940,
          960,
          980,
          1000
         ],
         "y": [
          158.8150283690004,
          158.8150186715855,
          158.81500251136376,
          158.81497989128886,
          158.81495081578745,
          158.81491529034625,
          158.81487332184753,
          158.81482491840868,
          158.81477008900475,
          158.81470884426753,
          158.8146411957495,
          158.81456715623167,
          158.8144867397073,
          158.8143999613476,
          158.81430683739433,
          158.8142073853265,
          158.81410162351486,
          158.81398957170305,
          158.81387125065078,
          158.81374668190793,
          158.8136158884604,
          158.8134788939732,
          158.81333572337388,
          158.81318640240454,
          158.81303095772506,
          158.81286941729465,
          158.81270180939774,
          158.81252816369346,
          158.8123485103734,
          158.81216288045655,
          158.81197130658109,
          158.81177382092417,
          158.81157045707462,
          158.81136124947682,
          158.81114623291725,
          158.81092544316985,
          158.81069891650765,
          158.81046668982992,
          158.81022880071504,
          158.80998528718635,
          158.80973618797051,
          158.8094815422164,
          158.80922138958968,
          158.8089557702639,
          158.80868472469632,
          158.8084082940566,
          158.80812651959548,
          158.80783944310608,
          158.80754710665812,
          158.8072495526835
         ]
        },
        {
         "hoverinfo": "none",
         "legendgroup": "Backward",
         "marker": {
          "color": [
           0.00021463064620101175,
           0.00020748569598013703,
           0.00020270569625504282,
           0.00019859749996678242,
           0.00019481760264244272,
           0.0001912486294515555,
           0.0001878382540877181,
           0.00018455837851347122,
           0.00018139218226622872,
           0.00017832808838223502,
           0.00017535779041119893,
           0.00017247490636497248,
           0.00016967405990154269,
           0.0001669508298650685,
           0.00016430128560812095,
           0.00016172212030340468,
           0.00015921018127357565,
           0.00015676254692878046,
           0.00015437669676244398,
           0.00015205010623109825,
           0.000149780707745282,
           0.00014756621076869779,
           0.00014540472815526597,
           0.0001432943551218894,
           0.00014123338322449497,
           0.00013922009610605173,
           0.0001372529213778981,
           0.0001353303977836562,
           0.00013345103790181104,
           0.0001316134918417377,
           0.00012981656545107284,
           0.00012805885980564193,
           0.0001263393127406965,
           0.00012465677469717816,
           0.0001230101471293635,
           0.00012139844763679655,
           0.00011982061049154543,
           0.00011827574575455601,
           0.0001167629270930995,
           0.00011528131380541473,
           0.00011382992732021363,
           0.00011240807669591363,
           0.00011101496833337046,
           0.0001096498297516696,
           0.00010831192765009552,
           0.00010700056192139765,
           0.0001057150631794855,
           0.00010445477106495768,
           0.00010321907127229681,
           0.0001020073082764289
          ],
          "coloraxis": "coloraxis",
          "symbol": "triangle-down"
         },
         "mode": "markers",
         "name": "Backward",
         "showlegend": false,
         "type": "scatter",
         "x": [
          20,
          40,
          60,
          80,
          100,
          120,
          140,
          160,
          180,
          200,
          220,
          240,
          260,
          280,
          300,
          320,
          340,
          360,
          380,
          400,
          420,
          440,
          460,
          480,
          500,
          520,
          540,
          560,
          580,
          600,
          620,
          640,
          660,
          680,
          700,
          720,
          740,
          760,
          780,
          800,
          820,
          840,
          860,
          880,
          900,
          920,
          940,
          960,
          980,
          1000
         ],
         "y": [
          982.2199027653826,
          967.1263308741637,
          952.2450735676165,
          937.5876749401025,
          923.156909355968,
          908.9538852910607,
          894.9790672648143,
          881.2325356333758,
          867.7140772742086,
          854.4232261678237,
          841.3592856231373,
          828.5213436331336,
          815.9082849957134,
          803.5188019522969,
          791.3514044573358,
          779.4044299097055,
          767.6760530911631,
          756.1642959078099,
          744.867037106168,
          733.7820221784355,
          722.9068729606414,
          712.2390974303243,
          701.7760991783018,
          691.5151868626929,
          681.4535834806725,
          671.588435395926,
          661.9168211069795,
          652.4357598198266,
          643.1422197001586,
          634.033125772116,
          625.1053675920748,
          616.3558064688225,
          607.7812824232144,
          599.3786207241378,
          591.1446381257506,
          583.0761486796521,
          575.1699692313047,
          567.4229245448569,
          559.8318520441901,
          552.3936062496182,
          545.1050628321868,
          537.9631223798174,
          530.964713813375,
          524.1067974926389,
          517.3863680426097,
          510.80045689291535,
          504.34613453518716,
          498.0205125368914,
          491.82074529395084,
          485.7440315894143
         ]
        },
        {
         "hoverinfo": "none",
         "legendgroup": "Backward",
         "marker": {
          "color": [
           0.004654933646549158,
           0.004650092970649176,
           0.00464207763794263,
           0.004630964884222298,
           0.004616859072889432,
           0.004599890586687105,
           0.004580210901392699,
           0.004557991044357672,
           0.004533413766695588,
           0.004506674171235685,
           0.004477972396801996,
           0.004447511726745113,
           0.004415496295007777,
           0.004382124544549785,
           0.004347589278046998,
           0.004312076746460484,
           0.004275763295540732,
           0.004238812430615507,
           0.004201379677181311,
           0.004163605564899935,
           0.004125619833834096,
           0.004087541257976941,
           0.004049474260694043,
           0.004011513539659705,
           0.003973741460288509,
           0.003936237339838203,
           0.003899057878365055,
           0.0038622650072946295,
           0.003825903066127227,
           0.0037900152397147037,
           0.0037546331723035085,
           0.0037197884104982733,
           0.0036855003408254676,
           0.0036517894482439757,
           0.00361866880201774,
           0.0035861492905010324,
           0.003554234867797022,
           0.003522937437166715,
           0.0034922505920201323,
           0.0034621778670842793,
           0.003432716467641092,
           0.0034038599408354507,
           0.0033756088945564792,
           0.0033479498106707855,
           0.0033208830328979597,
           0.0032943938849176796,
           0.0032684748618583576,
           0.003243117860374761,
           0.0032183132349789083,
           0.003194048958237824
          ],
          "coloraxis": "coloraxis",
          "symbol": "triangle-down"
         },
         "mode": "markers",
         "name": "Backward",
         "showlegend": false,
         "type": "scatter",
         "x": [
          20,
          40,
          60,
          80,
          100,
          120,
          140,
          160,
          180,
          200,
          220,
          240,
          260,
          280,
          300,
          320,
          340,
          360,
          380,
          400,
          420,
          440,
          460,
          480,
          500,
          520,
          540,
          560,
          580,
          600,
          620,
          640,
          660,
          680,
          700,
          720,
          740,
          760,
          780,
          800,
          820,
          840,
          860,
          880,
          900,
          920,
          940,
          960,
          980,
          1000
         ],
         "y": [
          3501.3132044446425,
          3501.287510778437,
          3501.244790963271,
          3501.1852127990987,
          3501.108995023645,
          3501.016416695892,
          3500.907805080923,
          3500.783546616013,
          3500.644056580523,
          3500.4897990639856,
          3500.3212629578984,
          3500.1389636531076,
          3499.943430057596,
          3499.7352180346656,
          3499.514879686334,
          3499.282982003467,
          3499.04008181083,
          3498.7867372300325,
          3498.523500039396,
          3498.250903622138,
          3497.9694841843793,
          3497.6797480855657,
          3497.382191303708,
          3497.0772985622975,
          3496.765528097708,
          3496.447324998971,
          3496.1231119797394,
          3495.7932975582253,
          3495.458267277465,
          3495.118389279747,
          3494.7740172384983,
          3494.4254811337387,
          3494.0730997393844,
          3493.7171708312176,
          3493.357981570716,
          3492.99579750268,
          3492.630876681918,
          3492.263456779995,
          3491.893767483875,
          3491.5220232536362,
          3491.148425975214,
          3490.7731717092306,
          3490.396438208777,
          3490.018394609673,
          3489.639207660857,
          3489.2590259680164,
          3488.877998570104,
          3488.4962536579183,
          3488.1139259777788,
          3487.7311383479996
         ]
        },
        {
         "hoverinfo": "none",
         "line": {
          "color": "blue",
          "dash": "dashdot"
         },
         "mode": "lines",
         "name": "1x speed",
         "type": "scatter",
         "x": [
          20,
          40,
          60,
          80,
          100,
          120,
          140,
          160,
          180,
          200,
          220,
          240,
          260,
          280,
          300,
          320,
          340,
          360,
          380,
          400,
          420,
          440,
          460,
          480,
          500,
          520,
          540,
          560,
          580,
          600,
          620,
          640,
          660,
          680,
          700,
          720,
          740,
          760,
          780,
          800,
          820,
          840,
          860,
          880,
          900,
          920,
          940,
          960,
          980,
          1000
         ],
         "y": [
          20,
          40,
          60,
          80,
          100,
          120,
          140,
          160,
          180,
          200,
          220,
          240,
          260,
          280,
          300,
          320,
          340,
          360,
          380,
          400,
          420,
          440,
          460,
          480,
          500,
          520,
          540,
          560,
          580,
          600,
          620,
          640,
          660,
          680,
          700,
          720,
          740,
          760,
          780,
          800,
          820,
          840,
          860,
          880,
          900,
          920,
          940,
          960,
          980,
          1000
         ]
        },
        {
         "hoverinfo": "none",
         "legendgroup": "Foward",
         "marker": {
          "color": "black",
          "symbol": "triangle-up"
         },
         "mode": "markers",
         "name": "Foward",
         "type": "scatter",
         "x": [
          0
         ],
         "y": [
          0
         ]
        },
        {
         "hoverinfo": "none",
         "legendgroup": "Mixed",
         "marker": {
          "color": "black",
          "symbol": "circle"
         },
         "mode": "markers",
         "name": "Mixed",
         "type": "scatter",
         "x": [
          0
         ],
         "y": [
          0
         ]
        },
        {
         "hoverinfo": "none",
         "legendgroup": "Backward",
         "marker": {
          "color": "black",
          "symbol": "triangle-down"
         },
         "mode": "markers",
         "name": "Backward",
         "type": "scatter",
         "x": [
          0
         ],
         "y": [
          0
         ]
        }
       ],
       "layout": {
        "coloraxis": {
         "cmax": 1,
         "cmin": 0,
         "colorbar": {
          "title": {
           "side": "right",
           "text": "<b>Log Dec</b>"
          }
         },
         "colorscale": [
          [
           0,
           "rgb(103,0,31)"
          ],
          [
           0.1,
           "rgb(178,24,43)"
          ],
          [
           0.2,
           "rgb(214,96,77)"
          ],
          [
           0.3,
           "rgb(244,165,130)"
          ],
          [
           0.4,
           "rgb(253,219,199)"
          ],
          [
           0.5,
           "rgb(247,247,247)"
          ],
          [
           0.6,
           "rgb(209,229,240)"
          ],
          [
           0.7,
           "rgb(146,197,222)"
          ],
          [
           0.8,
           "rgb(67,147,195)"
          ],
          [
           0.9,
           "rgb(33,102,172)"
          ],
          [
           1,
           "rgb(5,48,97)"
          ]
         ]
        },
        "legend": {
         "itemsizing": "constant",
         "orientation": "h",
         "x": 0.5,
         "xanchor": "center",
         "y": -0.3,
         "yanchor": "bottom"
        },
        "template": {
         "data": {
          "bar": [
           {
            "error_x": {
             "color": "#2a3f5f"
            },
            "error_y": {
             "color": "#2a3f5f"
            },
            "marker": {
             "line": {
              "color": "white",
              "width": 0.5
             }
            },
            "type": "bar"
           }
          ],
          "barpolar": [
           {
            "marker": {
             "line": {
              "color": "white",
              "width": 0.5
             }
            },
            "type": "barpolar"
           }
          ],
          "carpet": [
           {
            "aaxis": {
             "endlinecolor": "#2a3f5f",
             "gridcolor": "#C8D4E3",
             "linecolor": "#C8D4E3",
             "minorgridcolor": "#C8D4E3",
             "startlinecolor": "#2a3f5f"
            },
            "baxis": {
             "endlinecolor": "#2a3f5f",
             "gridcolor": "#C8D4E3",
             "linecolor": "#C8D4E3",
             "minorgridcolor": "#C8D4E3",
             "startlinecolor": "#2a3f5f"
            },
            "type": "carpet"
           }
          ],
          "choropleth": [
           {
            "colorbar": {
             "outlinewidth": 0,
             "ticks": ""
            },
            "type": "choropleth"
           }
          ],
          "contour": [
           {
            "colorbar": {
             "outlinewidth": 0,
             "ticks": ""
            },
            "colorscale": [
             [
              0,
              "#0d0887"
             ],
             [
              0.1111111111111111,
              "#46039f"
             ],
             [
              0.2222222222222222,
              "#7201a8"
             ],
             [
              0.3333333333333333,
              "#9c179e"
             ],
             [
              0.4444444444444444,
              "#bd3786"
             ],
             [
              0.5555555555555556,
              "#d8576b"
             ],
             [
              0.6666666666666666,
              "#ed7953"
             ],
             [
              0.7777777777777778,
              "#fb9f3a"
             ],
             [
              0.8888888888888888,
              "#fdca26"
             ],
             [
              1,
              "#f0f921"
             ]
            ],
            "type": "contour"
           }
          ],
          "contourcarpet": [
           {
            "colorbar": {
             "outlinewidth": 0,
             "ticks": ""
            },
            "type": "contourcarpet"
           }
          ],
          "heatmap": [
           {
            "colorbar": {
             "outlinewidth": 0,
             "ticks": ""
            },
            "colorscale": [
             [
              0,
              "#0d0887"
             ],
             [
              0.1111111111111111,
              "#46039f"
             ],
             [
              0.2222222222222222,
              "#7201a8"
             ],
             [
              0.3333333333333333,
              "#9c179e"
             ],
             [
              0.4444444444444444,
              "#bd3786"
             ],
             [
              0.5555555555555556,
              "#d8576b"
             ],
             [
              0.6666666666666666,
              "#ed7953"
             ],
             [
              0.7777777777777778,
              "#fb9f3a"
             ],
             [
              0.8888888888888888,
              "#fdca26"
             ],
             [
              1,
              "#f0f921"
             ]
            ],
            "type": "heatmap"
           }
          ],
          "heatmapgl": [
           {
            "colorbar": {
             "outlinewidth": 0,
             "ticks": ""
            },
            "colorscale": [
             [
              0,
              "#0d0887"
             ],
             [
              0.1111111111111111,
              "#46039f"
             ],
             [
              0.2222222222222222,
              "#7201a8"
             ],
             [
              0.3333333333333333,
              "#9c179e"
             ],
             [
              0.4444444444444444,
              "#bd3786"
             ],
             [
              0.5555555555555556,
              "#d8576b"
             ],
             [
              0.6666666666666666,
              "#ed7953"
             ],
             [
              0.7777777777777778,
              "#fb9f3a"
             ],
             [
              0.8888888888888888,
              "#fdca26"
             ],
             [
              1,
              "#f0f921"
             ]
            ],
            "type": "heatmapgl"
           }
          ],
          "histogram": [
           {
            "marker": {
             "colorbar": {
              "outlinewidth": 0,
              "ticks": ""
             }
            },
            "type": "histogram"
           }
          ],
          "histogram2d": [
           {
            "colorbar": {
             "outlinewidth": 0,
             "ticks": ""
            },
            "colorscale": [
             [
              0,
              "#0d0887"
             ],
             [
              0.1111111111111111,
              "#46039f"
             ],
             [
              0.2222222222222222,
              "#7201a8"
             ],
             [
              0.3333333333333333,
              "#9c179e"
             ],
             [
              0.4444444444444444,
              "#bd3786"
             ],
             [
              0.5555555555555556,
              "#d8576b"
             ],
             [
              0.6666666666666666,
              "#ed7953"
             ],
             [
              0.7777777777777778,
              "#fb9f3a"
             ],
             [
              0.8888888888888888,
              "#fdca26"
             ],
             [
              1,
              "#f0f921"
             ]
            ],
            "type": "histogram2d"
           }
          ],
          "histogram2dcontour": [
           {
            "colorbar": {
             "outlinewidth": 0,
             "ticks": ""
            },
            "colorscale": [
             [
              0,
              "#0d0887"
             ],
             [
              0.1111111111111111,
              "#46039f"
             ],
             [
              0.2222222222222222,
              "#7201a8"
             ],
             [
              0.3333333333333333,
              "#9c179e"
             ],
             [
              0.4444444444444444,
              "#bd3786"
             ],
             [
              0.5555555555555556,
              "#d8576b"
             ],
             [
              0.6666666666666666,
              "#ed7953"
             ],
             [
              0.7777777777777778,
              "#fb9f3a"
             ],
             [
              0.8888888888888888,
              "#fdca26"
             ],
             [
              1,
              "#f0f921"
             ]
            ],
            "type": "histogram2dcontour"
           }
          ],
          "mesh3d": [
           {
            "colorbar": {
             "outlinewidth": 0,
             "ticks": ""
            },
            "type": "mesh3d"
           }
          ],
          "parcoords": [
           {
            "line": {
             "colorbar": {
              "outlinewidth": 0,
              "ticks": ""
             }
            },
            "type": "parcoords"
           }
          ],
          "pie": [
           {
            "automargin": true,
            "type": "pie"
           }
          ],
          "scatter": [
           {
            "marker": {
             "colorbar": {
              "outlinewidth": 0,
              "ticks": ""
             }
            },
            "type": "scatter"
           }
          ],
          "scatter3d": [
           {
            "line": {
             "colorbar": {
              "outlinewidth": 0,
              "ticks": ""
             }
            },
            "marker": {
             "colorbar": {
              "outlinewidth": 0,
              "ticks": ""
             }
            },
            "type": "scatter3d"
           }
          ],
          "scattercarpet": [
           {
            "marker": {
             "colorbar": {
              "outlinewidth": 0,
              "ticks": ""
             }
            },
            "type": "scattercarpet"
           }
          ],
          "scattergeo": [
           {
            "marker": {
             "colorbar": {
              "outlinewidth": 0,
              "ticks": ""
             }
            },
            "type": "scattergeo"
           }
          ],
          "scattergl": [
           {
            "marker": {
             "colorbar": {
              "outlinewidth": 0,
              "ticks": ""
             }
            },
            "type": "scattergl"
           }
          ],
          "scattermapbox": [
           {
            "marker": {
             "colorbar": {
              "outlinewidth": 0,
              "ticks": ""
             }
            },
            "type": "scattermapbox"
           }
          ],
          "scatterpolar": [
           {
            "marker": {
             "colorbar": {
              "outlinewidth": 0,
              "ticks": ""
             }
            },
            "type": "scatterpolar"
           }
          ],
          "scatterpolargl": [
           {
            "marker": {
             "colorbar": {
              "outlinewidth": 0,
              "ticks": ""
             }
            },
            "type": "scatterpolargl"
           }
          ],
          "scatterternary": [
           {
            "marker": {
             "colorbar": {
              "outlinewidth": 0,
              "ticks": ""
             }
            },
            "type": "scatterternary"
           }
          ],
          "surface": [
           {
            "colorbar": {
             "outlinewidth": 0,
             "ticks": ""
            },
            "colorscale": [
             [
              0,
              "#0d0887"
             ],
             [
              0.1111111111111111,
              "#46039f"
             ],
             [
              0.2222222222222222,
              "#7201a8"
             ],
             [
              0.3333333333333333,
              "#9c179e"
             ],
             [
              0.4444444444444444,
              "#bd3786"
             ],
             [
              0.5555555555555556,
              "#d8576b"
             ],
             [
              0.6666666666666666,
              "#ed7953"
             ],
             [
              0.7777777777777778,
              "#fb9f3a"
             ],
             [
              0.8888888888888888,
              "#fdca26"
             ],
             [
              1,
              "#f0f921"
             ]
            ],
            "type": "surface"
           }
          ],
          "table": [
           {
            "cells": {
             "fill": {
              "color": "#EBF0F8"
             },
             "line": {
              "color": "white"
             }
            },
            "header": {
             "fill": {
              "color": "#C8D4E3"
             },
             "line": {
              "color": "white"
             }
            },
            "type": "table"
           }
          ]
         },
         "layout": {
          "annotationdefaults": {
           "arrowcolor": "#2a3f5f",
           "arrowhead": 0,
           "arrowwidth": 1
          },
          "coloraxis": {
           "colorbar": {
            "outlinewidth": 0,
            "ticks": ""
           }
          },
          "colorscale": {
           "diverging": [
            [
             0,
             "#8e0152"
            ],
            [
             0.1,
             "#c51b7d"
            ],
            [
             0.2,
             "#de77ae"
            ],
            [
             0.3,
             "#f1b6da"
            ],
            [
             0.4,
             "#fde0ef"
            ],
            [
             0.5,
             "#f7f7f7"
            ],
            [
             0.6,
             "#e6f5d0"
            ],
            [
             0.7,
             "#b8e186"
            ],
            [
             0.8,
             "#7fbc41"
            ],
            [
             0.9,
             "#4d9221"
            ],
            [
             1,
             "#276419"
            ]
           ],
           "sequential": [
            [
             0,
             "#0d0887"
            ],
            [
             0.1111111111111111,
             "#46039f"
            ],
            [
             0.2222222222222222,
             "#7201a8"
            ],
            [
             0.3333333333333333,
             "#9c179e"
            ],
            [
             0.4444444444444444,
             "#bd3786"
            ],
            [
             0.5555555555555556,
             "#d8576b"
            ],
            [
             0.6666666666666666,
             "#ed7953"
            ],
            [
             0.7777777777777778,
             "#fb9f3a"
            ],
            [
             0.8888888888888888,
             "#fdca26"
            ],
            [
             1,
             "#f0f921"
            ]
           ],
           "sequentialminus": [
            [
             0,
             "#0d0887"
            ],
            [
             0.1111111111111111,
             "#46039f"
            ],
            [
             0.2222222222222222,
             "#7201a8"
            ],
            [
             0.3333333333333333,
             "#9c179e"
            ],
            [
             0.4444444444444444,
             "#bd3786"
            ],
            [
             0.5555555555555556,
             "#d8576b"
            ],
            [
             0.6666666666666666,
             "#ed7953"
            ],
            [
             0.7777777777777778,
             "#fb9f3a"
            ],
            [
             0.8888888888888888,
             "#fdca26"
            ],
            [
             1,
             "#f0f921"
            ]
           ]
          },
          "colorway": [
           "#1f77b4",
           "#ff7f0e",
           "#2ca02c",
           "#d62728",
           "#9467bd",
           "#8c564b",
           "#e377c2",
           "#7f7f7f",
           "#bcbd22",
           "#17becf"
          ],
          "font": {
           "color": "#2a3f5f"
          },
          "geo": {
           "bgcolor": "white",
           "lakecolor": "white",
           "landcolor": "white",
           "showlakes": true,
           "showland": true,
           "subunitcolor": "#C8D4E3"
          },
          "hoverlabel": {
           "align": "left"
          },
          "hovermode": "closest",
          "mapbox": {
           "style": "light"
          },
          "paper_bgcolor": "white",
          "plot_bgcolor": "white",
          "polar": {
           "angularaxis": {
            "gridcolor": "#EBF0F8",
            "linecolor": "#EBF0F8",
            "ticks": ""
           },
           "bgcolor": "white",
           "radialaxis": {
            "gridcolor": "#EBF0F8",
            "linecolor": "#EBF0F8",
            "ticks": ""
           }
          },
          "scene": {
           "camera": {
            "center": {
             "x": 0,
             "y": 0,
             "z": 0
            },
            "eye": {
             "x": 2,
             "y": 2,
             "z": 2
            },
            "up": {
             "x": 0,
             "y": 0,
             "z": 1
            }
           },
           "xaxis": {
            "backgroundcolor": "white",
            "gridcolor": "#DFE8F3",
            "gridwidth": 2,
            "linecolor": "#EBF0F8",
            "showbackground": true,
            "showspikes": false,
            "ticks": "",
            "zerolinecolor": "#EBF0F8"
           },
           "yaxis": {
            "backgroundcolor": "white",
            "gridcolor": "#DFE8F3",
            "gridwidth": 2,
            "linecolor": "#EBF0F8",
            "showbackground": true,
            "showspikes": false,
            "ticks": "",
            "zerolinecolor": "#EBF0F8"
           },
           "zaxis": {
            "backgroundcolor": "white",
            "gridcolor": "#DFE8F3",
            "gridwidth": 2,
            "linecolor": "#EBF0F8",
            "showbackground": true,
            "showspikes": false,
            "ticks": "",
            "zerolinecolor": "#EBF0F8"
           }
          },
          "shapedefaults": {
           "line": {
            "color": "#2a3f5f"
           }
          },
          "ternary": {
           "aaxis": {
            "gridcolor": "#DFE8F3",
            "linecolor": "#A2B1C6",
            "ticks": ""
           },
           "baxis": {
            "gridcolor": "#DFE8F3",
            "linecolor": "#A2B1C6",
            "ticks": ""
           },
           "bgcolor": "white",
           "caxis": {
            "gridcolor": "#DFE8F3",
            "linecolor": "#A2B1C6",
            "ticks": ""
           }
          },
          "title": {
           "x": 0.05
          },
          "xaxis": {
           "automargin": true,
           "gridcolor": "#EBF0F8",
           "linecolor": "black",
           "linewidth": 2,
           "mirror": true,
           "showline": true,
           "ticks": "",
           "title": {
            "standoff": 15
           },
           "zeroline": false,
           "zerolinecolor": "#EBF0F8",
           "zerolinewidth": 2
          },
          "yaxis": {
           "automargin": true,
           "gridcolor": "#EBF0F8",
           "linecolor": "black",
           "linewidth": 2,
           "mirror": true,
           "showline": true,
           "ticks": "",
           "title": {
            "standoff": 15
           },
           "zeroline": false,
           "zerolinecolor": "#EBF0F8",
           "zerolinewidth": 2
          }
         }
        },
        "xaxis": {
         "exponentformat": "none",
         "range": [
          20,
          1000
         ],
         "title": {
          "text": "Frequency (rad/s)"
         }
        },
        "yaxis": {
         "range": [
          0,
          3901.7523498649985
         ],
         "title": {
          "text": "Natural Frequencies (rad/s)"
         }
        }
       }
      }
     },
     "metadata": {}
    }
   ],
   "source": [
    "# ===========================================\n",
    "# DIAGRAMA DE CAMPBELL\n",
    "#\n",
    "\n",
    "samples     = 50\n",
    "speed_range = np.linspace(20, 1000, samples) # [rad/s]\n",
    "campbell    = rotor.run_campbell(speed_range)\n",
    "campbell.plot()"
   ]
  },
  {
   "cell_type": "code",
   "execution_count": null,
   "metadata": {},
   "outputs": [],
   "source": []
  }
 ]
}