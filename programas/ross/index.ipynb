{
 "metadata": {
  "language_info": {
   "codemirror_mode": {
    "name": "ipython",
    "version": 3
   },
   "file_extension": ".py",
   "mimetype": "text/x-python",
   "name": "python",
   "nbconvert_exporter": "python",
   "pygments_lexer": "ipython3",
   "version": "3.8.5-final"
  },
  "orig_nbformat": 2,
  "kernelspec": {
   "name": "python3",
   "display_name": "Python 3",
   "language": "python"
  }
 },
 "nbformat": 4,
 "nbformat_minor": 2,
 "cells": [
  {
   "cell_type": "code",
   "execution_count": 13,
   "metadata": {},
   "outputs": [],
   "source": [
    "import os\n",
    "from pathlib import Path\n",
    "import ross as rs\n",
    "import numpy as np\n",
    "\n",
    "# MATERIAL\n",
    "#\n",
    "# E       - Módulo de young\n",
    "# G_s     - Módulo de cisalhamento (shear)\n",
    "# Poisson - Coeficiente de Poisson\n",
    "# rho     - Densidade do material\n",
    "ABNT1020  = rs.Material(name=\"ABNT1020\", rho=7850, E=2.05e11, Poisson=0.29)\n",
    "ASTMA36   = rs.Material(name=\"ASTMA36\", rho=7850, E=2e11, G_s=7.93e10)"
   ]
  },
  {
   "cell_type": "code",
   "execution_count": 14,
   "metadata": {},
   "outputs": [],
   "source": [
    "# ========================================================================\n",
    "# EIXO\n",
    "#\n",
    "L       = [0.295, 0.005, 0.005, 0.295, 0.052]   # length\n",
    "i_d     = 0                                     # inner diameter\n",
    "o_d     = 0.0127                                # outer diameter\n",
    "N_shaft = 4                                     # number of elements\n",
    "\n",
    "shaft_elements = [\n",
    "  rs.ShaftElement(\n",
    "    n=i,\n",
    "    L=L[i],\n",
    "    idl=i_d,\n",
    "    odl=o_d,\n",
    "    material=ABNT1020,\n",
    "    shear_effects=True,\n",
    "    rotary_inertia=True,\n",
    "    gyroscopic=True,\n",
    "    tag=(f\"Shaft el. {i}\")\n",
    "  )\n",
    "  for i in range(N_shaft)\n",
    "]"
   ]
  },
  {
   "cell_type": "code",
   "execution_count": 15,
   "metadata": {},
   "outputs": [],
   "source": [
    "# ========================================================================\n",
    "# DISCO\n",
    "#\n",
    "# Utilizando as propriedades geométricas:\n",
    "disk_geo = rs.DiskElement.from_geometry(\n",
    "  n=2,\n",
    "  material=ASTMA36,\n",
    "  width=0.01,\n",
    "  i_d=0.0127,\n",
    "  o_d=0.1807,\n",
    "  tag=\"Geometry disk\"\n",
    ")"
   ]
  },
  {
   "cell_type": "code",
   "execution_count": 16,
   "metadata": {},
   "outputs": [],
   "source": [
    "# ========================================================================\n",
    "# ROLAMENTOS E VEDAÇÕES\n",
    "#\n",
    "N_bearing = 2\n",
    "\n",
    "stfx = 1e6\n",
    "stfy = 0.8e6\n",
    "bearings = [\n",
    "  rs.BearingElement(\n",
    "    n=i*4,\n",
    "    kxx=stfx,\n",
    "    kyy=stfy,\n",
    "    cxx=1e3,\n",
    "    tag=(f\"Bearing {i}\")\n",
    "  )\n",
    "  for i in range(N_bearing)\n",
    "]"
   ]
  },
  {
   "cell_type": "code",
   "execution_count": 17,
   "metadata": {},
   "outputs": [
    {
     "output_type": "stream",
     "name": "stdout",
     "text": [
      "Rotor total mass =  2.6\nRotor center of gravity = 0.3\n"
     ]
    },
    {
     "output_type": "display_data",
     "data": {
      "application/vnd.plotly.v1+json": {
       "config": {
        "plotlyServerURL": "https://plot.ly"
       },
       "data": [
        {
         "hoverinfo": "none",
         "line": {
          "color": "black",
          "dash": "dashdot",
          "width": 3
         },
         "mode": "lines",
         "opacity": 0.7,
         "showlegend": false,
         "type": "scatter",
         "x": [
          -0.12,
          0.72
         ],
         "y": [
          0,
          0
         ]
        },
        {
         "hoverinfo": "none",
         "marker": {
          "color": "#ffcc99",
          "line": {
           "color": "black",
           "width": 1
          },
          "opacity": 0.7,
          "size": 20
         },
         "mode": "markers+text",
         "showlegend": false,
         "text": [
          "0",
          "1",
          "2",
          "3",
          "4"
         ],
         "type": "scatter",
         "x": [
          0,
          0.295,
          0.3,
          0.305,
          0.6
         ],
         "y": [
          0,
          0,
          0,
          0,
          0
         ]
        },
        {
         "customdata": [
          [
           0,
           0.0127,
           0,
           0.0127,
           0,
           0.295,
           "ABNT1020"
          ],
          [
           0,
           0.0127,
           0,
           0.0127,
           0,
           0.295,
           "ABNT1020"
          ],
          [
           0,
           0.0127,
           0,
           0.0127,
           0,
           0.295,
           "ABNT1020"
          ],
          [
           0,
           0.0127,
           0,
           0.0127,
           0,
           0.295,
           "ABNT1020"
          ],
          [
           0,
           0.0127,
           0,
           0.0127,
           0,
           0.295,
           "ABNT1020"
          ],
          [
           0,
           0.0127,
           0,
           0.0127,
           0,
           0.295,
           "ABNT1020"
          ],
          [
           0,
           0.0127,
           0,
           0.0127,
           0,
           0.295,
           "ABNT1020"
          ],
          [
           0,
           0.0127,
           0,
           0.0127,
           0,
           0.295,
           "ABNT1020"
          ],
          [
           0,
           0.0127,
           0,
           0.0127,
           0,
           0.295,
           "ABNT1020"
          ],
          [
           0,
           0.0127,
           0,
           0.0127,
           0,
           0.295,
           "ABNT1020"
          ]
         ],
         "fill": "toself",
         "fillcolor": "#525252",
         "hoverinfo": "text",
         "hoverlabel": {
          "bgcolor": "#525252"
         },
         "hoveron": "points+fills",
         "hovertemplate": "Element Number: 0<br>Left Outer Diameter: 0.0127 m<br>Left Inner Diameter: 0.0 m<br>Right Outer Diameter: 0.0127 m<br>Right Inner Diameter: 0.0 m<br>Element Length: 0.295 m<br>Material: ABNT1020<br>",
         "legendgroup": "Shaft",
         "line": {
          "color": "black",
          "width": 1.5
         },
         "mode": "lines",
         "name": "Shaft el. 0",
         "opacity": 0.5,
         "showlegend": false,
         "text": "Element Number: 0<br>Left Outer Diameter: 0.0127 m<br>Left Inner Diameter: 0.0 m<br>Right Outer Diameter: 0.0127 m<br>Right Inner Diameter: 0.0 m<br>Element Length: 0.295 m<br>Material: ABNT1020<br>",
         "type": "scatter",
         "x": [
          0,
          0,
          0.295,
          0.295,
          0,
          0,
          0,
          0.295,
          0.295,
          0
         ],
         "y": [
          0,
          0.00635,
          0.00635,
          0,
          0,
          0,
          -0.00635,
          -0.00635,
          0,
          0
         ]
        },
        {
         "customdata": [
          [
           1,
           0.0127,
           0,
           0.0127,
           0,
           0.005,
           "ABNT1020"
          ],
          [
           1,
           0.0127,
           0,
           0.0127,
           0,
           0.005,
           "ABNT1020"
          ],
          [
           1,
           0.0127,
           0,
           0.0127,
           0,
           0.005,
           "ABNT1020"
          ],
          [
           1,
           0.0127,
           0,
           0.0127,
           0,
           0.005,
           "ABNT1020"
          ],
          [
           1,
           0.0127,
           0,
           0.0127,
           0,
           0.005,
           "ABNT1020"
          ],
          [
           1,
           0.0127,
           0,
           0.0127,
           0,
           0.005,
           "ABNT1020"
          ],
          [
           1,
           0.0127,
           0,
           0.0127,
           0,
           0.005,
           "ABNT1020"
          ],
          [
           1,
           0.0127,
           0,
           0.0127,
           0,
           0.005,
           "ABNT1020"
          ],
          [
           1,
           0.0127,
           0,
           0.0127,
           0,
           0.005,
           "ABNT1020"
          ],
          [
           1,
           0.0127,
           0,
           0.0127,
           0,
           0.005,
           "ABNT1020"
          ]
         ],
         "fill": "toself",
         "fillcolor": "#525252",
         "hoverinfo": "text",
         "hoverlabel": {
          "bgcolor": "#525252"
         },
         "hoveron": "points+fills",
         "hovertemplate": "Element Number: 1<br>Left Outer Diameter: 0.0127 m<br>Left Inner Diameter: 0.0 m<br>Right Outer Diameter: 0.0127 m<br>Right Inner Diameter: 0.0 m<br>Element Length: 0.005 m<br>Material: ABNT1020<br>",
         "legendgroup": "Shaft",
         "line": {
          "color": "black",
          "width": 1.5
         },
         "mode": "lines",
         "name": "Shaft el. 1",
         "opacity": 0.5,
         "showlegend": false,
         "text": "Element Number: 1<br>Left Outer Diameter: 0.0127 m<br>Left Inner Diameter: 0.0 m<br>Right Outer Diameter: 0.0127 m<br>Right Inner Diameter: 0.0 m<br>Element Length: 0.005 m<br>Material: ABNT1020<br>",
         "type": "scatter",
         "x": [
          0.295,
          0.295,
          0.3,
          0.3,
          0.295,
          0.295,
          0.295,
          0.3,
          0.3,
          0.295
         ],
         "y": [
          0,
          0.00635,
          0.00635,
          0,
          0,
          0,
          -0.00635,
          -0.00635,
          0,
          0
         ]
        },
        {
         "customdata": [
          [
           2,
           0.0127,
           0,
           0.0127,
           0,
           0.005,
           "ABNT1020"
          ],
          [
           2,
           0.0127,
           0,
           0.0127,
           0,
           0.005,
           "ABNT1020"
          ],
          [
           2,
           0.0127,
           0,
           0.0127,
           0,
           0.005,
           "ABNT1020"
          ],
          [
           2,
           0.0127,
           0,
           0.0127,
           0,
           0.005,
           "ABNT1020"
          ],
          [
           2,
           0.0127,
           0,
           0.0127,
           0,
           0.005,
           "ABNT1020"
          ],
          [
           2,
           0.0127,
           0,
           0.0127,
           0,
           0.005,
           "ABNT1020"
          ],
          [
           2,
           0.0127,
           0,
           0.0127,
           0,
           0.005,
           "ABNT1020"
          ],
          [
           2,
           0.0127,
           0,
           0.0127,
           0,
           0.005,
           "ABNT1020"
          ],
          [
           2,
           0.0127,
           0,
           0.0127,
           0,
           0.005,
           "ABNT1020"
          ],
          [
           2,
           0.0127,
           0,
           0.0127,
           0,
           0.005,
           "ABNT1020"
          ]
         ],
         "fill": "toself",
         "fillcolor": "#525252",
         "hoverinfo": "text",
         "hoverlabel": {
          "bgcolor": "#525252"
         },
         "hoveron": "points+fills",
         "hovertemplate": "Element Number: 2<br>Left Outer Diameter: 0.0127 m<br>Left Inner Diameter: 0.0 m<br>Right Outer Diameter: 0.0127 m<br>Right Inner Diameter: 0.0 m<br>Element Length: 0.005 m<br>Material: ABNT1020<br>",
         "legendgroup": "Shaft",
         "line": {
          "color": "black",
          "width": 1.5
         },
         "mode": "lines",
         "name": "Shaft el. 2",
         "opacity": 0.5,
         "showlegend": false,
         "text": "Element Number: 2<br>Left Outer Diameter: 0.0127 m<br>Left Inner Diameter: 0.0 m<br>Right Outer Diameter: 0.0127 m<br>Right Inner Diameter: 0.0 m<br>Element Length: 0.005 m<br>Material: ABNT1020<br>",
         "type": "scatter",
         "x": [
          0.3,
          0.3,
          0.305,
          0.305,
          0.3,
          0.3,
          0.3,
          0.305,
          0.305,
          0.3
         ],
         "y": [
          0,
          0.00635,
          0.00635,
          0,
          0,
          0,
          -0.00635,
          -0.00635,
          0,
          0
         ]
        },
        {
         "customdata": [
          [
           3,
           0.0127,
           0,
           0.0127,
           0,
           0.295,
           "ABNT1020"
          ],
          [
           3,
           0.0127,
           0,
           0.0127,
           0,
           0.295,
           "ABNT1020"
          ],
          [
           3,
           0.0127,
           0,
           0.0127,
           0,
           0.295,
           "ABNT1020"
          ],
          [
           3,
           0.0127,
           0,
           0.0127,
           0,
           0.295,
           "ABNT1020"
          ],
          [
           3,
           0.0127,
           0,
           0.0127,
           0,
           0.295,
           "ABNT1020"
          ],
          [
           3,
           0.0127,
           0,
           0.0127,
           0,
           0.295,
           "ABNT1020"
          ],
          [
           3,
           0.0127,
           0,
           0.0127,
           0,
           0.295,
           "ABNT1020"
          ],
          [
           3,
           0.0127,
           0,
           0.0127,
           0,
           0.295,
           "ABNT1020"
          ],
          [
           3,
           0.0127,
           0,
           0.0127,
           0,
           0.295,
           "ABNT1020"
          ],
          [
           3,
           0.0127,
           0,
           0.0127,
           0,
           0.295,
           "ABNT1020"
          ]
         ],
         "fill": "toself",
         "fillcolor": "#525252",
         "hoverinfo": "text",
         "hoverlabel": {
          "bgcolor": "#525252"
         },
         "hoveron": "points+fills",
         "hovertemplate": "Element Number: 3<br>Left Outer Diameter: 0.0127 m<br>Left Inner Diameter: 0.0 m<br>Right Outer Diameter: 0.0127 m<br>Right Inner Diameter: 0.0 m<br>Element Length: 0.295 m<br>Material: ABNT1020<br>",
         "legendgroup": "Shaft",
         "line": {
          "color": "black",
          "width": 1.5
         },
         "mode": "lines",
         "name": "Shaft el. 3",
         "opacity": 0.5,
         "showlegend": false,
         "text": "Element Number: 3<br>Left Outer Diameter: 0.0127 m<br>Left Inner Diameter: 0.0 m<br>Right Outer Diameter: 0.0127 m<br>Right Inner Diameter: 0.0 m<br>Element Length: 0.295 m<br>Material: ABNT1020<br>",
         "type": "scatter",
         "x": [
          0.305,
          0.305,
          0.6,
          0.6,
          0.305,
          0.305,
          0.305,
          0.6,
          0.6,
          0.305
         ],
         "y": [
          0,
          0.00635,
          0.00635,
          0,
          0,
          0,
          -0.00635,
          -0.00635,
          0,
          0
         ]
        },
        {
         "customdata": [
          [
           2,
           0.008216589016168249,
           0.004124987879011762,
           2.003204511316465
          ],
          [
           2,
           0.008216589016168249,
           0.004124987879011762,
           2.003204511316465
          ],
          [
           2,
           0.008216589016168249,
           0.004124987879011762,
           2.003204511316465
          ],
          [
           2,
           0.008216589016168249,
           0.004124987879011762,
           2.003204511316465
          ],
          [
           2,
           0.008216589016168249,
           0.004124987879011762,
           2.003204511316465
          ],
          [
           2,
           0.008216589016168249,
           0.004124987879011762,
           2.003204511316465
          ],
          [
           2,
           0.008216589016168249,
           0.004124987879011762,
           2.003204511316465
          ],
          [
           2,
           0.008216589016168249,
           0.004124987879011762,
           2.003204511316465
          ],
          [
           2,
           0.008216589016168249,
           0.004124987879011762,
           2.003204511316465
          ]
         ],
         "fill": "toself",
         "fillcolor": "Firebrick",
         "hoverinfo": "text",
         "hoverlabel": {
          "bgcolor": "Firebrick"
         },
         "hoveron": "points+fills",
         "hovertemplate": "Disk Node: 2<br>Polar Inertia: 8.217e-03<br>Diametral Inertia: 4.125e-03<br>Disk mass: 2.003<br>",
         "legendgroup": "disks",
         "line": {
          "color": "Firebrick",
          "width": 2
         },
         "mode": "lines",
         "name": "Geometry disk",
         "showlegend": false,
         "text": "Disk Node: 2<br>Polar Inertia: 8.217e-03<br>Diametral Inertia: 4.125e-03<br>Disk mass: 2.003<br>",
         "type": "scatter",
         "x": [
          0.3,
          0.30211666666666664,
          0.29788333333333333,
          0.3,
          null,
          0.3,
          0.30211666666666664,
          0.29788333333333333,
          0.3
         ],
         "y": [
          0.00635,
          0.03175,
          0.03175,
          0.00635,
          null,
          -0.00635,
          -0.03175,
          -0.03175,
          -0.00635
         ]
        },
        {
         "hoverinfo": "none",
         "legendgroup": "bearings",
         "line": {
          "color": "#355d7a",
          "width": 3.5
         },
         "mode": "lines",
         "name": "Bearing 0",
         "showlegend": false,
         "type": "scatter",
         "x": [
          0,
          0,
          -0.00635,
          0.00635
         ],
         "y": [
          0.00635,
          0.0127,
          0.0127,
          0.0127
         ]
        },
        {
         "hoverinfo": "none",
         "legendgroup": "bearings",
         "line": {
          "color": "#355d7a",
          "width": 3.5
         },
         "mode": "lines",
         "name": "Bearing 0",
         "showlegend": false,
         "type": "scatter",
         "x": [
          0,
          0,
          -0.00635,
          0.00635
         ],
         "y": [
          -0.00635,
          -0.0127,
          -0.0127,
          -0.0127
         ]
        },
        {
         "hoverinfo": "none",
         "legendgroup": "bearings",
         "line": {
          "color": "#355d7a",
          "width": 3.5
         },
         "mode": "lines",
         "name": "Bearing 0",
         "showlegend": false,
         "type": "scatter",
         "x": [
          0,
          0,
          -0.00635,
          0.00635
         ],
         "y": [
          0.03175,
          0.0254,
          0.0254,
          0.0254
         ]
        },
        {
         "hoverinfo": "none",
         "legendgroup": "bearings",
         "line": {
          "color": "#355d7a",
          "width": 3.5
         },
         "mode": "lines",
         "name": "Bearing 0",
         "showlegend": false,
         "type": "scatter",
         "x": [
          0,
          0,
          -0.00635,
          0.00635
         ],
         "y": [
          -0.03175,
          -0.0254,
          -0.0254,
          -0.0254
         ]
        },
        {
         "hoverinfo": "none",
         "legendgroup": "bearings",
         "line": {
          "color": "#355d7a",
          "width": 3.5
         },
         "mode": "lines",
         "name": "Bearing 0",
         "showlegend": false,
         "type": "scatter",
         "x": [
          -0.008164285714285714,
          0.008164285714285714
         ],
         "y": [
          0.03175,
          0.03175
         ]
        },
        {
         "hoverinfo": "none",
         "legendgroup": "bearings",
         "line": {
          "color": "#355d7a",
          "width": 3.5
         },
         "mode": "lines",
         "name": "Bearing 0",
         "showlegend": false,
         "type": "scatter",
         "x": [
          -0.008164285714285714,
          0.008164285714285714
         ],
         "y": [
          -0.03175,
          -0.03175
         ]
        },
        {
         "hoverinfo": "none",
         "legendgroup": "bearings",
         "line": {
          "color": "#355d7a",
          "width": 3.5
         },
         "mode": "lines",
         "name": "Bearing 0",
         "showlegend": false,
         "type": "scatter",
         "x": [
          -0.008164285714285714,
          -0.004898571428571428
         ],
         "y": [
          0.03175,
          0.034925000000000005
         ]
        },
        {
         "hoverinfo": "none",
         "legendgroup": "bearings",
         "line": {
          "color": "#355d7a",
          "width": 3.5
         },
         "mode": "lines",
         "name": "Bearing 0",
         "showlegend": false,
         "type": "scatter",
         "x": [
          -0.008164285714285714,
          -0.004898571428571428
         ],
         "y": [
          -0.03175,
          -0.034925000000000005
         ]
        },
        {
         "hoverinfo": "none",
         "legendgroup": "bearings",
         "line": {
          "color": "#355d7a",
          "width": 3.5
         },
         "mode": "lines",
         "name": "Bearing 0",
         "showlegend": false,
         "type": "scatter",
         "x": [
          -0.004898571428571428,
          -0.0016328571428571425
         ],
         "y": [
          0.03175,
          0.034925000000000005
         ]
        },
        {
         "hoverinfo": "none",
         "legendgroup": "bearings",
         "line": {
          "color": "#355d7a",
          "width": 3.5
         },
         "mode": "lines",
         "name": "Bearing 0",
         "showlegend": false,
         "type": "scatter",
         "x": [
          -0.004898571428571428,
          -0.0016328571428571425
         ],
         "y": [
          -0.03175,
          -0.034925000000000005
         ]
        },
        {
         "hoverinfo": "none",
         "legendgroup": "bearings",
         "line": {
          "color": "#355d7a",
          "width": 3.5
         },
         "mode": "lines",
         "name": "Bearing 0",
         "showlegend": false,
         "type": "scatter",
         "x": [
          -0.0016328571428571425,
          0.0016328571428571442
         ],
         "y": [
          0.03175,
          0.034925000000000005
         ]
        },
        {
         "hoverinfo": "none",
         "legendgroup": "bearings",
         "line": {
          "color": "#355d7a",
          "width": 3.5
         },
         "mode": "lines",
         "name": "Bearing 0",
         "showlegend": false,
         "type": "scatter",
         "x": [
          -0.0016328571428571425,
          0.0016328571428571442
         ],
         "y": [
          -0.03175,
          -0.034925000000000005
         ]
        },
        {
         "hoverinfo": "none",
         "legendgroup": "bearings",
         "line": {
          "color": "#355d7a",
          "width": 3.5
         },
         "mode": "lines",
         "name": "Bearing 0",
         "showlegend": false,
         "type": "scatter",
         "x": [
          0.0016328571428571442,
          0.004898571428571429
         ],
         "y": [
          0.03175,
          0.034925000000000005
         ]
        },
        {
         "hoverinfo": "none",
         "legendgroup": "bearings",
         "line": {
          "color": "#355d7a",
          "width": 3.5
         },
         "mode": "lines",
         "name": "Bearing 0",
         "showlegend": false,
         "type": "scatter",
         "x": [
          0.0016328571428571442,
          0.004898571428571429
         ],
         "y": [
          -0.03175,
          -0.034925000000000005
         ]
        },
        {
         "hoverinfo": "none",
         "legendgroup": "bearings",
         "line": {
          "color": "#355d7a",
          "width": 3.5
         },
         "mode": "lines",
         "name": "Bearing 0",
         "showlegend": false,
         "type": "scatter",
         "x": [
          0.004898571428571429,
          0.008164285714285714
         ],
         "y": [
          0.03175,
          0.034925000000000005
         ]
        },
        {
         "hoverinfo": "none",
         "legendgroup": "bearings",
         "line": {
          "color": "#355d7a",
          "width": 3.5
         },
         "mode": "lines",
         "name": "Bearing 0",
         "showlegend": false,
         "type": "scatter",
         "x": [
          0.004898571428571429,
          0.008164285714285714
         ],
         "y": [
          -0.03175,
          -0.034925000000000005
         ]
        },
        {
         "hoverinfo": "none",
         "legendgroup": "bearings",
         "line": {
          "color": "#355d7a",
          "width": 3.5
         },
         "mode": "lines",
         "name": "Bearing 0",
         "showlegend": false,
         "type": "scatter",
         "x": [
          0.008164285714285714,
          0.011430000000000003
         ],
         "y": [
          0.03175,
          0.034925000000000005
         ]
        },
        {
         "hoverinfo": "none",
         "legendgroup": "bearings",
         "line": {
          "color": "#355d7a",
          "width": 3.5
         },
         "mode": "lines",
         "name": "Bearing 0",
         "showlegend": false,
         "type": "scatter",
         "x": [
          0.008164285714285714,
          0.011430000000000003
         ],
         "y": [
          -0.03175,
          -0.034925000000000005
         ]
        },
        {
         "hoverinfo": "none",
         "legendgroup": "bearings",
         "line": {
          "color": "#355d7a",
          "width": 3.5
         },
         "mode": "lines",
         "name": "Bearing 0",
         "showlegend": false,
         "type": "scatter",
         "x": [
          -0.00635,
          -0.00635,
          -0.008164285714285714,
          -0.004535714285714285,
          -0.008164285714285714,
          -0.004535714285714285,
          -0.008164285714285714,
          -0.004535714285714285,
          -0.00635,
          -0.00635
         ],
         "y": [
          0.0127,
          0.014514285714285714,
          0.014514285714285714,
          0.01632857142857143,
          0.01814285714285714,
          0.019957142857142857,
          0.02177142857142857,
          0.023585714285714286,
          0.023585714285714286,
          0.0254
         ]
        },
        {
         "hoverinfo": "none",
         "legendgroup": "bearings",
         "line": {
          "color": "#355d7a",
          "width": 3.5
         },
         "mode": "lines",
         "name": "Bearing 0",
         "showlegend": false,
         "type": "scatter",
         "x": [
          -0.00635,
          -0.00635,
          -0.008164285714285714,
          -0.004535714285714285,
          -0.008164285714285714,
          -0.004535714285714285,
          -0.008164285714285714,
          -0.004535714285714285,
          -0.00635,
          -0.00635
         ],
         "y": [
          -0.0127,
          -0.014514285714285714,
          -0.014514285714285714,
          -0.01632857142857143,
          -0.01814285714285714,
          -0.019957142857142857,
          -0.02177142857142857,
          -0.023585714285714286,
          -0.023585714285714286,
          -0.0254
         ]
        },
        {
         "hoverinfo": "none",
         "legendgroup": "bearings",
         "line": {
          "color": "#355d7a",
          "width": 3.5
         },
         "mode": "lines",
         "name": "Bearing 0",
         "showlegend": false,
         "type": "scatter",
         "x": [
          0.00635,
          0.00635
         ],
         "y": [
          0.0127,
          0.01632857142857143
         ]
        },
        {
         "hoverinfo": "none",
         "legendgroup": "bearings",
         "line": {
          "color": "#355d7a",
          "width": 3.5
         },
         "mode": "lines",
         "name": "Bearing 0",
         "showlegend": false,
         "type": "scatter",
         "x": [
          0.00635,
          0.00635
         ],
         "y": [
          -0.0127,
          -0.01632857142857143
         ]
        },
        {
         "hoverinfo": "none",
         "legendgroup": "bearings",
         "line": {
          "color": "#355d7a",
          "width": 3.5
         },
         "mode": "lines",
         "name": "Bearing 0",
         "showlegend": false,
         "type": "scatter",
         "x": [
          0.0027214285714285713,
          0.0027214285714285713,
          0.009978571428571429,
          0.009978571428571429
         ],
         "y": [
          0.02177142857142857,
          0.01632857142857143,
          0.01632857142857143,
          0.02177142857142857
         ]
        },
        {
         "hoverinfo": "none",
         "legendgroup": "bearings",
         "line": {
          "color": "#355d7a",
          "width": 3.5
         },
         "mode": "lines",
         "name": "Bearing 0",
         "showlegend": false,
         "type": "scatter",
         "x": [
          0.0027214285714285713,
          0.0027214285714285713,
          0.009978571428571429,
          0.009978571428571429
         ],
         "y": [
          -0.02177142857142857,
          -0.01632857142857143,
          -0.01632857142857143,
          -0.02177142857142857
         ]
        },
        {
         "hoverinfo": "none",
         "legendgroup": "bearings",
         "line": {
          "color": "#355d7a",
          "width": 3.5
         },
         "mode": "lines",
         "name": "Bearing 0",
         "showlegend": false,
         "type": "scatter",
         "x": [
          0.0027214285714285713,
          0.009978571428571429,
          0.00635,
          0.00635
         ],
         "y": [
          0.019957142857142857,
          0.019957142857142857,
          0.019957142857142857,
          0.0254
         ]
        },
        {
         "hoverinfo": "none",
         "legendgroup": "bearings",
         "line": {
          "color": "#355d7a",
          "width": 3.5
         },
         "mode": "lines",
         "name": "Bearing 0",
         "showlegend": false,
         "type": "scatter",
         "x": [
          0.0027214285714285713,
          0.009978571428571429,
          0.00635,
          0.00635
         ],
         "y": [
          -0.019957142857142857,
          -0.019957142857142857,
          -0.019957142857142857,
          -0.0254
         ]
        },
        {
         "hoverinfo": "none",
         "legendgroup": "bearings",
         "line": {
          "color": "#355d7a",
          "width": 3.5
         },
         "mode": "lines",
         "name": "Bearing 1",
         "showlegend": false,
         "type": "scatter",
         "x": [
          0.6,
          0.6,
          0.59365,
          0.60635
         ],
         "y": [
          0.00635,
          0.0127,
          0.0127,
          0.0127
         ]
        },
        {
         "hoverinfo": "none",
         "legendgroup": "bearings",
         "line": {
          "color": "#355d7a",
          "width": 3.5
         },
         "mode": "lines",
         "name": "Bearing 1",
         "showlegend": false,
         "type": "scatter",
         "x": [
          0.6,
          0.6,
          0.59365,
          0.60635
         ],
         "y": [
          -0.00635,
          -0.0127,
          -0.0127,
          -0.0127
         ]
        },
        {
         "hoverinfo": "none",
         "legendgroup": "bearings",
         "line": {
          "color": "#355d7a",
          "width": 3.5
         },
         "mode": "lines",
         "name": "Bearing 1",
         "showlegend": false,
         "type": "scatter",
         "x": [
          0.6,
          0.6,
          0.59365,
          0.60635
         ],
         "y": [
          0.03175,
          0.0254,
          0.0254,
          0.0254
         ]
        },
        {
         "hoverinfo": "none",
         "legendgroup": "bearings",
         "line": {
          "color": "#355d7a",
          "width": 3.5
         },
         "mode": "lines",
         "name": "Bearing 1",
         "showlegend": false,
         "type": "scatter",
         "x": [
          0.6,
          0.6,
          0.59365,
          0.60635
         ],
         "y": [
          -0.03175,
          -0.0254,
          -0.0254,
          -0.0254
         ]
        },
        {
         "hoverinfo": "none",
         "legendgroup": "bearings",
         "line": {
          "color": "#355d7a",
          "width": 3.5
         },
         "mode": "lines",
         "name": "Bearing 1",
         "showlegend": false,
         "type": "scatter",
         "x": [
          0.5918357142857142,
          0.6081642857142857
         ],
         "y": [
          0.03175,
          0.03175
         ]
        },
        {
         "hoverinfo": "none",
         "legendgroup": "bearings",
         "line": {
          "color": "#355d7a",
          "width": 3.5
         },
         "mode": "lines",
         "name": "Bearing 1",
         "showlegend": false,
         "type": "scatter",
         "x": [
          0.5918357142857142,
          0.6081642857142857
         ],
         "y": [
          -0.03175,
          -0.03175
         ]
        },
        {
         "hoverinfo": "none",
         "legendgroup": "bearings",
         "line": {
          "color": "#355d7a",
          "width": 3.5
         },
         "mode": "lines",
         "name": "Bearing 1",
         "showlegend": false,
         "type": "scatter",
         "x": [
          0.5918357142857142,
          0.5951014285714286
         ],
         "y": [
          0.03175,
          0.034925000000000005
         ]
        },
        {
         "hoverinfo": "none",
         "legendgroup": "bearings",
         "line": {
          "color": "#355d7a",
          "width": 3.5
         },
         "mode": "lines",
         "name": "Bearing 1",
         "showlegend": false,
         "type": "scatter",
         "x": [
          0.5918357142857142,
          0.5951014285714286
         ],
         "y": [
          -0.03175,
          -0.034925000000000005
         ]
        },
        {
         "hoverinfo": "none",
         "legendgroup": "bearings",
         "line": {
          "color": "#355d7a",
          "width": 3.5
         },
         "mode": "lines",
         "name": "Bearing 1",
         "showlegend": false,
         "type": "scatter",
         "x": [
          0.5951014285714286,
          0.5983671428571429
         ],
         "y": [
          0.03175,
          0.034925000000000005
         ]
        },
        {
         "hoverinfo": "none",
         "legendgroup": "bearings",
         "line": {
          "color": "#355d7a",
          "width": 3.5
         },
         "mode": "lines",
         "name": "Bearing 1",
         "showlegend": false,
         "type": "scatter",
         "x": [
          0.5951014285714286,
          0.5983671428571429
         ],
         "y": [
          -0.03175,
          -0.034925000000000005
         ]
        },
        {
         "hoverinfo": "none",
         "legendgroup": "bearings",
         "line": {
          "color": "#355d7a",
          "width": 3.5
         },
         "mode": "lines",
         "name": "Bearing 1",
         "showlegend": false,
         "type": "scatter",
         "x": [
          0.5983671428571429,
          0.6016328571428571
         ],
         "y": [
          0.03175,
          0.034925000000000005
         ]
        },
        {
         "hoverinfo": "none",
         "legendgroup": "bearings",
         "line": {
          "color": "#355d7a",
          "width": 3.5
         },
         "mode": "lines",
         "name": "Bearing 1",
         "showlegend": false,
         "type": "scatter",
         "x": [
          0.5983671428571429,
          0.6016328571428571
         ],
         "y": [
          -0.03175,
          -0.034925000000000005
         ]
        },
        {
         "hoverinfo": "none",
         "legendgroup": "bearings",
         "line": {
          "color": "#355d7a",
          "width": 3.5
         },
         "mode": "lines",
         "name": "Bearing 1",
         "showlegend": false,
         "type": "scatter",
         "x": [
          0.6016328571428571,
          0.6048985714285714
         ],
         "y": [
          0.03175,
          0.034925000000000005
         ]
        },
        {
         "hoverinfo": "none",
         "legendgroup": "bearings",
         "line": {
          "color": "#355d7a",
          "width": 3.5
         },
         "mode": "lines",
         "name": "Bearing 1",
         "showlegend": false,
         "type": "scatter",
         "x": [
          0.6016328571428571,
          0.6048985714285714
         ],
         "y": [
          -0.03175,
          -0.034925000000000005
         ]
        },
        {
         "hoverinfo": "none",
         "legendgroup": "bearings",
         "line": {
          "color": "#355d7a",
          "width": 3.5
         },
         "mode": "lines",
         "name": "Bearing 1",
         "showlegend": false,
         "type": "scatter",
         "x": [
          0.6048985714285714,
          0.6081642857142857
         ],
         "y": [
          0.03175,
          0.034925000000000005
         ]
        },
        {
         "hoverinfo": "none",
         "legendgroup": "bearings",
         "line": {
          "color": "#355d7a",
          "width": 3.5
         },
         "mode": "lines",
         "name": "Bearing 1",
         "showlegend": false,
         "type": "scatter",
         "x": [
          0.6048985714285714,
          0.6081642857142857
         ],
         "y": [
          -0.03175,
          -0.034925000000000005
         ]
        },
        {
         "hoverinfo": "none",
         "legendgroup": "bearings",
         "line": {
          "color": "#355d7a",
          "width": 3.5
         },
         "mode": "lines",
         "name": "Bearing 1",
         "showlegend": false,
         "type": "scatter",
         "x": [
          0.6081642857142857,
          0.61143
         ],
         "y": [
          0.03175,
          0.034925000000000005
         ]
        },
        {
         "hoverinfo": "none",
         "legendgroup": "bearings",
         "line": {
          "color": "#355d7a",
          "width": 3.5
         },
         "mode": "lines",
         "name": "Bearing 1",
         "showlegend": false,
         "type": "scatter",
         "x": [
          0.6081642857142857,
          0.61143
         ],
         "y": [
          -0.03175,
          -0.034925000000000005
         ]
        },
        {
         "hoverinfo": "none",
         "legendgroup": "bearings",
         "line": {
          "color": "#355d7a",
          "width": 3.5
         },
         "mode": "lines",
         "name": "Bearing 1",
         "showlegend": false,
         "type": "scatter",
         "x": [
          0.59365,
          0.59365,
          0.5918357142857142,
          0.5954642857142858,
          0.5918357142857142,
          0.5954642857142858,
          0.5918357142857142,
          0.5954642857142858,
          0.59365,
          0.59365
         ],
         "y": [
          0.0127,
          0.014514285714285714,
          0.014514285714285714,
          0.01632857142857143,
          0.01814285714285714,
          0.019957142857142857,
          0.02177142857142857,
          0.023585714285714286,
          0.023585714285714286,
          0.0254
         ]
        },
        {
         "hoverinfo": "none",
         "legendgroup": "bearings",
         "line": {
          "color": "#355d7a",
          "width": 3.5
         },
         "mode": "lines",
         "name": "Bearing 1",
         "showlegend": false,
         "type": "scatter",
         "x": [
          0.59365,
          0.59365,
          0.5918357142857142,
          0.5954642857142858,
          0.5918357142857142,
          0.5954642857142858,
          0.5918357142857142,
          0.5954642857142858,
          0.59365,
          0.59365
         ],
         "y": [
          -0.0127,
          -0.014514285714285714,
          -0.014514285714285714,
          -0.01632857142857143,
          -0.01814285714285714,
          -0.019957142857142857,
          -0.02177142857142857,
          -0.023585714285714286,
          -0.023585714285714286,
          -0.0254
         ]
        },
        {
         "hoverinfo": "none",
         "legendgroup": "bearings",
         "line": {
          "color": "#355d7a",
          "width": 3.5
         },
         "mode": "lines",
         "name": "Bearing 1",
         "showlegend": false,
         "type": "scatter",
         "x": [
          0.60635,
          0.60635
         ],
         "y": [
          0.0127,
          0.01632857142857143
         ]
        },
        {
         "hoverinfo": "none",
         "legendgroup": "bearings",
         "line": {
          "color": "#355d7a",
          "width": 3.5
         },
         "mode": "lines",
         "name": "Bearing 1",
         "showlegend": false,
         "type": "scatter",
         "x": [
          0.60635,
          0.60635
         ],
         "y": [
          -0.0127,
          -0.01632857142857143
         ]
        },
        {
         "hoverinfo": "none",
         "legendgroup": "bearings",
         "line": {
          "color": "#355d7a",
          "width": 3.5
         },
         "mode": "lines",
         "name": "Bearing 1",
         "showlegend": false,
         "type": "scatter",
         "x": [
          0.6027214285714285,
          0.6027214285714285,
          0.6099785714285714,
          0.6099785714285714
         ],
         "y": [
          0.02177142857142857,
          0.01632857142857143,
          0.01632857142857143,
          0.02177142857142857
         ]
        },
        {
         "hoverinfo": "none",
         "legendgroup": "bearings",
         "line": {
          "color": "#355d7a",
          "width": 3.5
         },
         "mode": "lines",
         "name": "Bearing 1",
         "showlegend": false,
         "type": "scatter",
         "x": [
          0.6027214285714285,
          0.6027214285714285,
          0.6099785714285714,
          0.6099785714285714
         ],
         "y": [
          -0.02177142857142857,
          -0.01632857142857143,
          -0.01632857142857143,
          -0.02177142857142857
         ]
        },
        {
         "hoverinfo": "none",
         "legendgroup": "bearings",
         "line": {
          "color": "#355d7a",
          "width": 3.5
         },
         "mode": "lines",
         "name": "Bearing 1",
         "showlegend": false,
         "type": "scatter",
         "x": [
          0.6027214285714285,
          0.6099785714285714,
          0.60635,
          0.60635
         ],
         "y": [
          0.019957142857142857,
          0.019957142857142857,
          0.019957142857142857,
          0.0254
         ]
        },
        {
         "hoverinfo": "none",
         "legendgroup": "bearings",
         "line": {
          "color": "#355d7a",
          "width": 3.5
         },
         "mode": "lines",
         "name": "Bearing 1",
         "showlegend": false,
         "type": "scatter",
         "x": [
          0.6027214285714285,
          0.6099785714285714,
          0.60635,
          0.60635
         ],
         "y": [
          -0.019957142857142857,
          -0.019957142857142857,
          -0.019957142857142857,
          -0.0254
         ]
        }
       ],
       "layout": {
        "shapes": [
         {
          "fillcolor": "Firebrick",
          "line": {
           "color": "Firebrick"
          },
          "type": "circle",
          "x0": 0.30211666666666664,
          "x1": 0.29788333333333333,
          "xref": "x",
          "y0": 0.029633333333333334,
          "y1": 0.03386666666666667,
          "yref": "y"
         },
         {
          "fillcolor": "Firebrick",
          "line": {
           "color": "Firebrick"
          },
          "type": "circle",
          "x0": 0.30211666666666664,
          "x1": 0.29788333333333333,
          "xref": "x",
          "y0": -0.029633333333333334,
          "y1": -0.03386666666666667,
          "yref": "y"
         }
        ],
        "template": {
         "data": {
          "bar": [
           {
            "error_x": {
             "color": "#2a3f5f"
            },
            "error_y": {
             "color": "#2a3f5f"
            },
            "marker": {
             "line": {
              "color": "white",
              "width": 0.5
             }
            },
            "type": "bar"
           }
          ],
          "barpolar": [
           {
            "marker": {
             "line": {
              "color": "white",
              "width": 0.5
             }
            },
            "type": "barpolar"
           }
          ],
          "carpet": [
           {
            "aaxis": {
             "endlinecolor": "#2a3f5f",
             "gridcolor": "#C8D4E3",
             "linecolor": "#C8D4E3",
             "minorgridcolor": "#C8D4E3",
             "startlinecolor": "#2a3f5f"
            },
            "baxis": {
             "endlinecolor": "#2a3f5f",
             "gridcolor": "#C8D4E3",
             "linecolor": "#C8D4E3",
             "minorgridcolor": "#C8D4E3",
             "startlinecolor": "#2a3f5f"
            },
            "type": "carpet"
           }
          ],
          "choropleth": [
           {
            "colorbar": {
             "outlinewidth": 0,
             "ticks": ""
            },
            "type": "choropleth"
           }
          ],
          "contour": [
           {
            "colorbar": {
             "outlinewidth": 0,
             "ticks": ""
            },
            "colorscale": [
             [
              0,
              "#0d0887"
             ],
             [
              0.1111111111111111,
              "#46039f"
             ],
             [
              0.2222222222222222,
              "#7201a8"
             ],
             [
              0.3333333333333333,
              "#9c179e"
             ],
             [
              0.4444444444444444,
              "#bd3786"
             ],
             [
              0.5555555555555556,
              "#d8576b"
             ],
             [
              0.6666666666666666,
              "#ed7953"
             ],
             [
              0.7777777777777778,
              "#fb9f3a"
             ],
             [
              0.8888888888888888,
              "#fdca26"
             ],
             [
              1,
              "#f0f921"
             ]
            ],
            "type": "contour"
           }
          ],
          "contourcarpet": [
           {
            "colorbar": {
             "outlinewidth": 0,
             "ticks": ""
            },
            "type": "contourcarpet"
           }
          ],
          "heatmap": [
           {
            "colorbar": {
             "outlinewidth": 0,
             "ticks": ""
            },
            "colorscale": [
             [
              0,
              "#0d0887"
             ],
             [
              0.1111111111111111,
              "#46039f"
             ],
             [
              0.2222222222222222,
              "#7201a8"
             ],
             [
              0.3333333333333333,
              "#9c179e"
             ],
             [
              0.4444444444444444,
              "#bd3786"
             ],
             [
              0.5555555555555556,
              "#d8576b"
             ],
             [
              0.6666666666666666,
              "#ed7953"
             ],
             [
              0.7777777777777778,
              "#fb9f3a"
             ],
             [
              0.8888888888888888,
              "#fdca26"
             ],
             [
              1,
              "#f0f921"
             ]
            ],
            "type": "heatmap"
           }
          ],
          "heatmapgl": [
           {
            "colorbar": {
             "outlinewidth": 0,
             "ticks": ""
            },
            "colorscale": [
             [
              0,
              "#0d0887"
             ],
             [
              0.1111111111111111,
              "#46039f"
             ],
             [
              0.2222222222222222,
              "#7201a8"
             ],
             [
              0.3333333333333333,
              "#9c179e"
             ],
             [
              0.4444444444444444,
              "#bd3786"
             ],
             [
              0.5555555555555556,
              "#d8576b"
             ],
             [
              0.6666666666666666,
              "#ed7953"
             ],
             [
              0.7777777777777778,
              "#fb9f3a"
             ],
             [
              0.8888888888888888,
              "#fdca26"
             ],
             [
              1,
              "#f0f921"
             ]
            ],
            "type": "heatmapgl"
           }
          ],
          "histogram": [
           {
            "marker": {
             "colorbar": {
              "outlinewidth": 0,
              "ticks": ""
             }
            },
            "type": "histogram"
           }
          ],
          "histogram2d": [
           {
            "colorbar": {
             "outlinewidth": 0,
             "ticks": ""
            },
            "colorscale": [
             [
              0,
              "#0d0887"
             ],
             [
              0.1111111111111111,
              "#46039f"
             ],
             [
              0.2222222222222222,
              "#7201a8"
             ],
             [
              0.3333333333333333,
              "#9c179e"
             ],
             [
              0.4444444444444444,
              "#bd3786"
             ],
             [
              0.5555555555555556,
              "#d8576b"
             ],
             [
              0.6666666666666666,
              "#ed7953"
             ],
             [
              0.7777777777777778,
              "#fb9f3a"
             ],
             [
              0.8888888888888888,
              "#fdca26"
             ],
             [
              1,
              "#f0f921"
             ]
            ],
            "type": "histogram2d"
           }
          ],
          "histogram2dcontour": [
           {
            "colorbar": {
             "outlinewidth": 0,
             "ticks": ""
            },
            "colorscale": [
             [
              0,
              "#0d0887"
             ],
             [
              0.1111111111111111,
              "#46039f"
             ],
             [
              0.2222222222222222,
              "#7201a8"
             ],
             [
              0.3333333333333333,
              "#9c179e"
             ],
             [
              0.4444444444444444,
              "#bd3786"
             ],
             [
              0.5555555555555556,
              "#d8576b"
             ],
             [
              0.6666666666666666,
              "#ed7953"
             ],
             [
              0.7777777777777778,
              "#fb9f3a"
             ],
             [
              0.8888888888888888,
              "#fdca26"
             ],
             [
              1,
              "#f0f921"
             ]
            ],
            "type": "histogram2dcontour"
           }
          ],
          "mesh3d": [
           {
            "colorbar": {
             "outlinewidth": 0,
             "ticks": ""
            },
            "type": "mesh3d"
           }
          ],
          "parcoords": [
           {
            "line": {
             "colorbar": {
              "outlinewidth": 0,
              "ticks": ""
             }
            },
            "type": "parcoords"
           }
          ],
          "pie": [
           {
            "automargin": true,
            "type": "pie"
           }
          ],
          "scatter": [
           {
            "marker": {
             "colorbar": {
              "outlinewidth": 0,
              "ticks": ""
             }
            },
            "type": "scatter"
           }
          ],
          "scatter3d": [
           {
            "line": {
             "colorbar": {
              "outlinewidth": 0,
              "ticks": ""
             }
            },
            "marker": {
             "colorbar": {
              "outlinewidth": 0,
              "ticks": ""
             }
            },
            "type": "scatter3d"
           }
          ],
          "scattercarpet": [
           {
            "marker": {
             "colorbar": {
              "outlinewidth": 0,
              "ticks": ""
             }
            },
            "type": "scattercarpet"
           }
          ],
          "scattergeo": [
           {
            "marker": {
             "colorbar": {
              "outlinewidth": 0,
              "ticks": ""
             }
            },
            "type": "scattergeo"
           }
          ],
          "scattergl": [
           {
            "marker": {
             "colorbar": {
              "outlinewidth": 0,
              "ticks": ""
             }
            },
            "type": "scattergl"
           }
          ],
          "scattermapbox": [
           {
            "marker": {
             "colorbar": {
              "outlinewidth": 0,
              "ticks": ""
             }
            },
            "type": "scattermapbox"
           }
          ],
          "scatterpolar": [
           {
            "marker": {
             "colorbar": {
              "outlinewidth": 0,
              "ticks": ""
             }
            },
            "type": "scatterpolar"
           }
          ],
          "scatterpolargl": [
           {
            "marker": {
             "colorbar": {
              "outlinewidth": 0,
              "ticks": ""
             }
            },
            "type": "scatterpolargl"
           }
          ],
          "scatterternary": [
           {
            "marker": {
             "colorbar": {
              "outlinewidth": 0,
              "ticks": ""
             }
            },
            "type": "scatterternary"
           }
          ],
          "surface": [
           {
            "colorbar": {
             "outlinewidth": 0,
             "ticks": ""
            },
            "colorscale": [
             [
              0,
              "#0d0887"
             ],
             [
              0.1111111111111111,
              "#46039f"
             ],
             [
              0.2222222222222222,
              "#7201a8"
             ],
             [
              0.3333333333333333,
              "#9c179e"
             ],
             [
              0.4444444444444444,
              "#bd3786"
             ],
             [
              0.5555555555555556,
              "#d8576b"
             ],
             [
              0.6666666666666666,
              "#ed7953"
             ],
             [
              0.7777777777777778,
              "#fb9f3a"
             ],
             [
              0.8888888888888888,
              "#fdca26"
             ],
             [
              1,
              "#f0f921"
             ]
            ],
            "type": "surface"
           }
          ],
          "table": [
           {
            "cells": {
             "fill": {
              "color": "#EBF0F8"
             },
             "line": {
              "color": "white"
             }
            },
            "header": {
             "fill": {
              "color": "#C8D4E3"
             },
             "line": {
              "color": "white"
             }
            },
            "type": "table"
           }
          ]
         },
         "layout": {
          "annotationdefaults": {
           "arrowcolor": "#2a3f5f",
           "arrowhead": 0,
           "arrowwidth": 1
          },
          "coloraxis": {
           "colorbar": {
            "outlinewidth": 0,
            "ticks": ""
           }
          },
          "colorscale": {
           "diverging": [
            [
             0,
             "#8e0152"
            ],
            [
             0.1,
             "#c51b7d"
            ],
            [
             0.2,
             "#de77ae"
            ],
            [
             0.3,
             "#f1b6da"
            ],
            [
             0.4,
             "#fde0ef"
            ],
            [
             0.5,
             "#f7f7f7"
            ],
            [
             0.6,
             "#e6f5d0"
            ],
            [
             0.7,
             "#b8e186"
            ],
            [
             0.8,
             "#7fbc41"
            ],
            [
             0.9,
             "#4d9221"
            ],
            [
             1,
             "#276419"
            ]
           ],
           "sequential": [
            [
             0,
             "#0d0887"
            ],
            [
             0.1111111111111111,
             "#46039f"
            ],
            [
             0.2222222222222222,
             "#7201a8"
            ],
            [
             0.3333333333333333,
             "#9c179e"
            ],
            [
             0.4444444444444444,
             "#bd3786"
            ],
            [
             0.5555555555555556,
             "#d8576b"
            ],
            [
             0.6666666666666666,
             "#ed7953"
            ],
            [
             0.7777777777777778,
             "#fb9f3a"
            ],
            [
             0.8888888888888888,
             "#fdca26"
            ],
            [
             1,
             "#f0f921"
            ]
           ],
           "sequentialminus": [
            [
             0,
             "#0d0887"
            ],
            [
             0.1111111111111111,
             "#46039f"
            ],
            [
             0.2222222222222222,
             "#7201a8"
            ],
            [
             0.3333333333333333,
             "#9c179e"
            ],
            [
             0.4444444444444444,
             "#bd3786"
            ],
            [
             0.5555555555555556,
             "#d8576b"
            ],
            [
             0.6666666666666666,
             "#ed7953"
            ],
            [
             0.7777777777777778,
             "#fb9f3a"
            ],
            [
             0.8888888888888888,
             "#fdca26"
            ],
            [
             1,
             "#f0f921"
            ]
           ]
          },
          "colorway": [
           "#1f77b4",
           "#ff7f0e",
           "#2ca02c",
           "#d62728",
           "#9467bd",
           "#8c564b",
           "#e377c2",
           "#7f7f7f",
           "#bcbd22",
           "#17becf"
          ],
          "font": {
           "color": "#2a3f5f"
          },
          "geo": {
           "bgcolor": "white",
           "lakecolor": "white",
           "landcolor": "white",
           "showlakes": true,
           "showland": true,
           "subunitcolor": "#C8D4E3"
          },
          "hoverlabel": {
           "align": "left"
          },
          "hovermode": "closest",
          "mapbox": {
           "style": "light"
          },
          "paper_bgcolor": "white",
          "plot_bgcolor": "white",
          "polar": {
           "angularaxis": {
            "gridcolor": "#EBF0F8",
            "linecolor": "#EBF0F8",
            "ticks": ""
           },
           "bgcolor": "white",
           "radialaxis": {
            "gridcolor": "#EBF0F8",
            "linecolor": "#EBF0F8",
            "ticks": ""
           }
          },
          "scene": {
           "camera": {
            "center": {
             "x": 0,
             "y": 0,
             "z": 0
            },
            "eye": {
             "x": 2,
             "y": 2,
             "z": 2
            },
            "up": {
             "x": 0,
             "y": 0,
             "z": 1
            }
           },
           "xaxis": {
            "backgroundcolor": "white",
            "gridcolor": "#DFE8F3",
            "gridwidth": 2,
            "linecolor": "#EBF0F8",
            "showbackground": true,
            "showspikes": false,
            "ticks": "",
            "zerolinecolor": "#EBF0F8"
           },
           "yaxis": {
            "backgroundcolor": "white",
            "gridcolor": "#DFE8F3",
            "gridwidth": 2,
            "linecolor": "#EBF0F8",
            "showbackground": true,
            "showspikes": false,
            "ticks": "",
            "zerolinecolor": "#EBF0F8"
           },
           "zaxis": {
            "backgroundcolor": "white",
            "gridcolor": "#DFE8F3",
            "gridwidth": 2,
            "linecolor": "#EBF0F8",
            "showbackground": true,
            "showspikes": false,
            "ticks": "",
            "zerolinecolor": "#EBF0F8"
           }
          },
          "shapedefaults": {
           "line": {
            "color": "#2a3f5f"
           }
          },
          "ternary": {
           "aaxis": {
            "gridcolor": "#DFE8F3",
            "linecolor": "#A2B1C6",
            "ticks": ""
           },
           "baxis": {
            "gridcolor": "#DFE8F3",
            "linecolor": "#A2B1C6",
            "ticks": ""
           },
           "bgcolor": "white",
           "caxis": {
            "gridcolor": "#DFE8F3",
            "linecolor": "#A2B1C6",
            "ticks": ""
           }
          },
          "title": {
           "x": 0.05
          },
          "xaxis": {
           "automargin": true,
           "gridcolor": "#EBF0F8",
           "linecolor": "black",
           "linewidth": 2,
           "mirror": true,
           "showline": true,
           "ticks": "",
           "title": {
            "standoff": 15
           },
           "zeroline": false,
           "zerolinecolor": "#EBF0F8",
           "zerolinewidth": 2
          },
          "yaxis": {
           "automargin": true,
           "gridcolor": "#EBF0F8",
           "linecolor": "black",
           "linewidth": 2,
           "mirror": true,
           "showline": true,
           "ticks": "",
           "title": {
            "standoff": 15
           },
           "zeroline": false,
           "zerolinecolor": "#EBF0F8",
           "zerolinewidth": 2
          }
         }
        },
        "title": {
         "text": "Rotor Model"
        },
        "xaxis": {
         "mirror": true,
         "range": [
          -0.06,
          0.66
         ],
         "showgrid": false,
         "title": {
          "text": "Axial location (m)"
         }
        },
        "yaxis": {
         "mirror": true,
         "range": [
          -0.18,
          0.18
         ],
         "showgrid": false,
         "title": {
          "text": "Shaft radius (m)"
         }
        }
       }
      }
     },
     "metadata": {}
    }
   ],
   "source": [
    "# ========================================================================\n",
    "# ROTOR\n",
    "#\n",
    "rotor = rs.Rotor(shaft_elements, [disk_geo], bearings)\n",
    "print(\"Rotor total mass = \", np.round(rotor.m, 2))\n",
    "print(\"Rotor center of gravity =\", np.round(rotor.CG, 2))\n",
    "rotor.plot_rotor()"
   ]
  },
  {
   "cell_type": "code",
   "execution_count": null,
   "metadata": {},
   "outputs": [],
   "source": []
  }
 ]
}