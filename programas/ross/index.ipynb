{
 "metadata": {
  "language_info": {
   "codemirror_mode": {
    "name": "ipython",
    "version": 3
   },
   "file_extension": ".py",
   "mimetype": "text/x-python",
   "name": "python",
   "nbconvert_exporter": "python",
   "pygments_lexer": "ipython3",
   "version": "3.8.5-final"
  },
  "orig_nbformat": 2,
  "kernelspec": {
   "name": "python3",
   "display_name": "Python 3",
   "language": "python"
  }
 },
 "nbformat": 4,
 "nbformat_minor": 2,
 "cells": [
  {
   "cell_type": "code",
   "execution_count": 2,
   "metadata": {},
   "outputs": [],
   "source": [
    "import os\n",
    "from pathlib import Path\n",
    "import ross as rs\n",
    "import numpy as np\n",
    "\n",
    "# MATERIAL\n",
    "#\n",
    "# E       - Módulo de young\n",
    "# G_s     - Módulo de cisalhamento (shear)\n",
    "# Poisson - Coeficiente de Poisson\n",
    "# rho     - Densidade do material\n",
    "ABNT1020  = rs.Material(name=\"ABNT1020\", rho=7850, E=2.05e11, Poisson=0.29)\n",
    "ASTMA36   = rs.Material(name=\"ASTMA36\", rho=7850, E=2e11, G_s=7.93e10)"
   ]
  },
  {
   "cell_type": "code",
   "execution_count": 3,
   "metadata": {},
   "outputs": [],
   "source": [
    "# ========================================================================\n",
    "# EIXO\n",
    "#\n",
    "L       = [0.3, 0.3, 0.052]   # length\n",
    "i_d     = 0                                     # inner diameter\n",
    "o_d     = 0.0127                                # outer diameter\n",
    "N_shaft = 3                                     # number of elements\n",
    "\n",
    "shaft_elements = [\n",
    "  rs.ShaftElement(\n",
    "    n=i,\n",
    "    L=L[i],\n",
    "    idl=i_d,\n",
    "    odl=o_d,\n",
    "    material=ABNT1020,\n",
    "    shear_effects=True,\n",
    "    rotary_inertia=True,\n",
    "    gyroscopic=True,\n",
    "    tag=(f\"Shaft el. {i}\")\n",
    "  )\n",
    "  for i in range(N_shaft)\n",
    "]"
   ]
  },
  {
   "cell_type": "code",
   "execution_count": 4,
   "metadata": {},
   "outputs": [],
   "source": [
    "# ========================================================================\n",
    "# DISCO\n",
    "#\n",
    "# Utilizando as propriedades geométricas:\n",
    "disk_geo = [\n",
    "  rs.DiskElement.from_geometry(\n",
    "    n=1,\n",
    "    material=ASTMA36,\n",
    "    width=0.01,\n",
    "    i_d=0.0127,\n",
    "    o_d=0.1807,\n",
    "    tag=\"Geometry disk\"\n",
    "  )\n",
    "]"
   ]
  },
  {
   "cell_type": "code",
   "execution_count": 5,
   "metadata": {},
   "outputs": [
    {
     "output_type": "error",
     "ename": "ValueError",
     "evalue": "A value in x_new is below the interpolation range.",
     "traceback": [
      "\u001b[0;31m---------------------------------------------------------------------------\u001b[0m",
      "\u001b[0;31mValueError\u001b[0m                                Traceback (most recent call last)",
      "\u001b[0;32m<ipython-input-5-7a53838ec39e>\u001b[0m in \u001b[0;36m<module>\u001b[0;34m\u001b[0m\n\u001b[1;32m      8\u001b[0m \u001b[0mfs\u001b[0m        \u001b[0;34m=\u001b[0m \u001b[0;36m500.0\u001b[0m\u001b[0;34m\u001b[0m\u001b[0;34m\u001b[0m\u001b[0m\n\u001b[1;32m      9\u001b[0m \u001b[0malpha\u001b[0m     \u001b[0;34m=\u001b[0m \u001b[0;34m(\u001b[0m\u001b[0mnp\u001b[0m\u001b[0;34m.\u001b[0m\u001b[0mpi\u001b[0m \u001b[0;34m*\u001b[0m \u001b[0;36m8\u001b[0m\u001b[0;34m)\u001b[0m \u001b[0;34m/\u001b[0m \u001b[0;34m(\u001b[0m\u001b[0;36m6\u001b[0m \u001b[0;34m*\u001b[0m \u001b[0mn_balls\u001b[0m\u001b[0;34m)\u001b[0m\u001b[0;34m\u001b[0m\u001b[0;34m\u001b[0m\u001b[0m\n\u001b[0;32m---> 10\u001b[0;31m bearings  = [\n\u001b[0m\u001b[1;32m     11\u001b[0m   rs.BallBearingElement(\n\u001b[1;32m     12\u001b[0m     \u001b[0mn\u001b[0m\u001b[0;34m=\u001b[0m\u001b[0mi\u001b[0m\u001b[0;34m*\u001b[0m\u001b[0;36m2\u001b[0m\u001b[0;34m,\u001b[0m\u001b[0;34m\u001b[0m\u001b[0;34m\u001b[0m\u001b[0m\n",
      "\u001b[0;32m<ipython-input-5-7a53838ec39e>\u001b[0m in \u001b[0;36m<listcomp>\u001b[0;34m(.0)\u001b[0m\n\u001b[1;32m      9\u001b[0m \u001b[0malpha\u001b[0m     \u001b[0;34m=\u001b[0m \u001b[0;34m(\u001b[0m\u001b[0mnp\u001b[0m\u001b[0;34m.\u001b[0m\u001b[0mpi\u001b[0m \u001b[0;34m*\u001b[0m \u001b[0;36m8\u001b[0m\u001b[0;34m)\u001b[0m \u001b[0;34m/\u001b[0m \u001b[0;34m(\u001b[0m\u001b[0;36m6\u001b[0m \u001b[0;34m*\u001b[0m \u001b[0mn_balls\u001b[0m\u001b[0;34m)\u001b[0m\u001b[0;34m\u001b[0m\u001b[0;34m\u001b[0m\u001b[0m\n\u001b[1;32m     10\u001b[0m bearings  = [\n\u001b[0;32m---> 11\u001b[0;31m   rs.BallBearingElement(\n\u001b[0m\u001b[1;32m     12\u001b[0m     \u001b[0mn\u001b[0m\u001b[0;34m=\u001b[0m\u001b[0mi\u001b[0m\u001b[0;34m*\u001b[0m\u001b[0;36m2\u001b[0m\u001b[0;34m,\u001b[0m\u001b[0;34m\u001b[0m\u001b[0;34m\u001b[0m\u001b[0m\n\u001b[1;32m     13\u001b[0m     \u001b[0mn_balls\u001b[0m\u001b[0;34m=\u001b[0m\u001b[0mn_balls\u001b[0m\u001b[0;34m,\u001b[0m\u001b[0;34m\u001b[0m\u001b[0;34m\u001b[0m\u001b[0m\n",
      "\u001b[0;32m~/.local/lib/python3.8/site-packages/ross/bearing_seal_element.py\u001b[0m in \u001b[0;36m__init__\u001b[0;34m(self, n, n_balls, d_balls, fs, alpha, cxx, cyy, tag, n_link, scale_factor)\u001b[0m\n\u001b[1;32m   1237\u001b[0m         \u001b[0;32melse\u001b[0m\u001b[0;34m:\u001b[0m\u001b[0;34m\u001b[0m\u001b[0;34m\u001b[0m\u001b[0m\n\u001b[1;32m   1238\u001b[0m             \u001b[0mf\u001b[0m \u001b[0;34m=\u001b[0m \u001b[0minterpolate\u001b[0m\u001b[0;34m.\u001b[0m\u001b[0minterp1d\u001b[0m\u001b[0;34m(\u001b[0m\u001b[0mnb\u001b[0m\u001b[0;34m,\u001b[0m \u001b[0mratio\u001b[0m\u001b[0;34m,\u001b[0m \u001b[0mkind\u001b[0m\u001b[0;34m=\u001b[0m\u001b[0;34m\"quadratic\"\u001b[0m\u001b[0;34m)\u001b[0m\u001b[0;34m\u001b[0m\u001b[0;34m\u001b[0m\u001b[0m\n\u001b[0;32m-> 1239\u001b[0;31m             \u001b[0mkxx\u001b[0m \u001b[0;34m=\u001b[0m \u001b[0mf\u001b[0m\u001b[0;34m(\u001b[0m\u001b[0mn_balls\u001b[0m\u001b[0;34m)\u001b[0m\u001b[0;34m\u001b[0m\u001b[0;34m\u001b[0m\u001b[0m\n\u001b[0m\u001b[1;32m   1240\u001b[0m \u001b[0;34m\u001b[0m\u001b[0m\n\u001b[1;32m   1241\u001b[0m         \u001b[0;32mif\u001b[0m \u001b[0mcxx\u001b[0m \u001b[0;32mis\u001b[0m \u001b[0;32mNone\u001b[0m\u001b[0;34m:\u001b[0m\u001b[0;34m\u001b[0m\u001b[0;34m\u001b[0m\u001b[0m\n",
      "\u001b[0;32m~/.local/lib/python3.8/site-packages/scipy/interpolate/polyint.py\u001b[0m in \u001b[0;36m__call__\u001b[0;34m(self, x)\u001b[0m\n\u001b[1;32m     76\u001b[0m         \"\"\"\n\u001b[1;32m     77\u001b[0m         \u001b[0mx\u001b[0m\u001b[0;34m,\u001b[0m \u001b[0mx_shape\u001b[0m \u001b[0;34m=\u001b[0m \u001b[0mself\u001b[0m\u001b[0;34m.\u001b[0m\u001b[0m_prepare_x\u001b[0m\u001b[0;34m(\u001b[0m\u001b[0mx\u001b[0m\u001b[0;34m)\u001b[0m\u001b[0;34m\u001b[0m\u001b[0;34m\u001b[0m\u001b[0m\n\u001b[0;32m---> 78\u001b[0;31m         \u001b[0my\u001b[0m \u001b[0;34m=\u001b[0m \u001b[0mself\u001b[0m\u001b[0;34m.\u001b[0m\u001b[0m_evaluate\u001b[0m\u001b[0;34m(\u001b[0m\u001b[0mx\u001b[0m\u001b[0;34m)\u001b[0m\u001b[0;34m\u001b[0m\u001b[0;34m\u001b[0m\u001b[0m\n\u001b[0m\u001b[1;32m     79\u001b[0m         \u001b[0;32mreturn\u001b[0m \u001b[0mself\u001b[0m\u001b[0;34m.\u001b[0m\u001b[0m_finish_y\u001b[0m\u001b[0;34m(\u001b[0m\u001b[0my\u001b[0m\u001b[0;34m,\u001b[0m \u001b[0mx_shape\u001b[0m\u001b[0;34m)\u001b[0m\u001b[0;34m\u001b[0m\u001b[0;34m\u001b[0m\u001b[0m\n\u001b[1;32m     80\u001b[0m \u001b[0;34m\u001b[0m\u001b[0m\n",
      "\u001b[0;32m~/.local/lib/python3.8/site-packages/scipy/interpolate/interpolate.py\u001b[0m in \u001b[0;36m_evaluate\u001b[0;34m(self, x_new)\u001b[0m\n\u001b[1;32m    675\u001b[0m         \u001b[0my_new\u001b[0m \u001b[0;34m=\u001b[0m \u001b[0mself\u001b[0m\u001b[0;34m.\u001b[0m\u001b[0m_call\u001b[0m\u001b[0;34m(\u001b[0m\u001b[0mself\u001b[0m\u001b[0;34m,\u001b[0m \u001b[0mx_new\u001b[0m\u001b[0;34m)\u001b[0m\u001b[0;34m\u001b[0m\u001b[0;34m\u001b[0m\u001b[0m\n\u001b[1;32m    676\u001b[0m         \u001b[0;32mif\u001b[0m \u001b[0;32mnot\u001b[0m \u001b[0mself\u001b[0m\u001b[0;34m.\u001b[0m\u001b[0m_extrapolate\u001b[0m\u001b[0;34m:\u001b[0m\u001b[0;34m\u001b[0m\u001b[0;34m\u001b[0m\u001b[0m\n\u001b[0;32m--> 677\u001b[0;31m             \u001b[0mbelow_bounds\u001b[0m\u001b[0;34m,\u001b[0m \u001b[0mabove_bounds\u001b[0m \u001b[0;34m=\u001b[0m \u001b[0mself\u001b[0m\u001b[0;34m.\u001b[0m\u001b[0m_check_bounds\u001b[0m\u001b[0;34m(\u001b[0m\u001b[0mx_new\u001b[0m\u001b[0;34m)\u001b[0m\u001b[0;34m\u001b[0m\u001b[0;34m\u001b[0m\u001b[0m\n\u001b[0m\u001b[1;32m    678\u001b[0m             \u001b[0;32mif\u001b[0m \u001b[0mlen\u001b[0m\u001b[0;34m(\u001b[0m\u001b[0my_new\u001b[0m\u001b[0;34m)\u001b[0m \u001b[0;34m>\u001b[0m \u001b[0;36m0\u001b[0m\u001b[0;34m:\u001b[0m\u001b[0;34m\u001b[0m\u001b[0;34m\u001b[0m\u001b[0m\n\u001b[1;32m    679\u001b[0m                 \u001b[0;31m# Note fill_value must be broadcast up to the proper size\u001b[0m\u001b[0;34m\u001b[0m\u001b[0;34m\u001b[0m\u001b[0;34m\u001b[0m\u001b[0m\n",
      "\u001b[0;32m~/.local/lib/python3.8/site-packages/scipy/interpolate/interpolate.py\u001b[0m in \u001b[0;36m_check_bounds\u001b[0;34m(self, x_new)\u001b[0m\n\u001b[1;32m    704\u001b[0m         \u001b[0;31m# !! Could provide more information about which values are out of bounds\u001b[0m\u001b[0;34m\u001b[0m\u001b[0;34m\u001b[0m\u001b[0;34m\u001b[0m\u001b[0m\n\u001b[1;32m    705\u001b[0m         \u001b[0;32mif\u001b[0m \u001b[0mself\u001b[0m\u001b[0;34m.\u001b[0m\u001b[0mbounds_error\u001b[0m \u001b[0;32mand\u001b[0m \u001b[0mbelow_bounds\u001b[0m\u001b[0;34m.\u001b[0m\u001b[0many\u001b[0m\u001b[0;34m(\u001b[0m\u001b[0;34m)\u001b[0m\u001b[0;34m:\u001b[0m\u001b[0;34m\u001b[0m\u001b[0;34m\u001b[0m\u001b[0m\n\u001b[0;32m--> 706\u001b[0;31m             raise ValueError(\"A value in x_new is below the interpolation \"\n\u001b[0m\u001b[1;32m    707\u001b[0m                              \"range.\")\n\u001b[1;32m    708\u001b[0m         \u001b[0;32mif\u001b[0m \u001b[0mself\u001b[0m\u001b[0;34m.\u001b[0m\u001b[0mbounds_error\u001b[0m \u001b[0;32mand\u001b[0m \u001b[0mabove_bounds\u001b[0m\u001b[0;34m.\u001b[0m\u001b[0many\u001b[0m\u001b[0;34m(\u001b[0m\u001b[0;34m)\u001b[0m\u001b[0;34m:\u001b[0m\u001b[0;34m\u001b[0m\u001b[0;34m\u001b[0m\u001b[0m\n",
      "\u001b[0;31mValueError\u001b[0m: A value in x_new is below the interpolation range."
     ]
    }
   ],
   "source": [
    "# ========================================================================\n",
    "# ROLAMENTOS E VEDAÇÕES\n",
    "#\n",
    "N_bearing = 2\n",
    "\n",
    "n_balls   = 7\n",
    "d_balls   = 0.006\n",
    "fs        = 500.0\n",
    "alpha     = (np.pi * 8) / (6 * n_balls)\n",
    "bearings  = [\n",
    "  rs.BallBearingElement(\n",
    "    n=i*2,\n",
    "    n_balls=n_balls,\n",
    "    d_balls=d_balls,\n",
    "    fs=fs,\n",
    "    alpha=alpha,\n",
    "    tag=(f\"Ball Bearing {i}\")\n",
    "  )\n",
    "  for i in range(N_bearing)\n",
    "]"
   ]
  },
  {
   "cell_type": "code",
   "execution_count": 50,
   "metadata": {},
   "outputs": [
    {
     "output_type": "stream",
     "name": "stdout",
     "text": [
      "Rotor total mass =  2.65\nRotor center of gravity = 0.31\n"
     ]
    },
    {
     "output_type": "error",
     "ename": "KeyError",
     "evalue": "'y_pos_sup'",
     "traceback": [
      "\u001b[0;31m---------------------------------------------------------------------------\u001b[0m",
      "\u001b[0;31mKeyError\u001b[0m                                  Traceback (most recent call last)",
      "\u001b[0;32m~/.local/lib/python3.8/site-packages/pandas/core/indexes/base.py\u001b[0m in \u001b[0;36mget_loc\u001b[0;34m(self, key, method, tolerance)\u001b[0m\n\u001b[1;32m   3079\u001b[0m             \u001b[0;32mtry\u001b[0m\u001b[0;34m:\u001b[0m\u001b[0;34m\u001b[0m\u001b[0;34m\u001b[0m\u001b[0m\n\u001b[0;32m-> 3080\u001b[0;31m                 \u001b[0;32mreturn\u001b[0m \u001b[0mself\u001b[0m\u001b[0;34m.\u001b[0m\u001b[0m_engine\u001b[0m\u001b[0;34m.\u001b[0m\u001b[0mget_loc\u001b[0m\u001b[0;34m(\u001b[0m\u001b[0mcasted_key\u001b[0m\u001b[0;34m)\u001b[0m\u001b[0;34m\u001b[0m\u001b[0;34m\u001b[0m\u001b[0m\n\u001b[0m\u001b[1;32m   3081\u001b[0m             \u001b[0;32mexcept\u001b[0m \u001b[0mKeyError\u001b[0m \u001b[0;32mas\u001b[0m \u001b[0merr\u001b[0m\u001b[0;34m:\u001b[0m\u001b[0;34m\u001b[0m\u001b[0;34m\u001b[0m\u001b[0m\n",
      "\u001b[0;32mpandas/_libs/index.pyx\u001b[0m in \u001b[0;36mpandas._libs.index.IndexEngine.get_loc\u001b[0;34m()\u001b[0m\n",
      "\u001b[0;32mpandas/_libs/index.pyx\u001b[0m in \u001b[0;36mpandas._libs.index.IndexEngine.get_loc\u001b[0;34m()\u001b[0m\n",
      "\u001b[0;32mpandas/_libs/hashtable_class_helper.pxi\u001b[0m in \u001b[0;36mpandas._libs.hashtable.PyObjectHashTable.get_item\u001b[0;34m()\u001b[0m\n",
      "\u001b[0;32mpandas/_libs/hashtable_class_helper.pxi\u001b[0m in \u001b[0;36mpandas._libs.hashtable.PyObjectHashTable.get_item\u001b[0;34m()\u001b[0m\n",
      "\u001b[0;31mKeyError\u001b[0m: 'y_pos_sup'",
      "\nThe above exception was the direct cause of the following exception:\n",
      "\u001b[0;31mKeyError\u001b[0m                                  Traceback (most recent call last)",
      "\u001b[0;32m<ipython-input-50-3978442797dd>\u001b[0m in \u001b[0;36m<module>\u001b[0;34m\u001b[0m\n\u001b[1;32m      5\u001b[0m \u001b[0mprint\u001b[0m\u001b[0;34m(\u001b[0m\u001b[0;34m\"Rotor total mass = \"\u001b[0m\u001b[0;34m,\u001b[0m \u001b[0mnp\u001b[0m\u001b[0;34m.\u001b[0m\u001b[0mround\u001b[0m\u001b[0;34m(\u001b[0m\u001b[0mrotor\u001b[0m\u001b[0;34m.\u001b[0m\u001b[0mm\u001b[0m\u001b[0;34m,\u001b[0m \u001b[0;36m2\u001b[0m\u001b[0;34m)\u001b[0m\u001b[0;34m)\u001b[0m\u001b[0;34m\u001b[0m\u001b[0;34m\u001b[0m\u001b[0m\n\u001b[1;32m      6\u001b[0m \u001b[0mprint\u001b[0m\u001b[0;34m(\u001b[0m\u001b[0;34m\"Rotor center of gravity =\"\u001b[0m\u001b[0;34m,\u001b[0m \u001b[0mnp\u001b[0m\u001b[0;34m.\u001b[0m\u001b[0mround\u001b[0m\u001b[0;34m(\u001b[0m\u001b[0mrotor\u001b[0m\u001b[0;34m.\u001b[0m\u001b[0mCG\u001b[0m\u001b[0;34m,\u001b[0m \u001b[0;36m2\u001b[0m\u001b[0;34m)\u001b[0m\u001b[0;34m)\u001b[0m\u001b[0;34m\u001b[0m\u001b[0;34m\u001b[0m\u001b[0m\n\u001b[0;32m----> 7\u001b[0;31m \u001b[0mrotor\u001b[0m\u001b[0;34m.\u001b[0m\u001b[0mplot_rotor\u001b[0m\u001b[0;34m(\u001b[0m\u001b[0;34m)\u001b[0m\u001b[0;34m\u001b[0m\u001b[0;34m\u001b[0m\u001b[0m\n\u001b[0m",
      "\u001b[0;32m~/.local/lib/python3.8/site-packages/ross/rotor_assembly.py\u001b[0m in \u001b[0;36mplot_rotor\u001b[0;34m(self, nodes, check_sld, length_units, **kwargs)\u001b[0m\n\u001b[1;32m   1829\u001b[0m             )\n\u001b[1;32m   1830\u001b[0m             y_pos_sup = (\n\u001b[0;32m-> 1831\u001b[0;31m                 \u001b[0mQ_\u001b[0m\u001b[0;34m(\u001b[0m\u001b[0mself\u001b[0m\u001b[0;34m.\u001b[0m\u001b[0mdf\u001b[0m\u001b[0;34m[\u001b[0m\u001b[0mself\u001b[0m\u001b[0;34m.\u001b[0m\u001b[0mdf\u001b[0m\u001b[0;34m.\u001b[0m\u001b[0mtag\u001b[0m \u001b[0;34m==\u001b[0m \u001b[0mbearing\u001b[0m\u001b[0;34m.\u001b[0m\u001b[0mtag\u001b[0m\u001b[0;34m]\u001b[0m\u001b[0;34m[\u001b[0m\u001b[0;34m\"y_pos_sup\"\u001b[0m\u001b[0;34m]\u001b[0m\u001b[0;34m.\u001b[0m\u001b[0mvalues\u001b[0m\u001b[0;34m[\u001b[0m\u001b[0;36m0\u001b[0m\u001b[0;34m]\u001b[0m\u001b[0;34m,\u001b[0m \u001b[0;34m\"m\"\u001b[0m\u001b[0;34m)\u001b[0m\u001b[0;34m\u001b[0m\u001b[0;34m\u001b[0m\u001b[0m\n\u001b[0m\u001b[1;32m   1832\u001b[0m                 \u001b[0;34m.\u001b[0m\u001b[0mto\u001b[0m\u001b[0;34m(\u001b[0m\u001b[0mlength_units\u001b[0m\u001b[0;34m)\u001b[0m\u001b[0;34m\u001b[0m\u001b[0;34m\u001b[0m\u001b[0m\n\u001b[1;32m   1833\u001b[0m                 \u001b[0;34m.\u001b[0m\u001b[0mm\u001b[0m\u001b[0;34m\u001b[0m\u001b[0;34m\u001b[0m\u001b[0m\n",
      "\u001b[0;32m~/.local/lib/python3.8/site-packages/pandas/core/frame.py\u001b[0m in \u001b[0;36m__getitem__\u001b[0;34m(self, key)\u001b[0m\n\u001b[1;32m   3022\u001b[0m             \u001b[0;32mif\u001b[0m \u001b[0mself\u001b[0m\u001b[0;34m.\u001b[0m\u001b[0mcolumns\u001b[0m\u001b[0;34m.\u001b[0m\u001b[0mnlevels\u001b[0m \u001b[0;34m>\u001b[0m \u001b[0;36m1\u001b[0m\u001b[0;34m:\u001b[0m\u001b[0;34m\u001b[0m\u001b[0;34m\u001b[0m\u001b[0m\n\u001b[1;32m   3023\u001b[0m                 \u001b[0;32mreturn\u001b[0m \u001b[0mself\u001b[0m\u001b[0;34m.\u001b[0m\u001b[0m_getitem_multilevel\u001b[0m\u001b[0;34m(\u001b[0m\u001b[0mkey\u001b[0m\u001b[0;34m)\u001b[0m\u001b[0;34m\u001b[0m\u001b[0;34m\u001b[0m\u001b[0m\n\u001b[0;32m-> 3024\u001b[0;31m             \u001b[0mindexer\u001b[0m \u001b[0;34m=\u001b[0m \u001b[0mself\u001b[0m\u001b[0;34m.\u001b[0m\u001b[0mcolumns\u001b[0m\u001b[0;34m.\u001b[0m\u001b[0mget_loc\u001b[0m\u001b[0;34m(\u001b[0m\u001b[0mkey\u001b[0m\u001b[0;34m)\u001b[0m\u001b[0;34m\u001b[0m\u001b[0;34m\u001b[0m\u001b[0m\n\u001b[0m\u001b[1;32m   3025\u001b[0m             \u001b[0;32mif\u001b[0m \u001b[0mis_integer\u001b[0m\u001b[0;34m(\u001b[0m\u001b[0mindexer\u001b[0m\u001b[0;34m)\u001b[0m\u001b[0;34m:\u001b[0m\u001b[0;34m\u001b[0m\u001b[0;34m\u001b[0m\u001b[0m\n\u001b[1;32m   3026\u001b[0m                 \u001b[0mindexer\u001b[0m \u001b[0;34m=\u001b[0m \u001b[0;34m[\u001b[0m\u001b[0mindexer\u001b[0m\u001b[0;34m]\u001b[0m\u001b[0;34m\u001b[0m\u001b[0;34m\u001b[0m\u001b[0m\n",
      "\u001b[0;32m~/.local/lib/python3.8/site-packages/pandas/core/indexes/base.py\u001b[0m in \u001b[0;36mget_loc\u001b[0;34m(self, key, method, tolerance)\u001b[0m\n\u001b[1;32m   3080\u001b[0m                 \u001b[0;32mreturn\u001b[0m \u001b[0mself\u001b[0m\u001b[0;34m.\u001b[0m\u001b[0m_engine\u001b[0m\u001b[0;34m.\u001b[0m\u001b[0mget_loc\u001b[0m\u001b[0;34m(\u001b[0m\u001b[0mcasted_key\u001b[0m\u001b[0;34m)\u001b[0m\u001b[0;34m\u001b[0m\u001b[0;34m\u001b[0m\u001b[0m\n\u001b[1;32m   3081\u001b[0m             \u001b[0;32mexcept\u001b[0m \u001b[0mKeyError\u001b[0m \u001b[0;32mas\u001b[0m \u001b[0merr\u001b[0m\u001b[0;34m:\u001b[0m\u001b[0;34m\u001b[0m\u001b[0;34m\u001b[0m\u001b[0m\n\u001b[0;32m-> 3082\u001b[0;31m                 \u001b[0;32mraise\u001b[0m \u001b[0mKeyError\u001b[0m\u001b[0;34m(\u001b[0m\u001b[0mkey\u001b[0m\u001b[0;34m)\u001b[0m \u001b[0;32mfrom\u001b[0m \u001b[0merr\u001b[0m\u001b[0;34m\u001b[0m\u001b[0;34m\u001b[0m\u001b[0m\n\u001b[0m\u001b[1;32m   3083\u001b[0m \u001b[0;34m\u001b[0m\u001b[0m\n\u001b[1;32m   3084\u001b[0m         \u001b[0;32mif\u001b[0m \u001b[0mtolerance\u001b[0m \u001b[0;32mis\u001b[0m \u001b[0;32mnot\u001b[0m \u001b[0;32mNone\u001b[0m\u001b[0;34m:\u001b[0m\u001b[0;34m\u001b[0m\u001b[0;34m\u001b[0m\u001b[0m\n",
      "\u001b[0;31mKeyError\u001b[0m: 'y_pos_sup'"
     ]
    }
   ],
   "source": [
    "# ========================================================================\n",
    "# ROTOR\n",
    "#\n",
    "rotor = rs.Rotor(shaft_elements, disk_geo, bearings)\n",
    "print(\"Rotor total mass = \", np.round(rotor.m, 2))\n",
    "print(\"Rotor center of gravity =\", np.round(rotor.CG, 2))\n",
    "rotor.plot_rotor()"
   ]
  },
  {
   "cell_type": "code",
   "execution_count": 39,
   "metadata": {},
   "outputs": [
    {
     "output_type": "display_data",
     "data": {
      "application/vnd.plotly.v1+json": {
       "config": {
        "plotlyServerURL": "https://plot.ly"
       },
       "data": [
        {
         "hovertemplate": "Frequency (rad/s): %{x:.2f}<br>Critical Speed (rad/s): %{y:.2f}",
         "legendgroup": "Crit. Speed",
         "marker": {
          "color": "black",
          "symbol": "x"
         },
         "mode": "markers",
         "name": "Crit. Speed",
         "showlegend": false,
         "type": "scatter",
         "x": [],
         "y": []
        },
        {
         "hoverinfo": "none",
         "legendgroup": "Foward",
         "marker": {
          "color": [],
          "coloraxis": "coloraxis",
          "symbol": "triangle-up"
         },
         "mode": "markers",
         "name": "Foward",
         "showlegend": false,
         "type": "scatter",
         "x": [],
         "y": []
        },
        {
         "hovertemplate": "Frequency (rad/s): %{x:.2f}<br>Critical Speed (rad/s): %{y:.2f}",
         "legendgroup": "Crit. Speed",
         "marker": {
          "color": "black",
          "symbol": "x"
         },
         "mode": "markers",
         "name": "Crit. Speed",
         "showlegend": false,
         "type": "scatter",
         "x": [],
         "y": []
        },
        {
         "hoverinfo": "none",
         "legendgroup": "Foward",
         "marker": {
          "color": [
           0.0000020655817075458738,
           0.000002110190968738596,
           0.000002155333956198846,
           0.0000021997616383038164,
           0.0000022426076513844973,
           0.0000022833957586330103,
           0.0000023218341710002257,
           0.0000023578177857280724,
           0.00000239135005660324,
           0.0000024225337272138595,
           0.0000024514762268558024,
           0.0000024783126808788635,
           0.0000025032399780085423,
           0.000002526364147145121,
           0.0000025478710160543944,
           0.000002567875472114709,
           0.0000025865081087634066,
           0.0000026038832432656724,
           0.000002620131511550717,
           0.0000026353194083094255,
           0.0000026495598216699106,
           0.0000026629227827196165,
           0.0000026754919252636977,
           0.0000026873142838772863,
           0.000002698472312007731,
           0.000002708996934277806,
           0.000002718951393619689,
           0.0000027283737097847026,
           0.0000027373032341078808,
           0.0000027457801154056047,
           0.000002753838196009085,
           0.0000027614992932252752,
           0.000002768789048884961,
           0.000002775754727714795,
           0.000002782391530331006,
           0.0000027887448301584713,
           0.0000027948137013618397,
           0.000002800623285260579,
           0.0000028061848926674435,
           0.00000281151572377154,
           0.000002816643270755667,
           0.0000028215560203655137,
           0.0000028262865352545913,
           0.0000028308347991297064,
           0.000002835215392542181,
           0.000002839431050066913,
           0.000002843501856638591,
           0.000002847434935115971,
           0.0000028512122131774043,
           0.0000028548851277157826
          ],
          "coloraxis": "coloraxis",
          "symbol": "triangle-up"
         },
         "mode": "markers",
         "name": "Foward",
         "showlegend": false,
         "type": "scatter",
         "x": [
          200,
          236.73469387755102,
          273.46938775510205,
          310.2040816326531,
          346.9387755102041,
          383.6734693877551,
          420.40816326530614,
          457.14285714285717,
          493.8775510204082,
          530.6122448979593,
          567.3469387755102,
          604.0816326530612,
          640.8163265306123,
          677.5510204081634,
          714.2857142857143,
          751.0204081632653,
          787.7551020408164,
          824.4897959183675,
          861.2244897959184,
          897.9591836734694,
          934.6938775510205,
          971.4285714285716,
          1008.1632653061225,
          1044.8979591836735,
          1081.6326530612246,
          1118.3673469387757,
          1155.1020408163267,
          1191.8367346938776,
          1228.5714285714287,
          1265.3061224489797,
          1302.0408163265306,
          1338.7755102040817,
          1375.5102040816328,
          1412.2448979591838,
          1448.979591836735,
          1485.7142857142858,
          1522.4489795918369,
          1559.183673469388,
          1595.9183673469388,
          1632.6530612244899,
          1669.387755102041,
          1706.122448979592,
          1742.8571428571431,
          1779.591836734694,
          1816.326530612245,
          1853.0612244897961,
          1889.795918367347,
          1926.530612244898,
          1963.2653061224491,
          2000
         ],
         "y": [
          159.13063007380615,
          159.1314151734551,
          159.13228936992977,
          159.1332404301792,
          159.13425745391766,
          159.13533094381214,
          159.13645275005365,
          159.13761594648233,
          159.1388146814194,
          159.14004402065797,
          159.1412998096239,
          159.14257854535873,
          159.14387726852124,
          159.14519347305102,
          159.14652502778154,
          159.14787011640902,
          159.1492271832805,
          159.15059489227517,
          159.15197208958202,
          159.15335777794152,
          159.15475108800797,
          159.15615126349473,
          159.1575576408253,
          159.15896963748335,
          159.16038673993938,
          159.1618084937842,
          159.1632344962247,
          159.16466438821232,
          159.1660978498613,
          159.167534594103,
          159.16897436423224,
          159.17041692890876,
          159.1718620796197,
          159.1733096277841,
          159.17475940229872,
          159.17621124828094,
          159.17766502438212,
          159.17912060163346,
          159.18057786263174,
          159.1820367002521,
          159.1834970151311,
          159.18495871685616,
          159.18642172215107,
          159.1878859536925,
          159.18935134122594,
          159.19081781872978,
          159.19228532598862,
          159.19375380613255,
          159.1952232072583,
          159.1966934808871
         ]
        },
        {
         "hovertemplate": "Frequency (rad/s): %{x:.2f}<br>Critical Speed (rad/s): %{y:.2f}",
         "legendgroup": "Crit. Speed",
         "marker": {
          "color": "black",
          "symbol": "x"
         },
         "mode": "markers",
         "name": "Crit. Speed",
         "showlegend": false,
         "type": "scatter",
         "x": [
          624.5503747431352
         ],
         "y": [
          624.5503747431352
         ]
        },
        {
         "hoverinfo": "none",
         "legendgroup": "Foward",
         "marker": {
          "color": [],
          "coloraxis": "coloraxis",
          "symbol": "triangle-up"
         },
         "mode": "markers",
         "name": "Foward",
         "showlegend": false,
         "type": "scatter",
         "x": [],
         "y": []
        },
        {
         "hovertemplate": "Frequency (rad/s): %{x:.2f}<br>Critical Speed (rad/s): %{y:.2f}",
         "legendgroup": "Crit. Speed",
         "marker": {
          "color": "black",
          "symbol": "x"
         },
         "mode": "markers",
         "name": "Crit. Speed",
         "showlegend": false,
         "type": "scatter",
         "x": [],
         "y": []
        },
        {
         "hoverinfo": "none",
         "legendgroup": "Foward",
         "marker": {
          "color": [
           0.00004145020944782579,
           0.000043044084070209476,
           0.00004473497656900778,
           0.00004653011840357082,
           0.000048437055999791945,
           0.000050463678644360564,
           0.00005261824328334832,
           0.00005490935563932504,
           0.000057345984165613155,
           0.00005993741341713994,
           0.00006269324156666907,
           0.00006562333097010324,
           0.00006873775438722783,
           0.0000720467556435555,
           0.00007556065721927743,
           0.00007928978457212083,
           0.00008324435843324561,
           0.00008743437294497429,
           0.00009186945153072599,
           0.00009655870476261055,
           0.00010151052913830791,
           0.00010673242474724693,
           0.00011223077454510152,
           0.00011801061764276842,
           0.00012407540340685845,
           0.00013042674695276809,
           0.00013706418260205983,
           0.000143984925979662,
           0.00015118363734597235,
           0.00015865224286015637,
           0.000166379761555522,
           0.00017435219584007307,
           0.00018255248297308695,
           0.00019096050075317805,
           0.00019955315143564171,
           0.00020830454007132743,
           0.00021718620876250635,
           0.00022616746491113473,
           0.00023521577716235383,
           0.00024429722019997185,
           0.00025337700257577255,
           0.00026241997341529537,
           0.00027139119882551514,
           0.000280256481371983,
           0.0002889828935608525,
           0.00029753924437246024,
           0.00030589651169252456,
           0.0003140281753671869,
           0.00032191052884463867,
           0.0003295228350212158
          ],
          "coloraxis": "coloraxis",
          "symbol": "triangle-up"
         },
         "mode": "markers",
         "name": "Foward",
         "showlegend": false,
         "type": "scatter",
         "x": [
          200,
          236.73469387755102,
          273.46938775510205,
          310.2040816326531,
          346.9387755102041,
          383.6734693877551,
          420.40816326530614,
          457.14285714285717,
          493.8775510204082,
          530.6122448979593,
          567.3469387755102,
          604.0816326530612,
          640.8163265306123,
          677.5510204081634,
          714.2857142857143,
          751.0204081632653,
          787.7551020408164,
          824.4897959183675,
          861.2244897959184,
          897.9591836734694,
          934.6938775510205,
          971.4285714285716,
          1008.1632653061225,
          1044.8979591836735,
          1081.6326530612246,
          1118.3673469387757,
          1155.1020408163267,
          1191.8367346938776,
          1228.5714285714287,
          1265.3061224489797,
          1302.0408163265306,
          1338.7755102040817,
          1375.5102040816328,
          1412.2448979591838,
          1448.979591836735,
          1485.7142857142858,
          1522.4489795918369,
          1559.183673469388,
          1595.9183673469388,
          1632.6530612244899,
          1669.387755102041,
          1706.122448979592,
          1742.8571428571431,
          1779.591836734694,
          1816.326530612245,
          1853.0612244897961,
          1889.795918367347,
          1926.530612244898,
          1963.2653061224491,
          2000
         ],
         "y": [
          1165.700824479907,
          1198.416822355304,
          1231.7762854539976,
          1265.7513619759166,
          1300.3118803346858,
          1335.4254946826686,
          1371.057837732066,
          1407.1726774357035,
          1443.7320744680944,
          1480.696537930095,
          1518.025177227459,
          1555.675848653765,
          1593.6052957942868,
          1631.7692834505626,
          1670.1227253416598,
          1708.6198063404008,
          1747.2141004632233,
          1785.858686200323,
          1824.506261095062,
          1863.1092576651781,
          1901.6199629276132,
          1939.9906437632253,
          1978.1736803238975,
          2016.1217094570413,
          2053.7877798331915,
          2091.125520042531,
          2128.0893203683977,
          2164.6345283161577,
          2200.717657208266,
          2236.296606368879,
          2271.3308905026606,
          2305.7818750580873,
          2339.6130134863715,
          2372.790081578792,
          2405.2814034907865,
          2437.0580636476166,
          2468.094098595843,
          2498.366663010042,
          2527.8561645015598,
          2556.546362613167,
          2584.424428391562,
          2611.480962140858,
          2637.709968341995,
          2663.108788134175,
          2687.677991191971,
          2711.421230126814,
          2734.3450616427053,
          2756.45873959766,
          2777.773985708519,
          2798.3047439347492
         ]
        },
        {
         "hovertemplate": "Frequency (rad/s): %{x:.2f}<br>Critical Speed (rad/s): %{y:.2f}",
         "legendgroup": "Crit. Speed",
         "marker": {
          "color": "black",
          "symbol": "x"
         },
         "mode": "markers",
         "name": "Crit. Speed",
         "showlegend": false,
         "type": "scatter",
         "x": [],
         "y": []
        },
        {
         "hoverinfo": "none",
         "legendgroup": "Foward",
         "marker": {
          "color": [],
          "coloraxis": "coloraxis",
          "symbol": "triangle-up"
         },
         "mode": "markers",
         "name": "Foward",
         "showlegend": false,
         "type": "scatter",
         "x": [],
         "y": []
        },
        {
         "hovertemplate": "Frequency (rad/s): %{x:.2f}<br>Critical Speed (rad/s): %{y:.2f}",
         "legendgroup": "Crit. Speed",
         "marker": {
          "color": "black",
          "symbol": "x"
         },
         "mode": "markers",
         "name": "Crit. Speed",
         "showlegend": false,
         "type": "scatter",
         "x": [],
         "y": []
        },
        {
         "hoverinfo": "none",
         "legendgroup": "Foward",
         "marker": {
          "color": [
           0.0003509866647561294,
           0.000361103304587236,
           0.0003702269963812334,
           0.0003787587700224527,
           0.0003869405735364861,
           0.0003949266588463235,
           0.0004028198651551977,
           0.00041069132089873497,
           0.00041859164722251484,
           0.00042655772276915896,
           0.0004346168224544628,
           0.0004427893121826541,
           0.00045109043150581173,
           0.00045953146159781396,
           0.00046812058920709255,
           0.0004768634680252469,
           0.00048576365111651406,
           0.0004948229114873947,
           0.0005040414641847037,
           0.0005134181388744529,
           0.0005229505472438586,
           0.000532635179412346,
           0.0005424675158519092,
           0.0005524421048198839,
           0.0005625526524742569,
           0.0005727920925040726,
           0.0005831526548709648,
           0.0005936259338799188,
           0.0006042029816027028,
           0.0006148743457875231,
           0.0006256301617611895,
           0.0006364602204125743,
           0.0006473540260601866,
           0.0006583008788209627,
           0.0006692899516817105,
           0.0006803103329096435,
           0.0006913511158969927,
           0.0007024014511906126,
           0.0007134506070805653,
           0.000724488044443378,
           0.0007355034330649833,
           0.0007464867466465854,
           0.0007574282608997602,
           0.0007683186307422006,
           0.0007791489029745077,
           0.0007899105574119415,
           0.0008005955180456932,
           0.0008111961972507919,
           0.0008217054702641764,
           0.0008321167349848254
          ],
          "coloraxis": "coloraxis",
          "symbol": "triangle-up"
         },
         "mode": "markers",
         "name": "Foward",
         "showlegend": false,
         "type": "scatter",
         "x": [
          200,
          236.73469387755102,
          273.46938775510205,
          310.2040816326531,
          346.9387755102041,
          383.6734693877551,
          420.40816326530614,
          457.14285714285717,
          493.8775510204082,
          530.6122448979593,
          567.3469387755102,
          604.0816326530612,
          640.8163265306123,
          677.5510204081634,
          714.2857142857143,
          751.0204081632653,
          787.7551020408164,
          824.4897959183675,
          861.2244897959184,
          897.9591836734694,
          934.6938775510205,
          971.4285714285716,
          1008.1632653061225,
          1044.8979591836735,
          1081.6326530612246,
          1118.3673469387757,
          1155.1020408163267,
          1191.8367346938776,
          1228.5714285714287,
          1265.3061224489797,
          1302.0408163265306,
          1338.7755102040817,
          1375.5102040816328,
          1412.2448979591838,
          1448.979591836735,
          1485.7142857142858,
          1522.4489795918369,
          1559.183673469388,
          1595.9183673469388,
          1632.6530612244899,
          1669.387755102041,
          1706.122448979592,
          1742.8571428571431,
          1779.591836734694,
          1816.326530612245,
          1853.0612244897961,
          1889.795918367347,
          1926.530612244898,
          1963.2653061224491,
          2000
         ],
         "y": [
          3551.9755256207577,
          3553.3713987004066,
          3554.7874575480073,
          3556.220841758722,
          3557.669718988948,
          3559.132792543779,
          3560.609059500163,
          3562.0976826357455,
          3563.597918397203,
          3565.1090743893014,
          3566.6304832951214,
          3568.161486438912,
          3569.7014232274814,
          3571.249624361782,
          3572.8054075364603,
          3574.3680748690354,
          3575.9369115489862,
          3577.51118541562,
          3579.0901472127766,
          3580.673031422664,
          3582.2590575176077,
          3583.847431601357,
          3585.4373483297104,
          3587.0279930937863,
          3588.618544402913,
          3590.208176424173,
          3591.7960616525306,
          3593.381373658056,
          3594.9632899059916,
          3596.5409945600195,
          3598.1136813131316,
          3599.680556140471,
          3601.240839986296,
          3602.793771363986,
          3604.3386088103202,
          3605.8746331972307,
          3607.4011498751875,
          3608.9174906275202,
          3610.4230154309844,
          3611.9171139953382,
          3613.3992070951476,
          3614.8687476725527,
          3616.3252217148965,
          3617.7681489237184,
          3619.1970831562408,
          3620.6116126515226,
          3622.0113600722375,
          3623.395982346877,
          3624.7651703266242,
          3626.1186483041947
         ]
        },
        {
         "hovertemplate": "Frequency (rad/s): %{x:.2f}<br>Critical Speed (rad/s): %{y:.2f}",
         "legendgroup": "Crit. Speed",
         "marker": {
          "color": "black",
          "symbol": "x"
         },
         "mode": "markers",
         "name": "Crit. Speed",
         "showlegend": false,
         "type": "scatter",
         "x": [],
         "y": []
        },
        {
         "hoverinfo": "none",
         "legendgroup": "Mixed",
         "marker": {
          "color": [],
          "coloraxis": "coloraxis",
          "symbol": "circle"
         },
         "mode": "markers",
         "name": "Mixed",
         "showlegend": false,
         "type": "scatter",
         "x": [],
         "y": []
        },
        {
         "hovertemplate": "Frequency (rad/s): %{x:.2f}<br>Critical Speed (rad/s): %{y:.2f}",
         "legendgroup": "Crit. Speed",
         "marker": {
          "color": "black",
          "symbol": "x"
         },
         "mode": "markers",
         "name": "Crit. Speed",
         "showlegend": false,
         "type": "scatter",
         "x": [],
         "y": []
        },
        {
         "hoverinfo": "none",
         "legendgroup": "Mixed",
         "marker": {
          "color": [],
          "coloraxis": "coloraxis",
          "symbol": "circle"
         },
         "mode": "markers",
         "name": "Mixed",
         "showlegend": false,
         "type": "scatter",
         "x": [],
         "y": []
        },
        {
         "hovertemplate": "Frequency (rad/s): %{x:.2f}<br>Critical Speed (rad/s): %{y:.2f}",
         "legendgroup": "Crit. Speed",
         "marker": {
          "color": "black",
          "symbol": "x"
         },
         "mode": "markers",
         "name": "Crit. Speed",
         "showlegend": false,
         "type": "scatter",
         "x": [
          624.5503747431352
         ],
         "y": [
          624.5503747431352
         ]
        },
        {
         "hoverinfo": "none",
         "legendgroup": "Mixed",
         "marker": {
          "color": [],
          "coloraxis": "coloraxis",
          "symbol": "circle"
         },
         "mode": "markers",
         "name": "Mixed",
         "showlegend": false,
         "type": "scatter",
         "x": [],
         "y": []
        },
        {
         "hovertemplate": "Frequency (rad/s): %{x:.2f}<br>Critical Speed (rad/s): %{y:.2f}",
         "legendgroup": "Crit. Speed",
         "marker": {
          "color": "black",
          "symbol": "x"
         },
         "mode": "markers",
         "name": "Crit. Speed",
         "showlegend": false,
         "type": "scatter",
         "x": [],
         "y": []
        },
        {
         "hoverinfo": "none",
         "legendgroup": "Mixed",
         "marker": {
          "color": [],
          "coloraxis": "coloraxis",
          "symbol": "circle"
         },
         "mode": "markers",
         "name": "Mixed",
         "showlegend": false,
         "type": "scatter",
         "x": [],
         "y": []
        },
        {
         "hovertemplate": "Frequency (rad/s): %{x:.2f}<br>Critical Speed (rad/s): %{y:.2f}",
         "legendgroup": "Crit. Speed",
         "marker": {
          "color": "black",
          "symbol": "x"
         },
         "mode": "markers",
         "name": "Crit. Speed",
         "showlegend": false,
         "type": "scatter",
         "x": [],
         "y": []
        },
        {
         "hoverinfo": "none",
         "legendgroup": "Mixed",
         "marker": {
          "color": [],
          "coloraxis": "coloraxis",
          "symbol": "circle"
         },
         "mode": "markers",
         "name": "Mixed",
         "showlegend": false,
         "type": "scatter",
         "x": [],
         "y": []
        },
        {
         "hovertemplate": "Frequency (rad/s): %{x:.2f}<br>Critical Speed (rad/s): %{y:.2f}",
         "legendgroup": "Crit. Speed",
         "marker": {
          "color": "black",
          "symbol": "x"
         },
         "mode": "markers",
         "name": "Crit. Speed",
         "showlegend": false,
         "type": "scatter",
         "x": [],
         "y": []
        },
        {
         "hoverinfo": "none",
         "legendgroup": "Mixed",
         "marker": {
          "color": [],
          "coloraxis": "coloraxis",
          "symbol": "circle"
         },
         "mode": "markers",
         "name": "Mixed",
         "showlegend": false,
         "type": "scatter",
         "x": [],
         "y": []
        },
        {
         "hovertemplate": "Frequency (rad/s): %{x:.2f}<br>Critical Speed (rad/s): %{y:.2f}",
         "legendgroup": "Crit. Speed",
         "marker": {
          "color": "black",
          "symbol": "x"
         },
         "mode": "markers",
         "name": "Crit. Speed",
         "showlegend": false,
         "type": "scatter",
         "x": [],
         "y": []
        },
        {
         "hoverinfo": "none",
         "legendgroup": "Backward",
         "marker": {
          "color": [
           0.00000402292191151145,
           0.000003978312986496143,
           0.000003933168641914287,
           0.000003888748791108905,
           0.000003845893199332987,
           0.000003805107950742706,
           0.000003766673033150944,
           0.0000037306889544206413,
           0.0000036971567356610345,
           0.0000036659731123065417,
           0.0000036370352950059253,
           0.0000036101935895332823,
           0.000003585269673167267,
           0.0000035621418003245485,
           0.0000035406402458673327,
           0.0000035206396439066265,
           0.0000035020007168461856,
           0.000003484625000853307,
           0.0000034683779347859758,
           0.0000034531926838973247,
           0.0000034389512911741005,
           0.0000034255851943025497,
           0.0000034130146362642653,
           0.0000034011830560421552,
           0.000003390032727011908,
           0.000003379512864216134,
           0.000003369560378477433,
           0.0000033601362383662394,
           0.000003351201586803846,
           0.000003342724498057544,
           0.0000033346668426561793,
           0.000003327012267987527,
           0.000003319725927200487,
           0.0000033127507984009734,
           0.0000033061182847509572,
           0.0000032997736823567747,
           0.000003293702065215328,
           0.0000032878935975198773,
           0.000003282326089334362,
           0.0000032769924661215845,
           0.000003271864294031072,
           0.000003266952025091117,
           0.000003262226599352637,
           0.000003257679065556939,
           0.0000032532941342321264,
           0.0000032490823366370296,
           0.000003245008004070657,
           0.000003241080954063703,
           0.0000032372993599241966,
           0.0000032336235853949547
          ],
          "coloraxis": "coloraxis",
          "symbol": "triangle-down"
         },
         "mode": "markers",
         "name": "Backward",
         "showlegend": false,
         "type": "scatter",
         "x": [
          200,
          236.73469387755102,
          273.46938775510205,
          310.2040816326531,
          346.9387755102041,
          383.6734693877551,
          420.40816326530614,
          457.14285714285717,
          493.8775510204082,
          530.6122448979593,
          567.3469387755102,
          604.0816326530612,
          640.8163265306123,
          677.5510204081634,
          714.2857142857143,
          751.0204081632653,
          787.7551020408164,
          824.4897959183675,
          861.2244897959184,
          897.9591836734694,
          934.6938775510205,
          971.4285714285716,
          1008.1632653061225,
          1044.8979591836735,
          1081.6326530612246,
          1118.3673469387757,
          1155.1020408163267,
          1191.8367346938776,
          1228.5714285714287,
          1265.3061224489797,
          1302.0408163265306,
          1338.7755102040817,
          1375.5102040816328,
          1412.2448979591838,
          1448.979591836735,
          1485.7142857142858,
          1522.4489795918369,
          1559.183673469388,
          1595.9183673469388,
          1632.6530612244899,
          1669.387755102041,
          1706.122448979592,
          1742.8571428571431,
          1779.591836734694,
          1816.326530612245,
          1853.0612244897961,
          1889.795918367347,
          1926.530612244898,
          1963.2653061224491,
          2000
         ],
         "y": [
          159.09766876394588,
          159.09688380016217,
          159.09600976258457,
          159.09505888300694,
          159.09404206370695,
          159.0929688006942,
          159.0918472437706,
          159.09068431908378,
          159.08948587947208,
          159.0882568578623,
          159.08700140917009,
          159.08572303601514,
          159.08442469787448,
          159.08310890158737,
          159.0817777771855,
          159.0804331409859,
          159.0790765492261,
          159.07770933794927,
          159.07633265964333,
          159.0749475137331,
          159.07355476730802,
          159.07215517771064,
          159.07074940819666,
          159.0693380409322,
          159.06792159003393,
          159.06650050927567,
          159.06507520205423,
          159.0636460265397,
          159.06221330306676,
          159.06077731759237,
          159.05933832770702,
          159.05789656387944,
          159.05645223540193,
          159.05500553036157,
          159.0535566192537,
          159.05210565756818,
          159.05065278586838,
          159.04919813262094,
          159.04774181535225,
          159.04628394188393,
          159.04482461027874,
          159.04336391071814,
          159.04190192693514,
          159.0404387347271,
          159.03897440523195,
          159.03750900368647,
          159.03604259055783,
          159.03457522100868,
          159.03310694744187,
          159.03163781746687
         ]
        },
        {
         "hovertemplate": "Frequency (rad/s): %{x:.2f}<br>Critical Speed (rad/s): %{y:.2f}",
         "legendgroup": "Crit. Speed",
         "marker": {
          "color": "black",
          "symbol": "x"
         },
         "mode": "markers",
         "name": "Crit. Speed",
         "showlegend": false,
         "type": "scatter",
         "x": [],
         "y": []
        },
        {
         "hoverinfo": "none",
         "legendgroup": "Backward",
         "marker": {
          "color": [],
          "coloraxis": "coloraxis",
          "symbol": "triangle-down"
         },
         "mode": "markers",
         "name": "Backward",
         "showlegend": false,
         "type": "scatter",
         "x": [],
         "y": []
        },
        {
         "hovertemplate": "Frequency (rad/s): %{x:.2f}<br>Critical Speed (rad/s): %{y:.2f}",
         "legendgroup": "Crit. Speed",
         "marker": {
          "color": "black",
          "symbol": "x"
         },
         "mode": "markers",
         "name": "Crit. Speed",
         "showlegend": false,
         "type": "scatter",
         "x": [
          624.5503747431352
         ],
         "y": [
          624.5503747431352
         ]
        },
        {
         "hoverinfo": "none",
         "legendgroup": "Backward",
         "marker": {
          "color": [
           0.00002886644754551988,
           0.000028024796802449286,
           0.000027222487606411744,
           0.000026456793211177502,
           0.000025725275568426627,
           0.000025025743382487168,
           0.000024356200964753443,
           0.000023714831763088506,
           0.00002309997463047051,
           0.000022510113315561852,
           0.000021943847350824692,
           0.000021399894021359703,
           0.0000208770759911538,
           0.000020374292440781587,
           0.00001989053756624717,
           0.000019424867718587317,
           0.00001897640316693764,
           0.00001854432724738163,
           0.00001812787676013518,
           0.000017726329096535924,
           0.000017339012941197624,
           0.000016965290224069794,
           0.000016604564466482747,
           0.000016256261881715706,
           0.000015919860648823782,
           0.000015594834756734788,
           0.00001528070856996142,
           0.000014977027169940628,
           0.000014683341611738871,
           0.000014399253508614055,
           0.000014124359722769539,
           0.000013858283168048737,
           0.000013600666627449898,
           0.000013351166157885646,
           0.000013109460022767,
           0.000012875235264044934,
           0.000012648189795408698,
           0.000012428043863531351,
           0.000012214522632555633,
           0.000012007367147143326,
           0.000011806345890595188,
           0.000011611197495236,
           0.000011421718316540409,
           0.000011237682137749378,
           0.0000110588778165974,
           0.000010885113565924285,
           0.000010716207125823312,
           0.000010551972752159296,
           0.000010392234521993234,
           0.000010236827977461593
          ],
          "coloraxis": "coloraxis",
          "symbol": "triangle-down"
         },
         "mode": "markers",
         "name": "Backward",
         "showlegend": false,
         "type": "scatter",
         "x": [
          200,
          236.73469387755102,
          273.46938775510205,
          310.2040816326531,
          346.9387755102041,
          383.6734693877551,
          420.40816326530614,
          457.14285714285717,
          493.8775510204082,
          530.6122448979593,
          567.3469387755102,
          604.0816326530612,
          640.8163265306123,
          677.5510204081634,
          714.2857142857143,
          751.0204081632653,
          787.7551020408164,
          824.4897959183675,
          861.2244897959184,
          897.9591836734694,
          934.6938775510205,
          971.4285714285716,
          1008.1632653061225,
          1044.8979591836735,
          1081.6326530612246,
          1118.3673469387757,
          1155.1020408163267,
          1191.8367346938776,
          1228.5714285714287,
          1265.3061224489797,
          1302.0408163265306,
          1338.7755102040817,
          1375.5102040816328,
          1412.2448979591838,
          1448.979591836735,
          1485.7142857142858,
          1522.4489795918369,
          1559.183673469388,
          1595.9183673469388,
          1632.6530612244899,
          1669.387755102041,
          1706.122448979592,
          1742.8571428571431,
          1779.591836734694,
          1816.326530612245,
          1853.0612244897961,
          1889.795918367347,
          1926.530612244898,
          1963.2653061224491,
          2000
         ],
         "y": [
          856.3139147127587,
          832.4364755008522,
          809.3210119019658,
          786.9589104007487,
          765.339598156352,
          744.4507347709412,
          724.2784096701964,
          704.807341418696,
          686.0210755083743,
          667.9021775280105,
          650.4324190275963,
          633.5929538816147,
          617.3644834141179,
          601.7274090308201,
          586.6619715381528,
          572.1483767269887,
          558.1669071538532,
          544.6980203386187,
          531.7224338451831,
          519.2211978874114,
          507.17575625414054,
          495.56799641855827,
          484.3802897687333,
          473.5955229063985,
          463.19712095813986,
          453.16906381727665,
          443.4958961953824,
          434.16273230399526,
          425.15525593179973,
          416.459716621015,
          408.0629225703206,
          399.9522308464073,
          392.1155353995781,
          384.54125334133664,
          377.21830987071706,
          370.1361221922578,
          363.2845827195126,
          356.654041813098,
          350.23529027000586,
          344.01954173628,
          337.99841519945466,
          332.1639176755352,
          326.508427195219,
          321.0246761633774,
          315.705735158833,
          310.5449972172781,
          305.53616263317923,
          300.6732243064845,
          295.9504536457213,
          291.36238703931156
         ]
        },
        {
         "hovertemplate": "Frequency (rad/s): %{x:.2f}<br>Critical Speed (rad/s): %{y:.2f}",
         "legendgroup": "Crit. Speed",
         "marker": {
          "color": "black",
          "symbol": "x"
         },
         "mode": "markers",
         "name": "Crit. Speed",
         "showlegend": false,
         "type": "scatter",
         "x": [],
         "y": []
        },
        {
         "hoverinfo": "none",
         "legendgroup": "Backward",
         "marker": {
          "color": [],
          "coloraxis": "coloraxis",
          "symbol": "triangle-down"
         },
         "mode": "markers",
         "name": "Backward",
         "showlegend": false,
         "type": "scatter",
         "x": [],
         "y": []
        },
        {
         "hovertemplate": "Frequency (rad/s): %{x:.2f}<br>Critical Speed (rad/s): %{y:.2f}",
         "legendgroup": "Crit. Speed",
         "marker": {
          "color": "black",
          "symbol": "x"
         },
         "mode": "markers",
         "name": "Crit. Speed",
         "showlegend": false,
         "type": "scatter",
         "x": [],
         "y": []
        },
        {
         "hoverinfo": "none",
         "legendgroup": "Backward",
         "marker": {
          "color": [
           0.0003643353224759358,
           0.0003561664888803439,
           0.00034931596723722895,
           0.00034338157003073347,
           0.0003381199543454979,
           0.00033337523046924147,
           0.0003290426238636572,
           0.00032504878577914334,
           0.0003213405209534007,
           0.00031787803330883676,
           0.000314630730784547,
           0.00031157450786064656,
           0.0003086899586991847,
           0.00030596114633138483,
           0.00030337475012270383,
           0.00030091946294016225,
           0.0002985855502079216,
           0.0002963645275622556,
           0.00029424891439522235,
           0.0002922320518754065,
           0.0002903079626326493,
           0.0002884712384371947,
           0.0002867169561165253,
           0.0002850406057075238,
           0.000283438035155657,
           0.00028190540812400144,
           0.0002804391588452687,
           0.00027903596606324986,
           0.00027769273427338825,
           0.00027640655621870996,
           0.0002751747069094885,
           0.0002739946249929578,
           0.0002728638929578168,
           0.0002717802291175261,
           0.0002707414838124944,
           0.000269745615702961,
           0.00026879069525560984,
           0.00026787489270697066,
           0.0002669964701040898,
           0.00026615378097196005,
           0.00026534525430724497,
           0.00026456940499720746,
           0.0002638248105527429,
           0.0002631101242758543,
           0.0002624240589583796,
           0.00026176539174944545,
           0.000261132952202178,
           0.0002605256298507557,
           0.00025994236115074656,
           0.00025938213343774794
          ],
          "coloraxis": "coloraxis",
          "symbol": "triangle-down"
         },
         "mode": "markers",
         "name": "Backward",
         "showlegend": false,
         "type": "scatter",
         "x": [
          200,
          236.73469387755102,
          273.46938775510205,
          310.2040816326531,
          346.9387755102041,
          383.6734693877551,
          420.40816326530614,
          457.14285714285717,
          493.8775510204082,
          530.6122448979593,
          567.3469387755102,
          604.0816326530612,
          640.8163265306123,
          677.5510204081634,
          714.2857142857143,
          751.0204081632653,
          787.7551020408164,
          824.4897959183675,
          861.2244897959184,
          897.9591836734694,
          934.6938775510205,
          971.4285714285716,
          1008.1632653061225,
          1044.8979591836735,
          1081.6326530612246,
          1118.3673469387757,
          1155.1020408163267,
          1191.8367346938776,
          1228.5714285714287,
          1265.3061224489797,
          1302.0408163265306,
          1338.7755102040817,
          1375.5102040816328,
          1412.2448979591838,
          1448.979591836735,
          1485.7142857142858,
          1522.4489795918369,
          1559.183673469388,
          1595.9183673469388,
          1632.6530612244899,
          1669.387755102041,
          1706.122448979592,
          1742.8571428571431,
          1779.591836734694,
          1816.326530612245,
          1853.0612244897961,
          1889.795918367347,
          1926.530612244898,
          1963.2653061224491,
          2000
         ],
         "y": [
          3536.9794055490847,
          3535.748609895897,
          3534.5247272953006,
          3533.310306862978,
          3532.1068257354204,
          3530.9151819080357,
          3529.7359366205164,
          3528.569443044007,
          3527.4159190353616,
          3526.275490483233,
          3525.1482183634157,
          3524.034116297336,
          3522.9331623651146,
          3521.845307324327,
          3520.7704804902496,
          3519.7085940711927,
          3518.659546437643,
          3517.6232246488785,
          3516.5995064526696,
          3515.5882618940354,
          3514.5893546286193,
          3513.602643019388,
          3512.6279810625656,
          3511.6652191756853,
          3510.7142048744718,
          3509.77478336524,
          3508.8467980626274,
          3507.9300910424513,
          3507.0245034433674,
          3506.1298758260737,
          3505.2460484901494,
          3504.37286175483,
          3503.5101562171417,
          3502.6577729734217,
          3501.815553822086,
          3500.9833414457003,
          3500.160979569235,
          3499.348313106705,
          3498.545188284924,
          3497.7514527585918,
          3496.966955709384,
          3496.191547932284,
          3495.4250819156937,
          3494.6674119040867,
          3493.918393956809,
          3493.177885999352,
          3492.4457478625745,
          3491.7218413161127,
          3491.006030101386,
          3490.298179947108
         ]
        },
        {
         "hovertemplate": "Frequency (rad/s): %{x:.2f}<br>Critical Speed (rad/s): %{y:.2f}",
         "legendgroup": "Crit. Speed",
         "marker": {
          "color": "black",
          "symbol": "x"
         },
         "mode": "markers",
         "name": "Crit. Speed",
         "showlegend": false,
         "type": "scatter",
         "x": [],
         "y": []
        },
        {
         "hoverinfo": "none",
         "legendgroup": "Backward",
         "marker": {
          "color": [],
          "coloraxis": "coloraxis",
          "symbol": "triangle-down"
         },
         "mode": "markers",
         "name": "Backward",
         "showlegend": false,
         "type": "scatter",
         "x": [],
         "y": []
        },
        {
         "hoverinfo": "none",
         "line": {
          "color": "blue",
          "dash": "dashdot"
         },
         "mode": "lines",
         "name": "1x speed",
         "type": "scatter",
         "x": [
          200,
          236.73469387755102,
          273.46938775510205,
          310.2040816326531,
          346.9387755102041,
          383.6734693877551,
          420.40816326530614,
          457.14285714285717,
          493.8775510204082,
          530.6122448979593,
          567.3469387755102,
          604.0816326530612,
          640.8163265306123,
          677.5510204081634,
          714.2857142857143,
          751.0204081632653,
          787.7551020408164,
          824.4897959183675,
          861.2244897959184,
          897.9591836734694,
          934.6938775510205,
          971.4285714285716,
          1008.1632653061225,
          1044.8979591836735,
          1081.6326530612246,
          1118.3673469387757,
          1155.1020408163267,
          1191.8367346938776,
          1228.5714285714287,
          1265.3061224489797,
          1302.0408163265306,
          1338.7755102040817,
          1375.5102040816328,
          1412.2448979591838,
          1448.979591836735,
          1485.7142857142858,
          1522.4489795918369,
          1559.183673469388,
          1595.9183673469388,
          1632.6530612244899,
          1669.387755102041,
          1706.122448979592,
          1742.8571428571431,
          1779.591836734694,
          1816.326530612245,
          1853.0612244897961,
          1889.795918367347,
          1926.530612244898,
          1963.2653061224491,
          2000
         ],
         "y": [
          200,
          236.73469387755102,
          273.46938775510205,
          310.2040816326531,
          346.9387755102041,
          383.6734693877551,
          420.40816326530614,
          457.14285714285717,
          493.8775510204082,
          530.6122448979593,
          567.3469387755102,
          604.0816326530612,
          640.8163265306123,
          677.5510204081634,
          714.2857142857143,
          751.0204081632653,
          787.7551020408164,
          824.4897959183675,
          861.2244897959184,
          897.9591836734694,
          934.6938775510205,
          971.4285714285716,
          1008.1632653061225,
          1044.8979591836735,
          1081.6326530612246,
          1118.3673469387757,
          1155.1020408163267,
          1191.8367346938776,
          1228.5714285714287,
          1265.3061224489797,
          1302.0408163265306,
          1338.7755102040817,
          1375.5102040816328,
          1412.2448979591838,
          1448.979591836735,
          1485.7142857142858,
          1522.4489795918369,
          1559.183673469388,
          1595.9183673469388,
          1632.6530612244899,
          1669.387755102041,
          1706.122448979592,
          1742.8571428571431,
          1779.591836734694,
          1816.326530612245,
          1853.0612244897961,
          1889.795918367347,
          1926.530612244898,
          1963.2653061224491,
          2000
         ]
        },
        {
         "legendgroup": "Foward",
         "marker": {
          "color": "black",
          "symbol": "triangle-up"
         },
         "mode": "markers",
         "name": "Foward",
         "type": "scatter",
         "x": [
          0
         ],
         "y": [
          0
         ]
        },
        {
         "legendgroup": "Mixed",
         "marker": {
          "color": "black",
          "symbol": "circle"
         },
         "mode": "markers",
         "name": "Mixed",
         "type": "scatter",
         "x": [
          0
         ],
         "y": [
          0
         ]
        },
        {
         "legendgroup": "Backward",
         "marker": {
          "color": "black",
          "symbol": "triangle-down"
         },
         "mode": "markers",
         "name": "Backward",
         "type": "scatter",
         "x": [
          0
         ],
         "y": [
          0
         ]
        },
        {
         "legendgroup": "Crit. Speed",
         "marker": {
          "color": "black",
          "symbol": "x"
         },
         "mode": "markers",
         "name": "Crit. Speed",
         "type": "scatter",
         "x": [
          0
         ],
         "y": [
          0
         ]
        }
       ],
       "layout": {
        "coloraxis": {
         "cmax": 1,
         "cmin": 0,
         "colorbar": {
          "title": {
           "side": "right",
           "text": "<b>Log Dec</b>"
          }
         },
         "colorscale": [
          [
           0,
           "rgb(103,0,31)"
          ],
          [
           0.1,
           "rgb(178,24,43)"
          ],
          [
           0.2,
           "rgb(214,96,77)"
          ],
          [
           0.3,
           "rgb(244,165,130)"
          ],
          [
           0.4,
           "rgb(253,219,199)"
          ],
          [
           0.5,
           "rgb(247,247,247)"
          ],
          [
           0.6,
           "rgb(209,229,240)"
          ],
          [
           0.7,
           "rgb(146,197,222)"
          ],
          [
           0.8,
           "rgb(67,147,195)"
          ],
          [
           0.9,
           "rgb(33,102,172)"
          ],
          [
           1,
           "rgb(5,48,97)"
          ]
         ]
        },
        "legend": {
         "itemsizing": "constant",
         "orientation": "h",
         "x": 0.5,
         "xanchor": "center",
         "y": -0.3,
         "yanchor": "bottom"
        },
        "template": {
         "data": {
          "bar": [
           {
            "error_x": {
             "color": "#2a3f5f"
            },
            "error_y": {
             "color": "#2a3f5f"
            },
            "marker": {
             "line": {
              "color": "white",
              "width": 0.5
             }
            },
            "type": "bar"
           }
          ],
          "barpolar": [
           {
            "marker": {
             "line": {
              "color": "white",
              "width": 0.5
             }
            },
            "type": "barpolar"
           }
          ],
          "carpet": [
           {
            "aaxis": {
             "endlinecolor": "#2a3f5f",
             "gridcolor": "#C8D4E3",
             "linecolor": "#C8D4E3",
             "minorgridcolor": "#C8D4E3",
             "startlinecolor": "#2a3f5f"
            },
            "baxis": {
             "endlinecolor": "#2a3f5f",
             "gridcolor": "#C8D4E3",
             "linecolor": "#C8D4E3",
             "minorgridcolor": "#C8D4E3",
             "startlinecolor": "#2a3f5f"
            },
            "type": "carpet"
           }
          ],
          "choropleth": [
           {
            "colorbar": {
             "outlinewidth": 0,
             "ticks": ""
            },
            "type": "choropleth"
           }
          ],
          "contour": [
           {
            "colorbar": {
             "outlinewidth": 0,
             "ticks": ""
            },
            "colorscale": [
             [
              0,
              "#0d0887"
             ],
             [
              0.1111111111111111,
              "#46039f"
             ],
             [
              0.2222222222222222,
              "#7201a8"
             ],
             [
              0.3333333333333333,
              "#9c179e"
             ],
             [
              0.4444444444444444,
              "#bd3786"
             ],
             [
              0.5555555555555556,
              "#d8576b"
             ],
             [
              0.6666666666666666,
              "#ed7953"
             ],
             [
              0.7777777777777778,
              "#fb9f3a"
             ],
             [
              0.8888888888888888,
              "#fdca26"
             ],
             [
              1,
              "#f0f921"
             ]
            ],
            "type": "contour"
           }
          ],
          "contourcarpet": [
           {
            "colorbar": {
             "outlinewidth": 0,
             "ticks": ""
            },
            "type": "contourcarpet"
           }
          ],
          "heatmap": [
           {
            "colorbar": {
             "outlinewidth": 0,
             "ticks": ""
            },
            "colorscale": [
             [
              0,
              "#0d0887"
             ],
             [
              0.1111111111111111,
              "#46039f"
             ],
             [
              0.2222222222222222,
              "#7201a8"
             ],
             [
              0.3333333333333333,
              "#9c179e"
             ],
             [
              0.4444444444444444,
              "#bd3786"
             ],
             [
              0.5555555555555556,
              "#d8576b"
             ],
             [
              0.6666666666666666,
              "#ed7953"
             ],
             [
              0.7777777777777778,
              "#fb9f3a"
             ],
             [
              0.8888888888888888,
              "#fdca26"
             ],
             [
              1,
              "#f0f921"
             ]
            ],
            "type": "heatmap"
           }
          ],
          "heatmapgl": [
           {
            "colorbar": {
             "outlinewidth": 0,
             "ticks": ""
            },
            "colorscale": [
             [
              0,
              "#0d0887"
             ],
             [
              0.1111111111111111,
              "#46039f"
             ],
             [
              0.2222222222222222,
              "#7201a8"
             ],
             [
              0.3333333333333333,
              "#9c179e"
             ],
             [
              0.4444444444444444,
              "#bd3786"
             ],
             [
              0.5555555555555556,
              "#d8576b"
             ],
             [
              0.6666666666666666,
              "#ed7953"
             ],
             [
              0.7777777777777778,
              "#fb9f3a"
             ],
             [
              0.8888888888888888,
              "#fdca26"
             ],
             [
              1,
              "#f0f921"
             ]
            ],
            "type": "heatmapgl"
           }
          ],
          "histogram": [
           {
            "marker": {
             "colorbar": {
              "outlinewidth": 0,
              "ticks": ""
             }
            },
            "type": "histogram"
           }
          ],
          "histogram2d": [
           {
            "colorbar": {
             "outlinewidth": 0,
             "ticks": ""
            },
            "colorscale": [
             [
              0,
              "#0d0887"
             ],
             [
              0.1111111111111111,
              "#46039f"
             ],
             [
              0.2222222222222222,
              "#7201a8"
             ],
             [
              0.3333333333333333,
              "#9c179e"
             ],
             [
              0.4444444444444444,
              "#bd3786"
             ],
             [
              0.5555555555555556,
              "#d8576b"
             ],
             [
              0.6666666666666666,
              "#ed7953"
             ],
             [
              0.7777777777777778,
              "#fb9f3a"
             ],
             [
              0.8888888888888888,
              "#fdca26"
             ],
             [
              1,
              "#f0f921"
             ]
            ],
            "type": "histogram2d"
           }
          ],
          "histogram2dcontour": [
           {
            "colorbar": {
             "outlinewidth": 0,
             "ticks": ""
            },
            "colorscale": [
             [
              0,
              "#0d0887"
             ],
             [
              0.1111111111111111,
              "#46039f"
             ],
             [
              0.2222222222222222,
              "#7201a8"
             ],
             [
              0.3333333333333333,
              "#9c179e"
             ],
             [
              0.4444444444444444,
              "#bd3786"
             ],
             [
              0.5555555555555556,
              "#d8576b"
             ],
             [
              0.6666666666666666,
              "#ed7953"
             ],
             [
              0.7777777777777778,
              "#fb9f3a"
             ],
             [
              0.8888888888888888,
              "#fdca26"
             ],
             [
              1,
              "#f0f921"
             ]
            ],
            "type": "histogram2dcontour"
           }
          ],
          "mesh3d": [
           {
            "colorbar": {
             "outlinewidth": 0,
             "ticks": ""
            },
            "type": "mesh3d"
           }
          ],
          "parcoords": [
           {
            "line": {
             "colorbar": {
              "outlinewidth": 0,
              "ticks": ""
             }
            },
            "type": "parcoords"
           }
          ],
          "pie": [
           {
            "automargin": true,
            "type": "pie"
           }
          ],
          "scatter": [
           {
            "marker": {
             "colorbar": {
              "outlinewidth": 0,
              "ticks": ""
             }
            },
            "type": "scatter"
           }
          ],
          "scatter3d": [
           {
            "line": {
             "colorbar": {
              "outlinewidth": 0,
              "ticks": ""
             }
            },
            "marker": {
             "colorbar": {
              "outlinewidth": 0,
              "ticks": ""
             }
            },
            "type": "scatter3d"
           }
          ],
          "scattercarpet": [
           {
            "marker": {
             "colorbar": {
              "outlinewidth": 0,
              "ticks": ""
             }
            },
            "type": "scattercarpet"
           }
          ],
          "scattergeo": [
           {
            "marker": {
             "colorbar": {
              "outlinewidth": 0,
              "ticks": ""
             }
            },
            "type": "scattergeo"
           }
          ],
          "scattergl": [
           {
            "marker": {
             "colorbar": {
              "outlinewidth": 0,
              "ticks": ""
             }
            },
            "type": "scattergl"
           }
          ],
          "scattermapbox": [
           {
            "marker": {
             "colorbar": {
              "outlinewidth": 0,
              "ticks": ""
             }
            },
            "type": "scattermapbox"
           }
          ],
          "scatterpolar": [
           {
            "marker": {
             "colorbar": {
              "outlinewidth": 0,
              "ticks": ""
             }
            },
            "type": "scatterpolar"
           }
          ],
          "scatterpolargl": [
           {
            "marker": {
             "colorbar": {
              "outlinewidth": 0,
              "ticks": ""
             }
            },
            "type": "scatterpolargl"
           }
          ],
          "scatterternary": [
           {
            "marker": {
             "colorbar": {
              "outlinewidth": 0,
              "ticks": ""
             }
            },
            "type": "scatterternary"
           }
          ],
          "surface": [
           {
            "colorbar": {
             "outlinewidth": 0,
             "ticks": ""
            },
            "colorscale": [
             [
              0,
              "#0d0887"
             ],
             [
              0.1111111111111111,
              "#46039f"
             ],
             [
              0.2222222222222222,
              "#7201a8"
             ],
             [
              0.3333333333333333,
              "#9c179e"
             ],
             [
              0.4444444444444444,
              "#bd3786"
             ],
             [
              0.5555555555555556,
              "#d8576b"
             ],
             [
              0.6666666666666666,
              "#ed7953"
             ],
             [
              0.7777777777777778,
              "#fb9f3a"
             ],
             [
              0.8888888888888888,
              "#fdca26"
             ],
             [
              1,
              "#f0f921"
             ]
            ],
            "type": "surface"
           }
          ],
          "table": [
           {
            "cells": {
             "fill": {
              "color": "#EBF0F8"
             },
             "line": {
              "color": "white"
             }
            },
            "header": {
             "fill": {
              "color": "#C8D4E3"
             },
             "line": {
              "color": "white"
             }
            },
            "type": "table"
           }
          ]
         },
         "layout": {
          "annotationdefaults": {
           "arrowcolor": "#2a3f5f",
           "arrowhead": 0,
           "arrowwidth": 1
          },
          "coloraxis": {
           "colorbar": {
            "outlinewidth": 0,
            "ticks": ""
           }
          },
          "colorscale": {
           "diverging": [
            [
             0,
             "#8e0152"
            ],
            [
             0.1,
             "#c51b7d"
            ],
            [
             0.2,
             "#de77ae"
            ],
            [
             0.3,
             "#f1b6da"
            ],
            [
             0.4,
             "#fde0ef"
            ],
            [
             0.5,
             "#f7f7f7"
            ],
            [
             0.6,
             "#e6f5d0"
            ],
            [
             0.7,
             "#b8e186"
            ],
            [
             0.8,
             "#7fbc41"
            ],
            [
             0.9,
             "#4d9221"
            ],
            [
             1,
             "#276419"
            ]
           ],
           "sequential": [
            [
             0,
             "#0d0887"
            ],
            [
             0.1111111111111111,
             "#46039f"
            ],
            [
             0.2222222222222222,
             "#7201a8"
            ],
            [
             0.3333333333333333,
             "#9c179e"
            ],
            [
             0.4444444444444444,
             "#bd3786"
            ],
            [
             0.5555555555555556,
             "#d8576b"
            ],
            [
             0.6666666666666666,
             "#ed7953"
            ],
            [
             0.7777777777777778,
             "#fb9f3a"
            ],
            [
             0.8888888888888888,
             "#fdca26"
            ],
            [
             1,
             "#f0f921"
            ]
           ],
           "sequentialminus": [
            [
             0,
             "#0d0887"
            ],
            [
             0.1111111111111111,
             "#46039f"
            ],
            [
             0.2222222222222222,
             "#7201a8"
            ],
            [
             0.3333333333333333,
             "#9c179e"
            ],
            [
             0.4444444444444444,
             "#bd3786"
            ],
            [
             0.5555555555555556,
             "#d8576b"
            ],
            [
             0.6666666666666666,
             "#ed7953"
            ],
            [
             0.7777777777777778,
             "#fb9f3a"
            ],
            [
             0.8888888888888888,
             "#fdca26"
            ],
            [
             1,
             "#f0f921"
            ]
           ]
          },
          "colorway": [
           "#1f77b4",
           "#ff7f0e",
           "#2ca02c",
           "#d62728",
           "#9467bd",
           "#8c564b",
           "#e377c2",
           "#7f7f7f",
           "#bcbd22",
           "#17becf"
          ],
          "font": {
           "color": "#2a3f5f"
          },
          "geo": {
           "bgcolor": "white",
           "lakecolor": "white",
           "landcolor": "white",
           "showlakes": true,
           "showland": true,
           "subunitcolor": "#C8D4E3"
          },
          "hoverlabel": {
           "align": "left"
          },
          "hovermode": "closest",
          "mapbox": {
           "style": "light"
          },
          "paper_bgcolor": "white",
          "plot_bgcolor": "white",
          "polar": {
           "angularaxis": {
            "gridcolor": "#EBF0F8",
            "linecolor": "#EBF0F8",
            "ticks": ""
           },
           "bgcolor": "white",
           "radialaxis": {
            "gridcolor": "#EBF0F8",
            "linecolor": "#EBF0F8",
            "ticks": ""
           }
          },
          "scene": {
           "camera": {
            "center": {
             "x": 0,
             "y": 0,
             "z": 0
            },
            "eye": {
             "x": 2,
             "y": 2,
             "z": 2
            },
            "up": {
             "x": 0,
             "y": 0,
             "z": 1
            }
           },
           "xaxis": {
            "backgroundcolor": "white",
            "gridcolor": "#DFE8F3",
            "gridwidth": 2,
            "linecolor": "#EBF0F8",
            "showbackground": true,
            "showspikes": false,
            "ticks": "",
            "zerolinecolor": "#EBF0F8"
           },
           "yaxis": {
            "backgroundcolor": "white",
            "gridcolor": "#DFE8F3",
            "gridwidth": 2,
            "linecolor": "#EBF0F8",
            "showbackground": true,
            "showspikes": false,
            "ticks": "",
            "zerolinecolor": "#EBF0F8"
           },
           "zaxis": {
            "backgroundcolor": "white",
            "gridcolor": "#DFE8F3",
            "gridwidth": 2,
            "linecolor": "#EBF0F8",
            "showbackground": true,
            "showspikes": false,
            "ticks": "",
            "zerolinecolor": "#EBF0F8"
           }
          },
          "shapedefaults": {
           "line": {
            "color": "#2a3f5f"
           }
          },
          "ternary": {
           "aaxis": {
            "gridcolor": "#DFE8F3",
            "linecolor": "#A2B1C6",
            "ticks": ""
           },
           "baxis": {
            "gridcolor": "#DFE8F3",
            "linecolor": "#A2B1C6",
            "ticks": ""
           },
           "bgcolor": "white",
           "caxis": {
            "gridcolor": "#DFE8F3",
            "linecolor": "#A2B1C6",
            "ticks": ""
           }
          },
          "title": {
           "x": 0.05
          },
          "xaxis": {
           "automargin": true,
           "gridcolor": "#EBF0F8",
           "linecolor": "black",
           "linewidth": 2,
           "mirror": true,
           "showline": true,
           "ticks": "",
           "title": {
            "standoff": 15
           },
           "zeroline": false,
           "zerolinecolor": "#EBF0F8",
           "zerolinewidth": 2
          },
          "yaxis": {
           "automargin": true,
           "gridcolor": "#EBF0F8",
           "linecolor": "black",
           "linewidth": 2,
           "mirror": true,
           "showline": true,
           "ticks": "",
           "title": {
            "standoff": 15
           },
           "zeroline": false,
           "zerolinecolor": "#EBF0F8",
           "zerolinewidth": 2
          }
         }
        },
        "xaxis": {
         "exponentformat": "none",
         "range": [
          200,
          2000
         ],
         "title": {
          "text": "Frequency (rad/s)"
         }
        },
        "yaxis": {
         "range": [
          0,
          3988.7305131346147
         ],
         "title": {
          "text": "Natural Frequencies (rad/s)"
         }
        }
       }
      }
     },
     "metadata": {}
    }
   ],
   "source": [
    "# CAMPBELL\n",
    "samples     = 50\n",
    "speed_range = np.linspace(200, 2000, samples)\n",
    "campbell    = rotor.run_campbell(speed_range)\n",
    "campbell.plot()"
   ]
  },
  {
   "cell_type": "code",
   "execution_count": null,
   "metadata": {},
   "outputs": [],
   "source": []
  }
 ]
}