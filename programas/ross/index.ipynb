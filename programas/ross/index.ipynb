{
 "metadata": {
  "language_info": {
   "codemirror_mode": {
    "name": "ipython",
    "version": 3
   },
   "file_extension": ".py",
   "mimetype": "text/x-python",
   "name": "python",
   "nbconvert_exporter": "python",
   "pygments_lexer": "ipython3",
   "version": "3.8.5-final"
  },
  "orig_nbformat": 2,
  "kernelspec": {
   "name": "python3",
   "display_name": "Python 3",
   "language": "python"
  }
 },
 "nbformat": 4,
 "nbformat_minor": 2,
 "cells": [
  {
   "cell_type": "code",
   "execution_count": 1,
   "metadata": {},
   "outputs": [],
   "source": [
    "import os\n",
    "from pathlib import Path\n",
    "import ross as rs\n",
    "import numpy as np\n",
    "\n",
    "# MATERIAL\n",
    "#\n",
    "# E       - Módulo de young\n",
    "# G_s     - Módulo de cisalhamento (shear)\n",
    "# Poisson - Coeficiente de Poisson\n",
    "# rho     - Densidade do material\n",
    "ABNT1020  = rs.Material(name=\"ABNT1020\", rho=7850, E=2.05e11, Poisson=0.29)\n",
    "ASTMA36   = rs.Material(name=\"ASTMA36\", rho=7850, E=2e11, G_s=7.93e10)"
   ]
  },
  {
   "cell_type": "code",
   "execution_count": 2,
   "metadata": {},
   "outputs": [],
   "source": [
    "# ========================================================================\n",
    "# EIXO\n",
    "#\n",
    "L       = [0.3, 0.3, 0.052]   # length\n",
    "i_d     = 0                                     # inner diameter\n",
    "o_d     = 0.0127                                # outer diameter\n",
    "N_shaft = 3                                     # number of elements\n",
    "\n",
    "shaft_elements = [\n",
    "  rs.ShaftElement(\n",
    "    n=i,\n",
    "    L=L[i],\n",
    "    idl=i_d,\n",
    "    odl=o_d,\n",
    "    material=ABNT1020,\n",
    "    shear_effects=True,\n",
    "    rotary_inertia=True,\n",
    "    gyroscopic=True,\n",
    "    tag=(f\"Shaft el. {i}\")\n",
    "  )\n",
    "  for i in range(N_shaft)\n",
    "]"
   ]
  },
  {
   "cell_type": "code",
   "execution_count": 3,
   "metadata": {},
   "outputs": [],
   "source": [
    "# ========================================================================\n",
    "# DISCO\n",
    "#\n",
    "# Utilizando as propriedades geométricas:\n",
    "disk_geo = [\n",
    "  rs.DiskElement.from_geometry(\n",
    "    n=1,\n",
    "    material=ASTMA36,\n",
    "    width=0.01,\n",
    "    i_d=0.0127,\n",
    "    o_d=0.1807,\n",
    "    tag=\"Geometry disk\"\n",
    "  )\n",
    "]"
   ]
  },
  {
   "cell_type": "code",
   "execution_count": 8,
   "metadata": {},
   "outputs": [
    {
     "output_type": "stream",
     "name": "stdout",
     "text": [
      "[BallBearingElement(n=0, n_link=None,\n kxx=[5928700.94966316], kxy=[0.0],\n kyx=[0.0], kyy=[14787095.119970467],\n cxx=[74.10876187078951], cxy=[0.0],\n cyx=[0.0], cyy=[184.83868899963085],\n frequency=None, tag='Ball Bearing 0'), BallBearingElement(n=2, n_link=None,\n kxx=[5928700.94966316], kxy=[0.0],\n kyx=[0.0], kyy=[14787095.119970467],\n cxx=[74.10876187078951], cxy=[0.0],\n cyx=[0.0], cyy=[184.83868899963085],\n frequency=None, tag='Ball Bearing 1')]\n"
     ]
    }
   ],
   "source": [
    "# ========================================================================\n",
    "# ROLAMENTOS E VEDAÇÕES\n",
    "#\n",
    "N_bearing = 2\n",
    "\n",
    "n_balls   = 7\n",
    "d_balls   = 0.006\n",
    "fs        = 13\n",
    "alpha     = (np.pi * 8) / (6 * n_balls)\n",
    "bearings  = [\n",
    "  rs.BallBearingElement(\n",
    "    n=i*2,\n",
    "    n_balls=n_balls,\n",
    "    d_balls=d_balls,\n",
    "    fs=fs,\n",
    "    alpha=alpha,\n",
    "    tag=(f\"Ball Bearing {i}\")\n",
    "  )\n",
    "  for i in range(N_bearing)\n",
    "]\n",
    "print(bearings)"
   ]
  },
  {
   "cell_type": "code",
   "execution_count": 5,
   "metadata": {},
   "outputs": [
    {
     "output_type": "stream",
     "name": "stdout",
     "text": [
      "Rotor total mass =  2.65\nRotor center of gravity = 0.31\n"
     ]
    },
    {
     "output_type": "display_data",
     "data": {
      "application/vnd.plotly.v1+json": {
       "config": {
        "plotlyServerURL": "https://plot.ly"
       },
       "data": [
        {
         "hoverinfo": "none",
         "line": {
          "color": "black",
          "dash": "dashdot",
          "width": 3
         },
         "mode": "lines",
         "opacity": 0.7,
         "showlegend": false,
         "type": "scatter",
         "x": [
          -0.13040000000000002,
          0.7824
         ],
         "y": [
          0,
          0
         ]
        },
        {
         "hoverinfo": "none",
         "marker": {
          "color": "#ffcc99",
          "line": {
           "color": "black",
           "width": 1
          },
          "opacity": 0.7,
          "size": 20
         },
         "mode": "markers+text",
         "showlegend": false,
         "text": [
          "0",
          "1",
          "2",
          "3"
         ],
         "type": "scatter",
         "x": [
          0,
          0.3,
          0.6,
          0.652
         ],
         "y": [
          0,
          0,
          0,
          0
         ]
        },
        {
         "customdata": [
          [
           0,
           0.0127,
           0,
           0.0127,
           0,
           0.3,
           "ABNT1020"
          ],
          [
           0,
           0.0127,
           0,
           0.0127,
           0,
           0.3,
           "ABNT1020"
          ],
          [
           0,
           0.0127,
           0,
           0.0127,
           0,
           0.3,
           "ABNT1020"
          ],
          [
           0,
           0.0127,
           0,
           0.0127,
           0,
           0.3,
           "ABNT1020"
          ],
          [
           0,
           0.0127,
           0,
           0.0127,
           0,
           0.3,
           "ABNT1020"
          ],
          [
           0,
           0.0127,
           0,
           0.0127,
           0,
           0.3,
           "ABNT1020"
          ],
          [
           0,
           0.0127,
           0,
           0.0127,
           0,
           0.3,
           "ABNT1020"
          ],
          [
           0,
           0.0127,
           0,
           0.0127,
           0,
           0.3,
           "ABNT1020"
          ],
          [
           0,
           0.0127,
           0,
           0.0127,
           0,
           0.3,
           "ABNT1020"
          ],
          [
           0,
           0.0127,
           0,
           0.0127,
           0,
           0.3,
           "ABNT1020"
          ]
         ],
         "fill": "toself",
         "fillcolor": "#525252",
         "hoverinfo": "text",
         "hoverlabel": {
          "bgcolor": "#525252"
         },
         "hoveron": "points+fills",
         "hovertemplate": "Element Number: 0<br>Left Outer Diameter: 0.0127 m<br>Left Inner Diameter: 0.0 m<br>Right Outer Diameter: 0.0127 m<br>Right Inner Diameter: 0.0 m<br>Element Length: 0.3 m<br>Material: ABNT1020<br>",
         "legendgroup": "Shaft",
         "line": {
          "color": "black",
          "width": 1.5
         },
         "mode": "lines",
         "name": "Shaft el. 0",
         "opacity": 0.5,
         "showlegend": false,
         "text": "Element Number: 0<br>Left Outer Diameter: 0.0127 m<br>Left Inner Diameter: 0.0 m<br>Right Outer Diameter: 0.0127 m<br>Right Inner Diameter: 0.0 m<br>Element Length: 0.3 m<br>Material: ABNT1020<br>",
         "type": "scatter",
         "x": [
          0,
          0,
          0.3,
          0.3,
          0,
          0,
          0,
          0.3,
          0.3,
          0
         ],
         "y": [
          0,
          0.00635,
          0.00635,
          0,
          0,
          0,
          -0.00635,
          -0.00635,
          0,
          0
         ]
        },
        {
         "customdata": [
          [
           1,
           0.0127,
           0,
           0.0127,
           0,
           0.3,
           "ABNT1020"
          ],
          [
           1,
           0.0127,
           0,
           0.0127,
           0,
           0.3,
           "ABNT1020"
          ],
          [
           1,
           0.0127,
           0,
           0.0127,
           0,
           0.3,
           "ABNT1020"
          ],
          [
           1,
           0.0127,
           0,
           0.0127,
           0,
           0.3,
           "ABNT1020"
          ],
          [
           1,
           0.0127,
           0,
           0.0127,
           0,
           0.3,
           "ABNT1020"
          ],
          [
           1,
           0.0127,
           0,
           0.0127,
           0,
           0.3,
           "ABNT1020"
          ],
          [
           1,
           0.0127,
           0,
           0.0127,
           0,
           0.3,
           "ABNT1020"
          ],
          [
           1,
           0.0127,
           0,
           0.0127,
           0,
           0.3,
           "ABNT1020"
          ],
          [
           1,
           0.0127,
           0,
           0.0127,
           0,
           0.3,
           "ABNT1020"
          ],
          [
           1,
           0.0127,
           0,
           0.0127,
           0,
           0.3,
           "ABNT1020"
          ]
         ],
         "fill": "toself",
         "fillcolor": "#525252",
         "hoverinfo": "text",
         "hoverlabel": {
          "bgcolor": "#525252"
         },
         "hoveron": "points+fills",
         "hovertemplate": "Element Number: 1<br>Left Outer Diameter: 0.0127 m<br>Left Inner Diameter: 0.0 m<br>Right Outer Diameter: 0.0127 m<br>Right Inner Diameter: 0.0 m<br>Element Length: 0.3 m<br>Material: ABNT1020<br>",
         "legendgroup": "Shaft",
         "line": {
          "color": "black",
          "width": 1.5
         },
         "mode": "lines",
         "name": "Shaft el. 1",
         "opacity": 0.5,
         "showlegend": false,
         "text": "Element Number: 1<br>Left Outer Diameter: 0.0127 m<br>Left Inner Diameter: 0.0 m<br>Right Outer Diameter: 0.0127 m<br>Right Inner Diameter: 0.0 m<br>Element Length: 0.3 m<br>Material: ABNT1020<br>",
         "type": "scatter",
         "x": [
          0.3,
          0.3,
          0.6,
          0.6,
          0.3,
          0.3,
          0.3,
          0.6,
          0.6,
          0.3
         ],
         "y": [
          0,
          0.00635,
          0.00635,
          0,
          0,
          0,
          -0.00635,
          -0.00635,
          0,
          0
         ]
        },
        {
         "customdata": [
          [
           2,
           0.0127,
           0,
           0.0127,
           0,
           0.052,
           "ABNT1020"
          ],
          [
           2,
           0.0127,
           0,
           0.0127,
           0,
           0.052,
           "ABNT1020"
          ],
          [
           2,
           0.0127,
           0,
           0.0127,
           0,
           0.052,
           "ABNT1020"
          ],
          [
           2,
           0.0127,
           0,
           0.0127,
           0,
           0.052,
           "ABNT1020"
          ],
          [
           2,
           0.0127,
           0,
           0.0127,
           0,
           0.052,
           "ABNT1020"
          ],
          [
           2,
           0.0127,
           0,
           0.0127,
           0,
           0.052,
           "ABNT1020"
          ],
          [
           2,
           0.0127,
           0,
           0.0127,
           0,
           0.052,
           "ABNT1020"
          ],
          [
           2,
           0.0127,
           0,
           0.0127,
           0,
           0.052,
           "ABNT1020"
          ],
          [
           2,
           0.0127,
           0,
           0.0127,
           0,
           0.052,
           "ABNT1020"
          ],
          [
           2,
           0.0127,
           0,
           0.0127,
           0,
           0.052,
           "ABNT1020"
          ]
         ],
         "fill": "toself",
         "fillcolor": "#525252",
         "hoverinfo": "text",
         "hoverlabel": {
          "bgcolor": "#525252"
         },
         "hoveron": "points+fills",
         "hovertemplate": "Element Number: 2<br>Left Outer Diameter: 0.0127 m<br>Left Inner Diameter: 0.0 m<br>Right Outer Diameter: 0.0127 m<br>Right Inner Diameter: 0.0 m<br>Element Length: 0.052 m<br>Material: ABNT1020<br>",
         "legendgroup": "Shaft",
         "line": {
          "color": "black",
          "width": 1.5
         },
         "mode": "lines",
         "name": "Shaft el. 2",
         "opacity": 0.5,
         "showlegend": false,
         "text": "Element Number: 2<br>Left Outer Diameter: 0.0127 m<br>Left Inner Diameter: 0.0 m<br>Right Outer Diameter: 0.0127 m<br>Right Inner Diameter: 0.0 m<br>Element Length: 0.052 m<br>Material: ABNT1020<br>",
         "type": "scatter",
         "x": [
          0.6,
          0.6,
          0.652,
          0.652,
          0.6,
          0.6,
          0.6,
          0.652,
          0.652,
          0.6
         ],
         "y": [
          0,
          0.00635,
          0.00635,
          0,
          0,
          0,
          -0.00635,
          -0.00635,
          0,
          0
         ]
        },
        {
         "customdata": [
          [
           1,
           0.008216589016168249,
           0.004124987879011762,
           2.003204511316465
          ],
          [
           1,
           0.008216589016168249,
           0.004124987879011762,
           2.003204511316465
          ],
          [
           1,
           0.008216589016168249,
           0.004124987879011762,
           2.003204511316465
          ],
          [
           1,
           0.008216589016168249,
           0.004124987879011762,
           2.003204511316465
          ],
          [
           1,
           0.008216589016168249,
           0.004124987879011762,
           2.003204511316465
          ],
          [
           1,
           0.008216589016168249,
           0.004124987879011762,
           2.003204511316465
          ],
          [
           1,
           0.008216589016168249,
           0.004124987879011762,
           2.003204511316465
          ],
          [
           1,
           0.008216589016168249,
           0.004124987879011762,
           2.003204511316465
          ],
          [
           1,
           0.008216589016168249,
           0.004124987879011762,
           2.003204511316465
          ]
         ],
         "fill": "toself",
         "fillcolor": "Firebrick",
         "hoverinfo": "text",
         "hoverlabel": {
          "bgcolor": "Firebrick"
         },
         "hoveron": "points+fills",
         "hovertemplate": "Disk Node: 1<br>Polar Inertia: 8.217e-03<br>Diametral Inertia: 4.125e-03<br>Disk mass: 2.003<br>",
         "legendgroup": "disks",
         "line": {
          "color": "Firebrick",
          "width": 2
         },
         "mode": "lines",
         "name": "Geometry disk",
         "showlegend": false,
         "text": "Disk Node: 1<br>Polar Inertia: 8.217e-03<br>Diametral Inertia: 4.125e-03<br>Disk mass: 2.003<br>",
         "type": "scatter",
         "x": [
          0.3,
          0.30211666666666664,
          0.29788333333333333,
          0.3,
          null,
          0.3,
          0.30211666666666664,
          0.29788333333333333,
          0.3
         ],
         "y": [
          0.00635,
          0.03175,
          0.03175,
          0.00635,
          null,
          -0.00635,
          -0.03175,
          -0.03175,
          -0.00635
         ]
        },
        {
         "hoverinfo": "none",
         "legendgroup": "bearings",
         "line": {
          "color": "#77ACA2",
          "width": 3.5
         },
         "mode": "lines",
         "name": "Ball Bearing 0",
         "showlegend": false,
         "type": "scatter",
         "x": [
          0,
          0,
          -0.00635,
          0.00635
         ],
         "y": [
          0.00635,
          0.0127,
          0.0127,
          0.0127
         ]
        },
        {
         "hoverinfo": "none",
         "legendgroup": "bearings",
         "line": {
          "color": "#77ACA2",
          "width": 3.5
         },
         "mode": "lines",
         "name": "Ball Bearing 0",
         "showlegend": false,
         "type": "scatter",
         "x": [
          0,
          0,
          -0.00635,
          0.00635
         ],
         "y": [
          -0.00635,
          -0.0127,
          -0.0127,
          -0.0127
         ]
        },
        {
         "hoverinfo": "none",
         "legendgroup": "bearings",
         "line": {
          "color": "#77ACA2",
          "width": 3.5
         },
         "mode": "lines",
         "name": "Ball Bearing 0",
         "showlegend": false,
         "type": "scatter",
         "x": [
          0,
          0,
          -0.00635,
          0.00635
         ],
         "y": [
          0.03175,
          0.0254,
          0.0254,
          0.0254
         ]
        },
        {
         "hoverinfo": "none",
         "legendgroup": "bearings",
         "line": {
          "color": "#77ACA2",
          "width": 3.5
         },
         "mode": "lines",
         "name": "Ball Bearing 0",
         "showlegend": false,
         "type": "scatter",
         "x": [
          0,
          0,
          -0.00635,
          0.00635
         ],
         "y": [
          -0.03175,
          -0.0254,
          -0.0254,
          -0.0254
         ]
        },
        {
         "hoverinfo": "none",
         "legendgroup": "bearings",
         "line": {
          "color": "#77ACA2",
          "width": 3.5
         },
         "mode": "lines",
         "name": "Ball Bearing 0",
         "showlegend": false,
         "type": "scatter",
         "x": [
          -0.008164285714285714,
          0.008164285714285714
         ],
         "y": [
          0.03175,
          0.03175
         ]
        },
        {
         "hoverinfo": "none",
         "legendgroup": "bearings",
         "line": {
          "color": "#77ACA2",
          "width": 3.5
         },
         "mode": "lines",
         "name": "Ball Bearing 0",
         "showlegend": false,
         "type": "scatter",
         "x": [
          -0.008164285714285714,
          0.008164285714285714
         ],
         "y": [
          -0.03175,
          -0.03175
         ]
        },
        {
         "hoverinfo": "none",
         "legendgroup": "bearings",
         "line": {
          "color": "#77ACA2",
          "width": 3.5
         },
         "mode": "lines",
         "name": "Ball Bearing 0",
         "showlegend": false,
         "type": "scatter",
         "x": [
          -0.008164285714285714,
          -0.004898571428571428
         ],
         "y": [
          0.03175,
          0.034925000000000005
         ]
        },
        {
         "hoverinfo": "none",
         "legendgroup": "bearings",
         "line": {
          "color": "#77ACA2",
          "width": 3.5
         },
         "mode": "lines",
         "name": "Ball Bearing 0",
         "showlegend": false,
         "type": "scatter",
         "x": [
          -0.008164285714285714,
          -0.004898571428571428
         ],
         "y": [
          -0.03175,
          -0.034925000000000005
         ]
        },
        {
         "hoverinfo": "none",
         "legendgroup": "bearings",
         "line": {
          "color": "#77ACA2",
          "width": 3.5
         },
         "mode": "lines",
         "name": "Ball Bearing 0",
         "showlegend": false,
         "type": "scatter",
         "x": [
          -0.004898571428571428,
          -0.0016328571428571425
         ],
         "y": [
          0.03175,
          0.034925000000000005
         ]
        },
        {
         "hoverinfo": "none",
         "legendgroup": "bearings",
         "line": {
          "color": "#77ACA2",
          "width": 3.5
         },
         "mode": "lines",
         "name": "Ball Bearing 0",
         "showlegend": false,
         "type": "scatter",
         "x": [
          -0.004898571428571428,
          -0.0016328571428571425
         ],
         "y": [
          -0.03175,
          -0.034925000000000005
         ]
        },
        {
         "hoverinfo": "none",
         "legendgroup": "bearings",
         "line": {
          "color": "#77ACA2",
          "width": 3.5
         },
         "mode": "lines",
         "name": "Ball Bearing 0",
         "showlegend": false,
         "type": "scatter",
         "x": [
          -0.0016328571428571425,
          0.0016328571428571442
         ],
         "y": [
          0.03175,
          0.034925000000000005
         ]
        },
        {
         "hoverinfo": "none",
         "legendgroup": "bearings",
         "line": {
          "color": "#77ACA2",
          "width": 3.5
         },
         "mode": "lines",
         "name": "Ball Bearing 0",
         "showlegend": false,
         "type": "scatter",
         "x": [
          -0.0016328571428571425,
          0.0016328571428571442
         ],
         "y": [
          -0.03175,
          -0.034925000000000005
         ]
        },
        {
         "hoverinfo": "none",
         "legendgroup": "bearings",
         "line": {
          "color": "#77ACA2",
          "width": 3.5
         },
         "mode": "lines",
         "name": "Ball Bearing 0",
         "showlegend": false,
         "type": "scatter",
         "x": [
          0.0016328571428571442,
          0.004898571428571429
         ],
         "y": [
          0.03175,
          0.034925000000000005
         ]
        },
        {
         "hoverinfo": "none",
         "legendgroup": "bearings",
         "line": {
          "color": "#77ACA2",
          "width": 3.5
         },
         "mode": "lines",
         "name": "Ball Bearing 0",
         "showlegend": false,
         "type": "scatter",
         "x": [
          0.0016328571428571442,
          0.004898571428571429
         ],
         "y": [
          -0.03175,
          -0.034925000000000005
         ]
        },
        {
         "hoverinfo": "none",
         "legendgroup": "bearings",
         "line": {
          "color": "#77ACA2",
          "width": 3.5
         },
         "mode": "lines",
         "name": "Ball Bearing 0",
         "showlegend": false,
         "type": "scatter",
         "x": [
          0.004898571428571429,
          0.008164285714285714
         ],
         "y": [
          0.03175,
          0.034925000000000005
         ]
        },
        {
         "hoverinfo": "none",
         "legendgroup": "bearings",
         "line": {
          "color": "#77ACA2",
          "width": 3.5
         },
         "mode": "lines",
         "name": "Ball Bearing 0",
         "showlegend": false,
         "type": "scatter",
         "x": [
          0.004898571428571429,
          0.008164285714285714
         ],
         "y": [
          -0.03175,
          -0.034925000000000005
         ]
        },
        {
         "hoverinfo": "none",
         "legendgroup": "bearings",
         "line": {
          "color": "#77ACA2",
          "width": 3.5
         },
         "mode": "lines",
         "name": "Ball Bearing 0",
         "showlegend": false,
         "type": "scatter",
         "x": [
          0.008164285714285714,
          0.011430000000000003
         ],
         "y": [
          0.03175,
          0.034925000000000005
         ]
        },
        {
         "hoverinfo": "none",
         "legendgroup": "bearings",
         "line": {
          "color": "#77ACA2",
          "width": 3.5
         },
         "mode": "lines",
         "name": "Ball Bearing 0",
         "showlegend": false,
         "type": "scatter",
         "x": [
          0.008164285714285714,
          0.011430000000000003
         ],
         "y": [
          -0.03175,
          -0.034925000000000005
         ]
        },
        {
         "hoverinfo": "none",
         "legendgroup": "bearings",
         "line": {
          "color": "#77ACA2",
          "width": 3.5
         },
         "mode": "lines",
         "name": "Ball Bearing 0",
         "showlegend": false,
         "type": "scatter",
         "x": [
          -0.00635,
          -0.00635,
          -0.008164285714285714,
          -0.004535714285714285,
          -0.008164285714285714,
          -0.004535714285714285,
          -0.008164285714285714,
          -0.004535714285714285,
          -0.00635,
          -0.00635
         ],
         "y": [
          0.0127,
          0.014514285714285714,
          0.014514285714285714,
          0.01632857142857143,
          0.01814285714285714,
          0.019957142857142857,
          0.02177142857142857,
          0.023585714285714286,
          0.023585714285714286,
          0.0254
         ]
        },
        {
         "hoverinfo": "none",
         "legendgroup": "bearings",
         "line": {
          "color": "#77ACA2",
          "width": 3.5
         },
         "mode": "lines",
         "name": "Ball Bearing 0",
         "showlegend": false,
         "type": "scatter",
         "x": [
          -0.00635,
          -0.00635,
          -0.008164285714285714,
          -0.004535714285714285,
          -0.008164285714285714,
          -0.004535714285714285,
          -0.008164285714285714,
          -0.004535714285714285,
          -0.00635,
          -0.00635
         ],
         "y": [
          -0.0127,
          -0.014514285714285714,
          -0.014514285714285714,
          -0.01632857142857143,
          -0.01814285714285714,
          -0.019957142857142857,
          -0.02177142857142857,
          -0.023585714285714286,
          -0.023585714285714286,
          -0.0254
         ]
        },
        {
         "hoverinfo": "none",
         "legendgroup": "bearings",
         "line": {
          "color": "#77ACA2",
          "width": 3.5
         },
         "mode": "lines",
         "name": "Ball Bearing 0",
         "showlegend": false,
         "type": "scatter",
         "x": [
          0.00635,
          0.00635
         ],
         "y": [
          0.0127,
          0.01632857142857143
         ]
        },
        {
         "hoverinfo": "none",
         "legendgroup": "bearings",
         "line": {
          "color": "#77ACA2",
          "width": 3.5
         },
         "mode": "lines",
         "name": "Ball Bearing 0",
         "showlegend": false,
         "type": "scatter",
         "x": [
          0.00635,
          0.00635
         ],
         "y": [
          -0.0127,
          -0.01632857142857143
         ]
        },
        {
         "hoverinfo": "none",
         "legendgroup": "bearings",
         "line": {
          "color": "#77ACA2",
          "width": 3.5
         },
         "mode": "lines",
         "name": "Ball Bearing 0",
         "showlegend": false,
         "type": "scatter",
         "x": [
          0.0027214285714285713,
          0.0027214285714285713,
          0.009978571428571429,
          0.009978571428571429
         ],
         "y": [
          0.02177142857142857,
          0.01632857142857143,
          0.01632857142857143,
          0.02177142857142857
         ]
        },
        {
         "hoverinfo": "none",
         "legendgroup": "bearings",
         "line": {
          "color": "#77ACA2",
          "width": 3.5
         },
         "mode": "lines",
         "name": "Ball Bearing 0",
         "showlegend": false,
         "type": "scatter",
         "x": [
          0.0027214285714285713,
          0.0027214285714285713,
          0.009978571428571429,
          0.009978571428571429
         ],
         "y": [
          -0.02177142857142857,
          -0.01632857142857143,
          -0.01632857142857143,
          -0.02177142857142857
         ]
        },
        {
         "hoverinfo": "none",
         "legendgroup": "bearings",
         "line": {
          "color": "#77ACA2",
          "width": 3.5
         },
         "mode": "lines",
         "name": "Ball Bearing 0",
         "showlegend": false,
         "type": "scatter",
         "x": [
          0.0027214285714285713,
          0.009978571428571429,
          0.00635,
          0.00635
         ],
         "y": [
          0.019957142857142857,
          0.019957142857142857,
          0.019957142857142857,
          0.0254
         ]
        },
        {
         "hoverinfo": "none",
         "legendgroup": "bearings",
         "line": {
          "color": "#77ACA2",
          "width": 3.5
         },
         "mode": "lines",
         "name": "Ball Bearing 0",
         "showlegend": false,
         "type": "scatter",
         "x": [
          0.0027214285714285713,
          0.009978571428571429,
          0.00635,
          0.00635
         ],
         "y": [
          -0.019957142857142857,
          -0.019957142857142857,
          -0.019957142857142857,
          -0.0254
         ]
        },
        {
         "hoverinfo": "none",
         "legendgroup": "bearings",
         "line": {
          "color": "#77ACA2",
          "width": 3.5
         },
         "mode": "lines",
         "name": "Ball Bearing 1",
         "showlegend": false,
         "type": "scatter",
         "x": [
          0.6,
          0.6,
          0.59365,
          0.60635
         ],
         "y": [
          0.00635,
          0.0127,
          0.0127,
          0.0127
         ]
        },
        {
         "hoverinfo": "none",
         "legendgroup": "bearings",
         "line": {
          "color": "#77ACA2",
          "width": 3.5
         },
         "mode": "lines",
         "name": "Ball Bearing 1",
         "showlegend": false,
         "type": "scatter",
         "x": [
          0.6,
          0.6,
          0.59365,
          0.60635
         ],
         "y": [
          -0.00635,
          -0.0127,
          -0.0127,
          -0.0127
         ]
        },
        {
         "hoverinfo": "none",
         "legendgroup": "bearings",
         "line": {
          "color": "#77ACA2",
          "width": 3.5
         },
         "mode": "lines",
         "name": "Ball Bearing 1",
         "showlegend": false,
         "type": "scatter",
         "x": [
          0.6,
          0.6,
          0.59365,
          0.60635
         ],
         "y": [
          0.03175,
          0.0254,
          0.0254,
          0.0254
         ]
        },
        {
         "hoverinfo": "none",
         "legendgroup": "bearings",
         "line": {
          "color": "#77ACA2",
          "width": 3.5
         },
         "mode": "lines",
         "name": "Ball Bearing 1",
         "showlegend": false,
         "type": "scatter",
         "x": [
          0.6,
          0.6,
          0.59365,
          0.60635
         ],
         "y": [
          -0.03175,
          -0.0254,
          -0.0254,
          -0.0254
         ]
        },
        {
         "hoverinfo": "none",
         "legendgroup": "bearings",
         "line": {
          "color": "#77ACA2",
          "width": 3.5
         },
         "mode": "lines",
         "name": "Ball Bearing 1",
         "showlegend": false,
         "type": "scatter",
         "x": [
          0.5918357142857142,
          0.6081642857142857
         ],
         "y": [
          0.03175,
          0.03175
         ]
        },
        {
         "hoverinfo": "none",
         "legendgroup": "bearings",
         "line": {
          "color": "#77ACA2",
          "width": 3.5
         },
         "mode": "lines",
         "name": "Ball Bearing 1",
         "showlegend": false,
         "type": "scatter",
         "x": [
          0.5918357142857142,
          0.6081642857142857
         ],
         "y": [
          -0.03175,
          -0.03175
         ]
        },
        {
         "hoverinfo": "none",
         "legendgroup": "bearings",
         "line": {
          "color": "#77ACA2",
          "width": 3.5
         },
         "mode": "lines",
         "name": "Ball Bearing 1",
         "showlegend": false,
         "type": "scatter",
         "x": [
          0.5918357142857142,
          0.5951014285714286
         ],
         "y": [
          0.03175,
          0.034925000000000005
         ]
        },
        {
         "hoverinfo": "none",
         "legendgroup": "bearings",
         "line": {
          "color": "#77ACA2",
          "width": 3.5
         },
         "mode": "lines",
         "name": "Ball Bearing 1",
         "showlegend": false,
         "type": "scatter",
         "x": [
          0.5918357142857142,
          0.5951014285714286
         ],
         "y": [
          -0.03175,
          -0.034925000000000005
         ]
        },
        {
         "hoverinfo": "none",
         "legendgroup": "bearings",
         "line": {
          "color": "#77ACA2",
          "width": 3.5
         },
         "mode": "lines",
         "name": "Ball Bearing 1",
         "showlegend": false,
         "type": "scatter",
         "x": [
          0.5951014285714286,
          0.5983671428571429
         ],
         "y": [
          0.03175,
          0.034925000000000005
         ]
        },
        {
         "hoverinfo": "none",
         "legendgroup": "bearings",
         "line": {
          "color": "#77ACA2",
          "width": 3.5
         },
         "mode": "lines",
         "name": "Ball Bearing 1",
         "showlegend": false,
         "type": "scatter",
         "x": [
          0.5951014285714286,
          0.5983671428571429
         ],
         "y": [
          -0.03175,
          -0.034925000000000005
         ]
        },
        {
         "hoverinfo": "none",
         "legendgroup": "bearings",
         "line": {
          "color": "#77ACA2",
          "width": 3.5
         },
         "mode": "lines",
         "name": "Ball Bearing 1",
         "showlegend": false,
         "type": "scatter",
         "x": [
          0.5983671428571429,
          0.6016328571428571
         ],
         "y": [
          0.03175,
          0.034925000000000005
         ]
        },
        {
         "hoverinfo": "none",
         "legendgroup": "bearings",
         "line": {
          "color": "#77ACA2",
          "width": 3.5
         },
         "mode": "lines",
         "name": "Ball Bearing 1",
         "showlegend": false,
         "type": "scatter",
         "x": [
          0.5983671428571429,
          0.6016328571428571
         ],
         "y": [
          -0.03175,
          -0.034925000000000005
         ]
        },
        {
         "hoverinfo": "none",
         "legendgroup": "bearings",
         "line": {
          "color": "#77ACA2",
          "width": 3.5
         },
         "mode": "lines",
         "name": "Ball Bearing 1",
         "showlegend": false,
         "type": "scatter",
         "x": [
          0.6016328571428571,
          0.6048985714285714
         ],
         "y": [
          0.03175,
          0.034925000000000005
         ]
        },
        {
         "hoverinfo": "none",
         "legendgroup": "bearings",
         "line": {
          "color": "#77ACA2",
          "width": 3.5
         },
         "mode": "lines",
         "name": "Ball Bearing 1",
         "showlegend": false,
         "type": "scatter",
         "x": [
          0.6016328571428571,
          0.6048985714285714
         ],
         "y": [
          -0.03175,
          -0.034925000000000005
         ]
        },
        {
         "hoverinfo": "none",
         "legendgroup": "bearings",
         "line": {
          "color": "#77ACA2",
          "width": 3.5
         },
         "mode": "lines",
         "name": "Ball Bearing 1",
         "showlegend": false,
         "type": "scatter",
         "x": [
          0.6048985714285714,
          0.6081642857142857
         ],
         "y": [
          0.03175,
          0.034925000000000005
         ]
        },
        {
         "hoverinfo": "none",
         "legendgroup": "bearings",
         "line": {
          "color": "#77ACA2",
          "width": 3.5
         },
         "mode": "lines",
         "name": "Ball Bearing 1",
         "showlegend": false,
         "type": "scatter",
         "x": [
          0.6048985714285714,
          0.6081642857142857
         ],
         "y": [
          -0.03175,
          -0.034925000000000005
         ]
        },
        {
         "hoverinfo": "none",
         "legendgroup": "bearings",
         "line": {
          "color": "#77ACA2",
          "width": 3.5
         },
         "mode": "lines",
         "name": "Ball Bearing 1",
         "showlegend": false,
         "type": "scatter",
         "x": [
          0.6081642857142857,
          0.61143
         ],
         "y": [
          0.03175,
          0.034925000000000005
         ]
        },
        {
         "hoverinfo": "none",
         "legendgroup": "bearings",
         "line": {
          "color": "#77ACA2",
          "width": 3.5
         },
         "mode": "lines",
         "name": "Ball Bearing 1",
         "showlegend": false,
         "type": "scatter",
         "x": [
          0.6081642857142857,
          0.61143
         ],
         "y": [
          -0.03175,
          -0.034925000000000005
         ]
        },
        {
         "hoverinfo": "none",
         "legendgroup": "bearings",
         "line": {
          "color": "#77ACA2",
          "width": 3.5
         },
         "mode": "lines",
         "name": "Ball Bearing 1",
         "showlegend": false,
         "type": "scatter",
         "x": [
          0.59365,
          0.59365,
          0.5918357142857142,
          0.5954642857142858,
          0.5918357142857142,
          0.5954642857142858,
          0.5918357142857142,
          0.5954642857142858,
          0.59365,
          0.59365
         ],
         "y": [
          0.0127,
          0.014514285714285714,
          0.014514285714285714,
          0.01632857142857143,
          0.01814285714285714,
          0.019957142857142857,
          0.02177142857142857,
          0.023585714285714286,
          0.023585714285714286,
          0.0254
         ]
        },
        {
         "hoverinfo": "none",
         "legendgroup": "bearings",
         "line": {
          "color": "#77ACA2",
          "width": 3.5
         },
         "mode": "lines",
         "name": "Ball Bearing 1",
         "showlegend": false,
         "type": "scatter",
         "x": [
          0.59365,
          0.59365,
          0.5918357142857142,
          0.5954642857142858,
          0.5918357142857142,
          0.5954642857142858,
          0.5918357142857142,
          0.5954642857142858,
          0.59365,
          0.59365
         ],
         "y": [
          -0.0127,
          -0.014514285714285714,
          -0.014514285714285714,
          -0.01632857142857143,
          -0.01814285714285714,
          -0.019957142857142857,
          -0.02177142857142857,
          -0.023585714285714286,
          -0.023585714285714286,
          -0.0254
         ]
        },
        {
         "hoverinfo": "none",
         "legendgroup": "bearings",
         "line": {
          "color": "#77ACA2",
          "width": 3.5
         },
         "mode": "lines",
         "name": "Ball Bearing 1",
         "showlegend": false,
         "type": "scatter",
         "x": [
          0.60635,
          0.60635
         ],
         "y": [
          0.0127,
          0.01632857142857143
         ]
        },
        {
         "hoverinfo": "none",
         "legendgroup": "bearings",
         "line": {
          "color": "#77ACA2",
          "width": 3.5
         },
         "mode": "lines",
         "name": "Ball Bearing 1",
         "showlegend": false,
         "type": "scatter",
         "x": [
          0.60635,
          0.60635
         ],
         "y": [
          -0.0127,
          -0.01632857142857143
         ]
        },
        {
         "hoverinfo": "none",
         "legendgroup": "bearings",
         "line": {
          "color": "#77ACA2",
          "width": 3.5
         },
         "mode": "lines",
         "name": "Ball Bearing 1",
         "showlegend": false,
         "type": "scatter",
         "x": [
          0.6027214285714285,
          0.6027214285714285,
          0.6099785714285714,
          0.6099785714285714
         ],
         "y": [
          0.02177142857142857,
          0.01632857142857143,
          0.01632857142857143,
          0.02177142857142857
         ]
        },
        {
         "hoverinfo": "none",
         "legendgroup": "bearings",
         "line": {
          "color": "#77ACA2",
          "width": 3.5
         },
         "mode": "lines",
         "name": "Ball Bearing 1",
         "showlegend": false,
         "type": "scatter",
         "x": [
          0.6027214285714285,
          0.6027214285714285,
          0.6099785714285714,
          0.6099785714285714
         ],
         "y": [
          -0.02177142857142857,
          -0.01632857142857143,
          -0.01632857142857143,
          -0.02177142857142857
         ]
        },
        {
         "hoverinfo": "none",
         "legendgroup": "bearings",
         "line": {
          "color": "#77ACA2",
          "width": 3.5
         },
         "mode": "lines",
         "name": "Ball Bearing 1",
         "showlegend": false,
         "type": "scatter",
         "x": [
          0.6027214285714285,
          0.6099785714285714,
          0.60635,
          0.60635
         ],
         "y": [
          0.019957142857142857,
          0.019957142857142857,
          0.019957142857142857,
          0.0254
         ]
        },
        {
         "hoverinfo": "none",
         "legendgroup": "bearings",
         "line": {
          "color": "#77ACA2",
          "width": 3.5
         },
         "mode": "lines",
         "name": "Ball Bearing 1",
         "showlegend": false,
         "type": "scatter",
         "x": [
          0.6027214285714285,
          0.6099785714285714,
          0.60635,
          0.60635
         ],
         "y": [
          -0.019957142857142857,
          -0.019957142857142857,
          -0.019957142857142857,
          -0.0254
         ]
        }
       ],
       "layout": {
        "shapes": [
         {
          "fillcolor": "Firebrick",
          "line": {
           "color": "Firebrick"
          },
          "type": "circle",
          "x0": 0.30211666666666664,
          "x1": 0.29788333333333333,
          "xref": "x",
          "y0": 0.029633333333333334,
          "y1": 0.03386666666666667,
          "yref": "y"
         },
         {
          "fillcolor": "Firebrick",
          "line": {
           "color": "Firebrick"
          },
          "type": "circle",
          "x0": 0.30211666666666664,
          "x1": 0.29788333333333333,
          "xref": "x",
          "y0": -0.029633333333333334,
          "y1": -0.03386666666666667,
          "yref": "y"
         }
        ],
        "template": {
         "data": {
          "bar": [
           {
            "error_x": {
             "color": "#2a3f5f"
            },
            "error_y": {
             "color": "#2a3f5f"
            },
            "marker": {
             "line": {
              "color": "white",
              "width": 0.5
             }
            },
            "type": "bar"
           }
          ],
          "barpolar": [
           {
            "marker": {
             "line": {
              "color": "white",
              "width": 0.5
             }
            },
            "type": "barpolar"
           }
          ],
          "carpet": [
           {
            "aaxis": {
             "endlinecolor": "#2a3f5f",
             "gridcolor": "#C8D4E3",
             "linecolor": "#C8D4E3",
             "minorgridcolor": "#C8D4E3",
             "startlinecolor": "#2a3f5f"
            },
            "baxis": {
             "endlinecolor": "#2a3f5f",
             "gridcolor": "#C8D4E3",
             "linecolor": "#C8D4E3",
             "minorgridcolor": "#C8D4E3",
             "startlinecolor": "#2a3f5f"
            },
            "type": "carpet"
           }
          ],
          "choropleth": [
           {
            "colorbar": {
             "outlinewidth": 0,
             "ticks": ""
            },
            "type": "choropleth"
           }
          ],
          "contour": [
           {
            "colorbar": {
             "outlinewidth": 0,
             "ticks": ""
            },
            "colorscale": [
             [
              0,
              "#0d0887"
             ],
             [
              0.1111111111111111,
              "#46039f"
             ],
             [
              0.2222222222222222,
              "#7201a8"
             ],
             [
              0.3333333333333333,
              "#9c179e"
             ],
             [
              0.4444444444444444,
              "#bd3786"
             ],
             [
              0.5555555555555556,
              "#d8576b"
             ],
             [
              0.6666666666666666,
              "#ed7953"
             ],
             [
              0.7777777777777778,
              "#fb9f3a"
             ],
             [
              0.8888888888888888,
              "#fdca26"
             ],
             [
              1,
              "#f0f921"
             ]
            ],
            "type": "contour"
           }
          ],
          "contourcarpet": [
           {
            "colorbar": {
             "outlinewidth": 0,
             "ticks": ""
            },
            "type": "contourcarpet"
           }
          ],
          "heatmap": [
           {
            "colorbar": {
             "outlinewidth": 0,
             "ticks": ""
            },
            "colorscale": [
             [
              0,
              "#0d0887"
             ],
             [
              0.1111111111111111,
              "#46039f"
             ],
             [
              0.2222222222222222,
              "#7201a8"
             ],
             [
              0.3333333333333333,
              "#9c179e"
             ],
             [
              0.4444444444444444,
              "#bd3786"
             ],
             [
              0.5555555555555556,
              "#d8576b"
             ],
             [
              0.6666666666666666,
              "#ed7953"
             ],
             [
              0.7777777777777778,
              "#fb9f3a"
             ],
             [
              0.8888888888888888,
              "#fdca26"
             ],
             [
              1,
              "#f0f921"
             ]
            ],
            "type": "heatmap"
           }
          ],
          "heatmapgl": [
           {
            "colorbar": {
             "outlinewidth": 0,
             "ticks": ""
            },
            "colorscale": [
             [
              0,
              "#0d0887"
             ],
             [
              0.1111111111111111,
              "#46039f"
             ],
             [
              0.2222222222222222,
              "#7201a8"
             ],
             [
              0.3333333333333333,
              "#9c179e"
             ],
             [
              0.4444444444444444,
              "#bd3786"
             ],
             [
              0.5555555555555556,
              "#d8576b"
             ],
             [
              0.6666666666666666,
              "#ed7953"
             ],
             [
              0.7777777777777778,
              "#fb9f3a"
             ],
             [
              0.8888888888888888,
              "#fdca26"
             ],
             [
              1,
              "#f0f921"
             ]
            ],
            "type": "heatmapgl"
           }
          ],
          "histogram": [
           {
            "marker": {
             "colorbar": {
              "outlinewidth": 0,
              "ticks": ""
             }
            },
            "type": "histogram"
           }
          ],
          "histogram2d": [
           {
            "colorbar": {
             "outlinewidth": 0,
             "ticks": ""
            },
            "colorscale": [
             [
              0,
              "#0d0887"
             ],
             [
              0.1111111111111111,
              "#46039f"
             ],
             [
              0.2222222222222222,
              "#7201a8"
             ],
             [
              0.3333333333333333,
              "#9c179e"
             ],
             [
              0.4444444444444444,
              "#bd3786"
             ],
             [
              0.5555555555555556,
              "#d8576b"
             ],
             [
              0.6666666666666666,
              "#ed7953"
             ],
             [
              0.7777777777777778,
              "#fb9f3a"
             ],
             [
              0.8888888888888888,
              "#fdca26"
             ],
             [
              1,
              "#f0f921"
             ]
            ],
            "type": "histogram2d"
           }
          ],
          "histogram2dcontour": [
           {
            "colorbar": {
             "outlinewidth": 0,
             "ticks": ""
            },
            "colorscale": [
             [
              0,
              "#0d0887"
             ],
             [
              0.1111111111111111,
              "#46039f"
             ],
             [
              0.2222222222222222,
              "#7201a8"
             ],
             [
              0.3333333333333333,
              "#9c179e"
             ],
             [
              0.4444444444444444,
              "#bd3786"
             ],
             [
              0.5555555555555556,
              "#d8576b"
             ],
             [
              0.6666666666666666,
              "#ed7953"
             ],
             [
              0.7777777777777778,
              "#fb9f3a"
             ],
             [
              0.8888888888888888,
              "#fdca26"
             ],
             [
              1,
              "#f0f921"
             ]
            ],
            "type": "histogram2dcontour"
           }
          ],
          "mesh3d": [
           {
            "colorbar": {
             "outlinewidth": 0,
             "ticks": ""
            },
            "type": "mesh3d"
           }
          ],
          "parcoords": [
           {
            "line": {
             "colorbar": {
              "outlinewidth": 0,
              "ticks": ""
             }
            },
            "type": "parcoords"
           }
          ],
          "pie": [
           {
            "automargin": true,
            "type": "pie"
           }
          ],
          "scatter": [
           {
            "marker": {
             "colorbar": {
              "outlinewidth": 0,
              "ticks": ""
             }
            },
            "type": "scatter"
           }
          ],
          "scatter3d": [
           {
            "line": {
             "colorbar": {
              "outlinewidth": 0,
              "ticks": ""
             }
            },
            "marker": {
             "colorbar": {
              "outlinewidth": 0,
              "ticks": ""
             }
            },
            "type": "scatter3d"
           }
          ],
          "scattercarpet": [
           {
            "marker": {
             "colorbar": {
              "outlinewidth": 0,
              "ticks": ""
             }
            },
            "type": "scattercarpet"
           }
          ],
          "scattergeo": [
           {
            "marker": {
             "colorbar": {
              "outlinewidth": 0,
              "ticks": ""
             }
            },
            "type": "scattergeo"
           }
          ],
          "scattergl": [
           {
            "marker": {
             "colorbar": {
              "outlinewidth": 0,
              "ticks": ""
             }
            },
            "type": "scattergl"
           }
          ],
          "scattermapbox": [
           {
            "marker": {
             "colorbar": {
              "outlinewidth": 0,
              "ticks": ""
             }
            },
            "type": "scattermapbox"
           }
          ],
          "scatterpolar": [
           {
            "marker": {
             "colorbar": {
              "outlinewidth": 0,
              "ticks": ""
             }
            },
            "type": "scatterpolar"
           }
          ],
          "scatterpolargl": [
           {
            "marker": {
             "colorbar": {
              "outlinewidth": 0,
              "ticks": ""
             }
            },
            "type": "scatterpolargl"
           }
          ],
          "scatterternary": [
           {
            "marker": {
             "colorbar": {
              "outlinewidth": 0,
              "ticks": ""
             }
            },
            "type": "scatterternary"
           }
          ],
          "surface": [
           {
            "colorbar": {
             "outlinewidth": 0,
             "ticks": ""
            },
            "colorscale": [
             [
              0,
              "#0d0887"
             ],
             [
              0.1111111111111111,
              "#46039f"
             ],
             [
              0.2222222222222222,
              "#7201a8"
             ],
             [
              0.3333333333333333,
              "#9c179e"
             ],
             [
              0.4444444444444444,
              "#bd3786"
             ],
             [
              0.5555555555555556,
              "#d8576b"
             ],
             [
              0.6666666666666666,
              "#ed7953"
             ],
             [
              0.7777777777777778,
              "#fb9f3a"
             ],
             [
              0.8888888888888888,
              "#fdca26"
             ],
             [
              1,
              "#f0f921"
             ]
            ],
            "type": "surface"
           }
          ],
          "table": [
           {
            "cells": {
             "fill": {
              "color": "#EBF0F8"
             },
             "line": {
              "color": "white"
             }
            },
            "header": {
             "fill": {
              "color": "#C8D4E3"
             },
             "line": {
              "color": "white"
             }
            },
            "type": "table"
           }
          ]
         },
         "layout": {
          "annotationdefaults": {
           "arrowcolor": "#2a3f5f",
           "arrowhead": 0,
           "arrowwidth": 1
          },
          "coloraxis": {
           "colorbar": {
            "outlinewidth": 0,
            "ticks": ""
           }
          },
          "colorscale": {
           "diverging": [
            [
             0,
             "#8e0152"
            ],
            [
             0.1,
             "#c51b7d"
            ],
            [
             0.2,
             "#de77ae"
            ],
            [
             0.3,
             "#f1b6da"
            ],
            [
             0.4,
             "#fde0ef"
            ],
            [
             0.5,
             "#f7f7f7"
            ],
            [
             0.6,
             "#e6f5d0"
            ],
            [
             0.7,
             "#b8e186"
            ],
            [
             0.8,
             "#7fbc41"
            ],
            [
             0.9,
             "#4d9221"
            ],
            [
             1,
             "#276419"
            ]
           ],
           "sequential": [
            [
             0,
             "#0d0887"
            ],
            [
             0.1111111111111111,
             "#46039f"
            ],
            [
             0.2222222222222222,
             "#7201a8"
            ],
            [
             0.3333333333333333,
             "#9c179e"
            ],
            [
             0.4444444444444444,
             "#bd3786"
            ],
            [
             0.5555555555555556,
             "#d8576b"
            ],
            [
             0.6666666666666666,
             "#ed7953"
            ],
            [
             0.7777777777777778,
             "#fb9f3a"
            ],
            [
             0.8888888888888888,
             "#fdca26"
            ],
            [
             1,
             "#f0f921"
            ]
           ],
           "sequentialminus": [
            [
             0,
             "#0d0887"
            ],
            [
             0.1111111111111111,
             "#46039f"
            ],
            [
             0.2222222222222222,
             "#7201a8"
            ],
            [
             0.3333333333333333,
             "#9c179e"
            ],
            [
             0.4444444444444444,
             "#bd3786"
            ],
            [
             0.5555555555555556,
             "#d8576b"
            ],
            [
             0.6666666666666666,
             "#ed7953"
            ],
            [
             0.7777777777777778,
             "#fb9f3a"
            ],
            [
             0.8888888888888888,
             "#fdca26"
            ],
            [
             1,
             "#f0f921"
            ]
           ]
          },
          "colorway": [
           "#1f77b4",
           "#ff7f0e",
           "#2ca02c",
           "#d62728",
           "#9467bd",
           "#8c564b",
           "#e377c2",
           "#7f7f7f",
           "#bcbd22",
           "#17becf"
          ],
          "font": {
           "color": "#2a3f5f"
          },
          "geo": {
           "bgcolor": "white",
           "lakecolor": "white",
           "landcolor": "white",
           "showlakes": true,
           "showland": true,
           "subunitcolor": "#C8D4E3"
          },
          "hoverlabel": {
           "align": "left"
          },
          "hovermode": "closest",
          "mapbox": {
           "style": "light"
          },
          "paper_bgcolor": "white",
          "plot_bgcolor": "white",
          "polar": {
           "angularaxis": {
            "gridcolor": "#EBF0F8",
            "linecolor": "#EBF0F8",
            "ticks": ""
           },
           "bgcolor": "white",
           "radialaxis": {
            "gridcolor": "#EBF0F8",
            "linecolor": "#EBF0F8",
            "ticks": ""
           }
          },
          "scene": {
           "camera": {
            "center": {
             "x": 0,
             "y": 0,
             "z": 0
            },
            "eye": {
             "x": 2,
             "y": 2,
             "z": 2
            },
            "up": {
             "x": 0,
             "y": 0,
             "z": 1
            }
           },
           "xaxis": {
            "backgroundcolor": "white",
            "gridcolor": "#DFE8F3",
            "gridwidth": 2,
            "linecolor": "#EBF0F8",
            "showbackground": true,
            "showspikes": false,
            "ticks": "",
            "zerolinecolor": "#EBF0F8"
           },
           "yaxis": {
            "backgroundcolor": "white",
            "gridcolor": "#DFE8F3",
            "gridwidth": 2,
            "linecolor": "#EBF0F8",
            "showbackground": true,
            "showspikes": false,
            "ticks": "",
            "zerolinecolor": "#EBF0F8"
           },
           "zaxis": {
            "backgroundcolor": "white",
            "gridcolor": "#DFE8F3",
            "gridwidth": 2,
            "linecolor": "#EBF0F8",
            "showbackground": true,
            "showspikes": false,
            "ticks": "",
            "zerolinecolor": "#EBF0F8"
           }
          },
          "shapedefaults": {
           "line": {
            "color": "#2a3f5f"
           }
          },
          "ternary": {
           "aaxis": {
            "gridcolor": "#DFE8F3",
            "linecolor": "#A2B1C6",
            "ticks": ""
           },
           "baxis": {
            "gridcolor": "#DFE8F3",
            "linecolor": "#A2B1C6",
            "ticks": ""
           },
           "bgcolor": "white",
           "caxis": {
            "gridcolor": "#DFE8F3",
            "linecolor": "#A2B1C6",
            "ticks": ""
           }
          },
          "title": {
           "x": 0.05
          },
          "xaxis": {
           "automargin": true,
           "gridcolor": "#EBF0F8",
           "linecolor": "black",
           "linewidth": 2,
           "mirror": true,
           "showline": true,
           "ticks": "",
           "title": {
            "standoff": 15
           },
           "zeroline": false,
           "zerolinecolor": "#EBF0F8",
           "zerolinewidth": 2
          },
          "yaxis": {
           "automargin": true,
           "gridcolor": "#EBF0F8",
           "linecolor": "black",
           "linewidth": 2,
           "mirror": true,
           "showline": true,
           "ticks": "",
           "title": {
            "standoff": 15
           },
           "zeroline": false,
           "zerolinecolor": "#EBF0F8",
           "zerolinewidth": 2
          }
         }
        },
        "title": {
         "text": "Rotor Model"
        },
        "xaxis": {
         "mirror": true,
         "range": [
          -0.06520000000000001,
          0.7172000000000001
         ],
         "showgrid": false,
         "title": {
          "text": "Axial location (m)"
         }
        },
        "yaxis": {
         "mirror": true,
         "range": [
          -0.1956,
          0.1956
         ],
         "showgrid": false,
         "title": {
          "text": "Shaft radius (m)"
         }
        }
       }
      }
     },
     "metadata": {}
    }
   ],
   "source": [
    "# ========================================================================\n",
    "# ROTOR\n",
    "#\n",
    "rotor = rs.Rotor(shaft_elements, disk_geo, bearings)\n",
    "print(\"Rotor total mass = \", np.round(rotor.m, 2))\n",
    "print(\"Rotor center of gravity =\", np.round(rotor.CG, 2))\n",
    "rotor.plot_rotor()"
   ]
  },
  {
   "cell_type": "code",
   "execution_count": 13,
   "metadata": {},
   "outputs": [
    {
     "output_type": "display_data",
     "data": {
      "application/vnd.plotly.v1+json": {
       "config": {
        "plotlyServerURL": "https://plot.ly"
       },
       "data": [
        {
         "hovertemplate": "Frequency (rad/s): %{x:.2f}<br>Critical Speed (rad/s): %{y:.2f}",
         "legendgroup": "Crit. Speed",
         "marker": {
          "color": "black",
          "symbol": "x"
         },
         "mode": "markers",
         "name": "Crit. Speed",
         "showlegend": true,
         "type": "scatter",
         "x": [
          159.0292469702516,
          159.10409365910917,
          624.2805864313574
         ],
         "y": [
          159.0292469702516,
          159.10409365910917,
          624.2805864313574
         ]
        },
        {
         "hoverinfo": "none",
         "legendgroup": "Foward",
         "marker": {
          "color": [
           0.0000038783672638666065,
           0.000003880475540262495,
           0.000003883978998815875,
           0.000003888862595066745,
           0.000003895105200640104,
           0.0000039026809400468,
           0.00000391155821930273,
           0.000003921698983922761,
           0.000003933063730798014,
           0.000003945606601106733,
           0.000003959278890209793,
           0.000003974029763152828,
           0.000003989803814436097,
           0.0000040065452431777105,
           0.0000040241958411482875,
           0.000004042697083237798,
           0.000004061988715060271,
           0.0000040820119860137254,
           0.0000041027064371073674,
           0.000004124013556321938,
           0.0000041458745684363275,
           0.000004168233909766419,
           0.000004191035624680539,
           0.000004214225955610266,
           0.000004237753569070982,
           0.000004261568874973787,
           0.000004285624494046681,
           0.000004309875442650866,
           0.00000433427894492559,
           0.00000435879435841791,
           0.00000438338430630328,
           0.000004408011375866758,
           0.000004432645541750339,
           0.000004457254028498352,
           0.000004481808513225142,
           0.0000045062828359202725,
           0.0000045306500065867065,
           0.000004554890802464751,
           0.000004578984111690415,
           0.000004602910997587652,
           0.000004626654894105247,
           0.000004650200370855841,
           0.000004673534769559438,
           0.000004696645191889907,
           0.000004719520233217688,
           0.000004742153566086086,
           0.000004764534045416547,
           0.000004786655282680379,
           0.0000048085122288447744,
           0.000004830098951273463
          ],
          "coloraxis": "coloraxis",
          "symbol": "triangle-up"
         },
         "mode": "markers",
         "name": "Foward",
         "showlegend": false,
         "type": "scatter",
         "x": [
          20,
          40,
          60,
          80,
          100,
          120,
          140,
          160,
          180,
          200,
          220,
          240,
          260,
          280,
          300,
          320,
          340,
          360,
          380,
          400,
          420,
          440,
          460,
          480,
          500,
          520,
          540,
          560,
          580,
          600,
          620,
          640,
          660,
          680,
          700,
          720,
          740,
          760,
          780,
          800,
          820,
          840,
          860,
          880,
          900,
          920,
          940,
          960,
          980,
          1000
         ],
         "y": [
          159.1035407620667,
          159.10356756456883,
          159.1036121921002,
          159.1036745803648,
          159.10375463961702,
          159.10385225588212,
          159.10396729123877,
          159.10409958526188,
          159.10424895566265,
          159.10441519981651,
          159.10459809598797,
          159.10479740461955,
          159.10501286982202,
          159.10524422105547,
          159.10549117434593,
          159.10575343413197,
          159.10603069453236,
          159.10632264113246,
          159.10662895201037,
          159.1069492997472,
          159.10728335232278,
          159.10763077444196,
          159.1079912292294,
          159.10836437871313,
          159.1087498854372,
          159.10914741299487,
          159.10955662740432,
          159.1099771974124,
          159.11040879569867,
          159.11085109926339,
          159.11130378993926,
          159.11176655513634,
          159.11223908811277,
          159.1127210882369,
          159.1132122617414,
          159.11371232142127,
          159.11422098683718,
          159.11473798526237,
          159.11526305077632,
          159.1157959247959,
          159.11633635631782,
          159.11688410137666,
          159.11743892347613,
          159.11800059323073,
          159.1185688885296,
          159.11914359420928,
          159.11972450219577,
          159.12031141108588,
          159.12090412622433,
          159.12150245947223
         ]
        },
        {
         "hoverinfo": "none",
         "legendgroup": "Foward",
         "marker": {
          "color": [
           0.00007692579232138427,
           0.00007881868775838536,
           0.00008046303836856312,
           0.00008208051243327649,
           0.00008371688342345113,
           0.00008538888989193127,
           0.00008710479645918713,
           0.00008886985903562397,
           0.00009068804939509063,
           0.00009256257004924029,
           0.00009449656182273678,
           0.00009649303702487142,
           0.00009855424645433851,
           0.00010068368829051086,
           0.0001028837085414526,
           0.00010515737280734123,
           0.00010750756775531787,
           0.00010993732675633686,
           0.00011244933457148795,
           0.00011504715025117732,
           0.00011773385501665346,
           0.00012051257474471498,
           0.0001233866130238552,
           0.00012635951497700168,
           0.00012943465841708522,
           0.00013261539768982223,
           0.00013590565522233648,
           0.00013930859226256965,
           0.00014282847538125816,
           0.00014646876496129973,
           0.00015023299751599546,
           0.00015412523819547698,
           0.00015814955093777504,
           0.0001623097663703519,
           0.0001666090807333162,
           0.00017105232925903233,
           0.00017564273919900753,
           0.00018038458577959908,
           0.00018528133667493324,
           0.00019033691971244375,
           0.00019555495475451874,
           0.00020094006302752302,
           0.00020649464523277614,
           0.00021222218617999322,
           0.0002181266208915134,
           0.0002242100637463995,
           0.0002304764345959971,
           0.000236929099712262,
           0.00024356877654955865,
           0.0002503987005262831
          ],
          "coloraxis": "coloraxis",
          "symbol": "triangle-up"
         },
         "mode": "markers",
         "name": "Foward",
         "showlegend": false,
         "type": "scatter",
         "x": [
          20,
          40,
          60,
          80,
          100,
          120,
          140,
          160,
          180,
          200,
          220,
          240,
          260,
          280,
          300,
          320,
          340,
          360,
          380,
          400,
          420,
          440,
          460,
          480,
          500,
          520,
          540,
          560,
          580,
          600,
          620,
          640,
          660,
          680,
          700,
          720,
          740,
          760,
          780,
          800,
          820,
          840,
          860,
          880,
          900,
          920,
          940,
          960,
          980,
          1000
         ],
         "y": [
          1014.9132791745344,
          1030.7301210318294,
          1046.7703589682055,
          1063.0305036335603,
          1079.5079300390398,
          1096.1999497714437,
          1113.103680487431,
          1130.2160154407495,
          1147.5336159133947,
          1165.0529106865988,
          1182.7700989188568,
          1200.6811540084873,
          1218.7818288496662,
          1237.0676613888445,
          1255.5339809754864,
          1274.1759148574865,
          1292.9883951302627,
          1311.966165958492,
          1331.1037907186433,
          1350.3956595562024,
          1369.835996911063,
          1389.4188691111049,
          1409.138191630855,
          1428.987737122705,
          1448.9611423066915,
          1469.0519157963904,
          1489.2534446568297,
          1509.559002211327,
          1529.9617544382327,
          1550.4547668254613,
          1571.0310108757515,
          1591.6833710261087,
          1612.404650117855,
          1633.1875760905734,
          1654.0248075804816,
          1674.9089400836003,
          1695.832511466756,
          1716.7880076538738,
          1737.7678683095685,
          1758.7644922316124,
          1779.7702432479425,
          1800.7774554367206,
          1821.7784390010577,
          1842.7654864408896,
          1863.7308772715,
          1884.6668852613886,
          1905.5657839193284,
          1926.419853979834,
          1947.221388171574,
          1967.962700026384
         ]
        },
        {
         "hoverinfo": "none",
         "legendgroup": "Foward",
         "marker": {
          "color": [
           0.00046117852996214326,
           0.00047663177103495,
           0.0004995941836301908,
           0.0005271175910992057,
           0.0005566316866512233,
           0.000586312118315832,
           0.000615062755193551,
           0.0006423363375730543,
           0.0006679346066109952,
           0.0006918644981553255,
           0.0007142309145863129,
           0.0007351842204961702,
           0.0007548945679996759,
           0.0007735167710347413,
           0.0007911933325927645,
           0.0008080641233942621,
           0.000824235503238667,
           0.0008398134237889088,
           0.0008548825926140748,
           0.000869518315610728,
           0.0008837809681290912,
           0.0008977341073710197,
           0.0009114212782730443,
           0.0009248882698032252,
           0.000938165173362878,
           0.0009512907329122021,
           0.0009642915715276015,
           0.000977191664928845,
           0.0009900109247191367,
           0.0010027696303291289,
           0.0010154841072054464,
           0.0010281609623706122,
           0.0010408341742451672,
           0.00105348860331506,
           0.0010661584871206893,
           0.0010788357392268024,
           0.001091532433266665,
           0.0011042556792901716,
           0.001117011981708335,
           0.0011298081485604941,
           0.0011426415085515537,
           0.001155524781421452,
           0.0011684520349905447,
           0.0011814320427021103,
           0.001194467113152611,
           0.0012075544332097877,
           0.0012206985378843014,
           0.0012338941827842247,
           0.0012471504534241808,
           0.001260466576869001
          ],
          "coloraxis": "coloraxis",
          "symbol": "triangle-up"
         },
         "mode": "markers",
         "name": "Foward",
         "showlegend": false,
         "type": "scatter",
         "x": [
          20,
          40,
          60,
          80,
          100,
          120,
          140,
          160,
          180,
          200,
          220,
          240,
          260,
          280,
          300,
          320,
          340,
          360,
          380,
          400,
          420,
          440,
          460,
          480,
          500,
          520,
          540,
          560,
          580,
          600,
          620,
          640,
          660,
          680,
          700,
          720,
          740,
          760,
          780,
          800,
          820,
          840,
          860,
          880,
          900,
          920,
          940,
          960,
          980,
          1000
         ],
         "y": [
          3543.1018621192516,
          3543.259428939699,
          3543.5117947865538,
          3543.846462809697,
          3544.2500894103587,
          3544.7102386857905,
          3545.2162518919276,
          3545.7594254663877,
          3546.332842604514,
          3546.9310802184723,
          3547.549896413914,
          3548.185969035734,
          3548.8366904733416,
          3549.4999795426934,
          3550.174179279573,
          3550.8579406855065,
          3551.550166713828,
          3552.249945417272,
          3552.956517339547,
          3553.6692459911233,
          3554.3875771626313,
          3555.111042347661,
          3555.8392279254913,
          3556.571770855482,
          3557.3083478846565,
          3558.0486698949003,
          3558.7924686469223,
          3559.5395106955193,
          3560.2895646765946,
          3561.0424281797464,
          3561.7979054965626,
          3562.5558136600007,
          3563.3159688373894,
          3564.078212367928,
          3564.84238266494,
          3565.608319402796,
          3566.3758713921125,
          3567.144892244023,
          3567.9152387005615,
          3568.6867699124073,
          3569.4593435884444,
          3570.2328272156997,
          3571.007084678911,
          3571.7819749472974,
          3572.5573773773867,
          3573.3331532489974,
          3574.109176635866,
          3574.8853202514088,
          3575.6614546214046,
          3576.4374548015794
         ]
        },
        {
         "hoverinfo": "none",
         "legendgroup": "Backward",
         "marker": {
          "color": [
           0.000009658838665516696,
           0.000009656730449335043,
           0.000009653226933252528,
           0.000009648343283730673,
           0.000009642100672285131,
           0.000009634524916340383,
           0.000009625647764903296,
           0.00000961550693735541,
           0.000009604142291076824,
           0.000009591599446126809,
           0.000009577927110140317,
           0.000009563176375876769,
           0.00000954740238034069,
           0.000009530660990488149,
           0.00000951301042863093,
           0.000009494509207696073,
           0.000009475217672299288,
           0.00000945519445168773,
           0.000009434500064238688,
           0.000009413193016523084,
           0.000009391332149909318,
           0.000009368972788772688,
           0.000009346171130691474,
           0.000009322980903082233,
           0.000009299453366766421,
           0.000009275638090788661,
           0.000009251582612086188,
           0.000009227331750860058,
           0.00000920292836191261,
           0.000009178413018153452,
           0.000009153823189891595,
           0.000009129196161373088,
           0.000009104562217897203,
           0.000009079953748830335,
           0.000009055399408663738,
           0.000009030925231398536,
           0.00000900655817368525,
           0.000008982317479339943,
           0.00000895822429813877,
           0.000008934297545763992,
           0.000008910553767577193,
           0.000008887008458324825,
           0.000008863674209867293,
           0.000008840563886375842,
           0.000008817688996948452,
           0.000008795055794935629,
           0.000008772675468342553,
           0.00000875055437970093,
           0.00000872869757583646,
           0.000008707111009900357
          ],
          "coloraxis": "coloraxis",
          "symbol": "triangle-down"
         },
         "mode": "markers",
         "name": "Backward",
         "showlegend": false,
         "type": "scatter",
         "x": [
          20,
          40,
          60,
          80,
          100,
          120,
          140,
          160,
          180,
          200,
          220,
          240,
          260,
          280,
          300,
          320,
          340,
          360,
          380,
          400,
          420,
          440,
          460,
          480,
          500,
          520,
          540,
          560,
          580,
          600,
          620,
          640,
          660,
          680,
          700,
          720,
          740,
          760,
          780,
          800,
          820,
          840,
          860,
          880,
          900,
          920,
          940,
          960,
          980,
          1000
         ],
         "y": [
          159.0297991620922,
          159.029772369725,
          159.02972775904752,
          159.02966539441218,
          159.0295853654336,
          159.02948778637418,
          159.02937279482313,
          159.0292405514698,
          159.02909123838126,
          159.02892505828308,
          159.02874223291582,
          159.02854300188537,
          159.02832762090037,
          159.02809636076987,
          159.02784950521365,
          159.0275873499067,
          159.0273102006531,
          159.0270183720847,
          159.02671218571209,
          159.02639196940552,
          159.02605805495122,
          159.02571077751756,
          159.025350474277,
          159.0249774829267,
          159.02459214115729,
          159.0241947851243,
          159.02378574898717,
          159.0233653638717,
          159.02293395715026,
          159.02249185191928,
          159.0220393660717,
          159.0215768125246,
          159.0211044977259,
          159.0206227224282,
          159.0201317804462,
          159.01963195893745,
          159.0191235381608,
          159.01860679114228,
          159.01808198360683,
          159.01754937409967,
          159.01700921372185,
          159.01646174635482,
          159.01590720857135,
          159.0153458296264,
          159.01477783171183,
          159.01420342990272,
          159.01362283236844,
          159.01303624043754,
          159.01244384873215,
          159.01184584542727
         ]
        },
        {
         "hoverinfo": "none",
         "legendgroup": "Backward",
         "marker": {
          "color": [
           0.00007590622341012943,
           0.00007413690686467401,
           0.00007269875080109427,
           0.0000713704255897235,
           0.00007010660453190034,
           0.00006889118856665929,
           0.00006771662979895488,
           0.00006657853458348577,
           0.00006547395406210214,
           0.00006440077669434622,
           0.00006335716506944991,
           0.00006234159133086946,
           0.00006135302288230034,
           0.00006038995349768356,
           0.000059451575998283565,
           0.000058536799299871146,
           0.00005764476824190714,
           0.000056774595389895035,
           0.00005592555369113045,
           0.00005509679482307328,
           0.00005428767606836522,
           0.00005349749552446772,
           0.00005272565789472252,
           0.00005197145920073959,
           0.000051234422995577324,
           0.00005051401230813207,
           0.000049809631189075084,
           0.000049120805570535026,
           0.00004844703732972172,
           0.00004778793457173339,
           0.00004714306672584696,
           0.000046511961459817546,
           0.00004589424358146937,
           0.00004528950330322968,
           0.00004469748159007237,
           0.00004411768674101274,
           0.000043549894124720714,
           0.0000429937201652628,
           0.000042448895804422154,
           0.00004191505090921325,
           0.000041392001843961594,
           0.00004087933805030623,
           0.00004037689225753177,
           0.000039884367498090335,
           0.0000394015401272414,
           0.000038928157670930014,
           0.00003846394935152807,
           0.000038008675907349336,
           0.000037562243991302094,
           0.00003712428924053485
          ],
          "coloraxis": "coloraxis",
          "symbol": "triangle-down"
         },
         "mode": "markers",
         "name": "Backward",
         "showlegend": false,
         "type": "scatter",
         "x": [
          20,
          40,
          60,
          80,
          100,
          120,
          140,
          160,
          180,
          200,
          220,
          240,
          260,
          280,
          300,
          320,
          340,
          360,
          380,
          400,
          420,
          440,
          460,
          480,
          500,
          520,
          540,
          560,
          580,
          600,
          620,
          640,
          660,
          680,
          700,
          720,
          740,
          760,
          780,
          800,
          820,
          840,
          860,
          880,
          900,
          920,
          940,
          960,
          980,
          1000
         ],
         "y": [
          983.9346040980562,
          968.7924363284493,
          953.8758211882632,
          939.1869995724392,
          924.7268540773605,
          910.4958416629094,
          896.4941310397106,
          882.7216409639287,
          869.1780571577697,
          855.8628430466296,
          842.775248871979,
          829.9143200103855,
          817.2789055468972,
          804.8676667941244,
          792.6790862375303,
          780.711476518073,
          768.9629897437352,
          757.431626908028,
          746.1152473537734,
          735.0115783827376,
          724.1182248345426,
          713.4326786576462,
          702.9523283013701,
          692.6744681660223,
          682.596307688579,
          672.7149803808464,
          663.0275525315219,
          653.5310317507465,
          644.2223751297395,
          635.0984971683597,
          626.1562773350298,
          617.3925673445851,
          608.8041980113613,
          600.3879858157522,
          592.1407390764947,
          584.0592637704549,
          576.1403689790947,
          568.380872023007,
          560.7776031568139,
          553.327410012331,
          546.0271616326107,
          538.8737522121013,
          531.8641045000883,
          524.9951729226564,
          518.26394635721,
          511.6674506855371,
          505.2027510366038,
          498.86695379767593,
          492.6572083324217,
          486.57070856566776
         ]
        },
        {
         "hoverinfo": "none",
         "legendgroup": "Backward",
         "marker": {
          "color": [
           0.0012518742609326024,
           0.0012367641828841293,
           0.0012143735437360444,
           0.001187650304802985,
           0.0011591648952854461,
           0.0011307415011315271,
           0.001103475666915311,
           0.0010779144291242623,
           0.0010542556428752234,
           0.0010324919878855342,
           0.0010125182429769313,
           0.000994183058411886,
           0.0009773162282795459,
           0.0009617624855415213,
           0.0009473769487824413,
           0.0009340216763923234,
           0.000921587083446727,
           0.0009099680594706699,
           0.0008990775621724138,
           0.0008888401522849917,
           0.0008791932586081322,
           0.0008700742117618943,
           0.0008614360795956464,
           0.0008532330666325354,
           0.0008454318375887277,
           0.0008379940305585813,
           0.0008308917207202404,
           0.0008240978338301645,
           0.0008175914529758728,
           0.0008113507082595157,
           0.0008053570361280773,
           0.0007995972649624597,
           0.0007940474088471795,
           0.0007887059927731922,
           0.0007835488453819713,
           0.0007785742329740393,
           0.0007737682643198351,
           0.0007691227226846333,
           0.0007646286058670355,
           0.0007602763023250152,
           0.0007560635678776023,
           0.0007519788340129302,
           0.0007480199806863492,
           0.0007441788261933699,
           0.0007404500874351835,
           0.0007368289567740105,
           0.000733311595470589,
           0.0007298968972712077,
           0.0007265747562738267,
           0.0007233428920364655
          ],
          "coloraxis": "coloraxis",
          "symbol": "triangle-down"
         },
         "mode": "markers",
         "name": "Backward",
         "showlegend": false,
         "type": "scatter",
         "x": [
          20,
          40,
          60,
          80,
          100,
          120,
          140,
          160,
          180,
          200,
          220,
          240,
          260,
          280,
          300,
          320,
          340,
          360,
          380,
          400,
          420,
          440,
          460,
          480,
          500,
          520,
          540,
          560,
          580,
          600,
          620,
          640,
          660,
          680,
          700,
          720,
          740,
          760,
          780,
          800,
          820,
          840,
          860,
          880,
          900,
          920,
          940,
          960,
          980,
          1000
         ],
         "y": [
          3533.8794811218195,
          3533.732016127015,
          3533.496480595777,
          3533.185357882653,
          3532.811987038398,
          3532.388778295029,
          3531.9263768545925,
          3531.4334590246604,
          3530.9169141747084,
          3530.382137522542,
          3529.8333319394533,
          3529.273777299856,
          3528.706049238864,
          3528.132173415114,
          3527.553767853755,
          3526.972119375032,
          3526.3882760989427,
          3525.803086048025,
          3525.2172428460317,
          3524.6313303341294,
          3524.0458186717233,
          3523.4611103310663,
          3522.877542237562,
          3522.2953976131544,
          3521.714917926784,
          3521.1363104285215,
          3520.5597463884687,
          3519.985382145053,
          3519.4133425926393,
          3518.843742011911,
          3518.276675792859,
          3517.712228922619,
          3517.1504661507947,
          3516.5914554982173,
          3516.035248977532,
          3515.481890507341,
          3514.9314176277785,
          3514.383865331478,
          3513.8392600813977,
          3513.2976265739962,
          3512.7589818085266,
          3512.2233426656217,
          3511.690721626175,
          3511.161123161968,
          3510.6345594658524,
          3510.1110310475215,
          3509.5905423224417,
          3509.0730904949687,
          3508.5586758018717,
          3508.047295030667
         ]
        },
        {
         "hoverinfo": "none",
         "line": {
          "color": "blue",
          "dash": "dashdot"
         },
         "mode": "lines",
         "name": "1x speed",
         "type": "scatter",
         "x": [
          20,
          40,
          60,
          80,
          100,
          120,
          140,
          160,
          180,
          200,
          220,
          240,
          260,
          280,
          300,
          320,
          340,
          360,
          380,
          400,
          420,
          440,
          460,
          480,
          500,
          520,
          540,
          560,
          580,
          600,
          620,
          640,
          660,
          680,
          700,
          720,
          740,
          760,
          780,
          800,
          820,
          840,
          860,
          880,
          900,
          920,
          940,
          960,
          980,
          1000
         ],
         "y": [
          20,
          40,
          60,
          80,
          100,
          120,
          140,
          160,
          180,
          200,
          220,
          240,
          260,
          280,
          300,
          320,
          340,
          360,
          380,
          400,
          420,
          440,
          460,
          480,
          500,
          520,
          540,
          560,
          580,
          600,
          620,
          640,
          660,
          680,
          700,
          720,
          740,
          760,
          780,
          800,
          820,
          840,
          860,
          880,
          900,
          920,
          940,
          960,
          980,
          1000
         ]
        },
        {
         "hoverinfo": "none",
         "legendgroup": "Foward",
         "marker": {
          "color": "black",
          "symbol": "triangle-up"
         },
         "mode": "markers",
         "name": "Foward",
         "type": "scatter",
         "x": [
          0
         ],
         "y": [
          0
         ]
        },
        {
         "hoverinfo": "none",
         "legendgroup": "Mixed",
         "marker": {
          "color": "black",
          "symbol": "circle"
         },
         "mode": "markers",
         "name": "Mixed",
         "type": "scatter",
         "x": [
          0
         ],
         "y": [
          0
         ]
        },
        {
         "hoverinfo": "none",
         "legendgroup": "Backward",
         "marker": {
          "color": "black",
          "symbol": "triangle-down"
         },
         "mode": "markers",
         "name": "Backward",
         "type": "scatter",
         "x": [
          0
         ],
         "y": [
          0
         ]
        }
       ],
       "layout": {
        "coloraxis": {
         "cmax": 1,
         "cmin": 0,
         "colorbar": {
          "title": {
           "side": "right",
           "text": "<b>Log Dec</b>"
          }
         },
         "colorscale": [
          [
           0,
           "rgb(103,0,31)"
          ],
          [
           0.1,
           "rgb(178,24,43)"
          ],
          [
           0.2,
           "rgb(214,96,77)"
          ],
          [
           0.3,
           "rgb(244,165,130)"
          ],
          [
           0.4,
           "rgb(253,219,199)"
          ],
          [
           0.5,
           "rgb(247,247,247)"
          ],
          [
           0.6,
           "rgb(209,229,240)"
          ],
          [
           0.7,
           "rgb(146,197,222)"
          ],
          [
           0.8,
           "rgb(67,147,195)"
          ],
          [
           0.9,
           "rgb(33,102,172)"
          ],
          [
           1,
           "rgb(5,48,97)"
          ]
         ]
        },
        "legend": {
         "itemsizing": "constant",
         "orientation": "h",
         "x": 0.5,
         "xanchor": "center",
         "y": -0.3,
         "yanchor": "bottom"
        },
        "template": {
         "data": {
          "bar": [
           {
            "error_x": {
             "color": "#2a3f5f"
            },
            "error_y": {
             "color": "#2a3f5f"
            },
            "marker": {
             "line": {
              "color": "white",
              "width": 0.5
             }
            },
            "type": "bar"
           }
          ],
          "barpolar": [
           {
            "marker": {
             "line": {
              "color": "white",
              "width": 0.5
             }
            },
            "type": "barpolar"
           }
          ],
          "carpet": [
           {
            "aaxis": {
             "endlinecolor": "#2a3f5f",
             "gridcolor": "#C8D4E3",
             "linecolor": "#C8D4E3",
             "minorgridcolor": "#C8D4E3",
             "startlinecolor": "#2a3f5f"
            },
            "baxis": {
             "endlinecolor": "#2a3f5f",
             "gridcolor": "#C8D4E3",
             "linecolor": "#C8D4E3",
             "minorgridcolor": "#C8D4E3",
             "startlinecolor": "#2a3f5f"
            },
            "type": "carpet"
           }
          ],
          "choropleth": [
           {
            "colorbar": {
             "outlinewidth": 0,
             "ticks": ""
            },
            "type": "choropleth"
           }
          ],
          "contour": [
           {
            "colorbar": {
             "outlinewidth": 0,
             "ticks": ""
            },
            "colorscale": [
             [
              0,
              "#0d0887"
             ],
             [
              0.1111111111111111,
              "#46039f"
             ],
             [
              0.2222222222222222,
              "#7201a8"
             ],
             [
              0.3333333333333333,
              "#9c179e"
             ],
             [
              0.4444444444444444,
              "#bd3786"
             ],
             [
              0.5555555555555556,
              "#d8576b"
             ],
             [
              0.6666666666666666,
              "#ed7953"
             ],
             [
              0.7777777777777778,
              "#fb9f3a"
             ],
             [
              0.8888888888888888,
              "#fdca26"
             ],
             [
              1,
              "#f0f921"
             ]
            ],
            "type": "contour"
           }
          ],
          "contourcarpet": [
           {
            "colorbar": {
             "outlinewidth": 0,
             "ticks": ""
            },
            "type": "contourcarpet"
           }
          ],
          "heatmap": [
           {
            "colorbar": {
             "outlinewidth": 0,
             "ticks": ""
            },
            "colorscale": [
             [
              0,
              "#0d0887"
             ],
             [
              0.1111111111111111,
              "#46039f"
             ],
             [
              0.2222222222222222,
              "#7201a8"
             ],
             [
              0.3333333333333333,
              "#9c179e"
             ],
             [
              0.4444444444444444,
              "#bd3786"
             ],
             [
              0.5555555555555556,
              "#d8576b"
             ],
             [
              0.6666666666666666,
              "#ed7953"
             ],
             [
              0.7777777777777778,
              "#fb9f3a"
             ],
             [
              0.8888888888888888,
              "#fdca26"
             ],
             [
              1,
              "#f0f921"
             ]
            ],
            "type": "heatmap"
           }
          ],
          "heatmapgl": [
           {
            "colorbar": {
             "outlinewidth": 0,
             "ticks": ""
            },
            "colorscale": [
             [
              0,
              "#0d0887"
             ],
             [
              0.1111111111111111,
              "#46039f"
             ],
             [
              0.2222222222222222,
              "#7201a8"
             ],
             [
              0.3333333333333333,
              "#9c179e"
             ],
             [
              0.4444444444444444,
              "#bd3786"
             ],
             [
              0.5555555555555556,
              "#d8576b"
             ],
             [
              0.6666666666666666,
              "#ed7953"
             ],
             [
              0.7777777777777778,
              "#fb9f3a"
             ],
             [
              0.8888888888888888,
              "#fdca26"
             ],
             [
              1,
              "#f0f921"
             ]
            ],
            "type": "heatmapgl"
           }
          ],
          "histogram": [
           {
            "marker": {
             "colorbar": {
              "outlinewidth": 0,
              "ticks": ""
             }
            },
            "type": "histogram"
           }
          ],
          "histogram2d": [
           {
            "colorbar": {
             "outlinewidth": 0,
             "ticks": ""
            },
            "colorscale": [
             [
              0,
              "#0d0887"
             ],
             [
              0.1111111111111111,
              "#46039f"
             ],
             [
              0.2222222222222222,
              "#7201a8"
             ],
             [
              0.3333333333333333,
              "#9c179e"
             ],
             [
              0.4444444444444444,
              "#bd3786"
             ],
             [
              0.5555555555555556,
              "#d8576b"
             ],
             [
              0.6666666666666666,
              "#ed7953"
             ],
             [
              0.7777777777777778,
              "#fb9f3a"
             ],
             [
              0.8888888888888888,
              "#fdca26"
             ],
             [
              1,
              "#f0f921"
             ]
            ],
            "type": "histogram2d"
           }
          ],
          "histogram2dcontour": [
           {
            "colorbar": {
             "outlinewidth": 0,
             "ticks": ""
            },
            "colorscale": [
             [
              0,
              "#0d0887"
             ],
             [
              0.1111111111111111,
              "#46039f"
             ],
             [
              0.2222222222222222,
              "#7201a8"
             ],
             [
              0.3333333333333333,
              "#9c179e"
             ],
             [
              0.4444444444444444,
              "#bd3786"
             ],
             [
              0.5555555555555556,
              "#d8576b"
             ],
             [
              0.6666666666666666,
              "#ed7953"
             ],
             [
              0.7777777777777778,
              "#fb9f3a"
             ],
             [
              0.8888888888888888,
              "#fdca26"
             ],
             [
              1,
              "#f0f921"
             ]
            ],
            "type": "histogram2dcontour"
           }
          ],
          "mesh3d": [
           {
            "colorbar": {
             "outlinewidth": 0,
             "ticks": ""
            },
            "type": "mesh3d"
           }
          ],
          "parcoords": [
           {
            "line": {
             "colorbar": {
              "outlinewidth": 0,
              "ticks": ""
             }
            },
            "type": "parcoords"
           }
          ],
          "pie": [
           {
            "automargin": true,
            "type": "pie"
           }
          ],
          "scatter": [
           {
            "marker": {
             "colorbar": {
              "outlinewidth": 0,
              "ticks": ""
             }
            },
            "type": "scatter"
           }
          ],
          "scatter3d": [
           {
            "line": {
             "colorbar": {
              "outlinewidth": 0,
              "ticks": ""
             }
            },
            "marker": {
             "colorbar": {
              "outlinewidth": 0,
              "ticks": ""
             }
            },
            "type": "scatter3d"
           }
          ],
          "scattercarpet": [
           {
            "marker": {
             "colorbar": {
              "outlinewidth": 0,
              "ticks": ""
             }
            },
            "type": "scattercarpet"
           }
          ],
          "scattergeo": [
           {
            "marker": {
             "colorbar": {
              "outlinewidth": 0,
              "ticks": ""
             }
            },
            "type": "scattergeo"
           }
          ],
          "scattergl": [
           {
            "marker": {
             "colorbar": {
              "outlinewidth": 0,
              "ticks": ""
             }
            },
            "type": "scattergl"
           }
          ],
          "scattermapbox": [
           {
            "marker": {
             "colorbar": {
              "outlinewidth": 0,
              "ticks": ""
             }
            },
            "type": "scattermapbox"
           }
          ],
          "scatterpolar": [
           {
            "marker": {
             "colorbar": {
              "outlinewidth": 0,
              "ticks": ""
             }
            },
            "type": "scatterpolar"
           }
          ],
          "scatterpolargl": [
           {
            "marker": {
             "colorbar": {
              "outlinewidth": 0,
              "ticks": ""
             }
            },
            "type": "scatterpolargl"
           }
          ],
          "scatterternary": [
           {
            "marker": {
             "colorbar": {
              "outlinewidth": 0,
              "ticks": ""
             }
            },
            "type": "scatterternary"
           }
          ],
          "surface": [
           {
            "colorbar": {
             "outlinewidth": 0,
             "ticks": ""
            },
            "colorscale": [
             [
              0,
              "#0d0887"
             ],
             [
              0.1111111111111111,
              "#46039f"
             ],
             [
              0.2222222222222222,
              "#7201a8"
             ],
             [
              0.3333333333333333,
              "#9c179e"
             ],
             [
              0.4444444444444444,
              "#bd3786"
             ],
             [
              0.5555555555555556,
              "#d8576b"
             ],
             [
              0.6666666666666666,
              "#ed7953"
             ],
             [
              0.7777777777777778,
              "#fb9f3a"
             ],
             [
              0.8888888888888888,
              "#fdca26"
             ],
             [
              1,
              "#f0f921"
             ]
            ],
            "type": "surface"
           }
          ],
          "table": [
           {
            "cells": {
             "fill": {
              "color": "#EBF0F8"
             },
             "line": {
              "color": "white"
             }
            },
            "header": {
             "fill": {
              "color": "#C8D4E3"
             },
             "line": {
              "color": "white"
             }
            },
            "type": "table"
           }
          ]
         },
         "layout": {
          "annotationdefaults": {
           "arrowcolor": "#2a3f5f",
           "arrowhead": 0,
           "arrowwidth": 1
          },
          "coloraxis": {
           "colorbar": {
            "outlinewidth": 0,
            "ticks": ""
           }
          },
          "colorscale": {
           "diverging": [
            [
             0,
             "#8e0152"
            ],
            [
             0.1,
             "#c51b7d"
            ],
            [
             0.2,
             "#de77ae"
            ],
            [
             0.3,
             "#f1b6da"
            ],
            [
             0.4,
             "#fde0ef"
            ],
            [
             0.5,
             "#f7f7f7"
            ],
            [
             0.6,
             "#e6f5d0"
            ],
            [
             0.7,
             "#b8e186"
            ],
            [
             0.8,
             "#7fbc41"
            ],
            [
             0.9,
             "#4d9221"
            ],
            [
             1,
             "#276419"
            ]
           ],
           "sequential": [
            [
             0,
             "#0d0887"
            ],
            [
             0.1111111111111111,
             "#46039f"
            ],
            [
             0.2222222222222222,
             "#7201a8"
            ],
            [
             0.3333333333333333,
             "#9c179e"
            ],
            [
             0.4444444444444444,
             "#bd3786"
            ],
            [
             0.5555555555555556,
             "#d8576b"
            ],
            [
             0.6666666666666666,
             "#ed7953"
            ],
            [
             0.7777777777777778,
             "#fb9f3a"
            ],
            [
             0.8888888888888888,
             "#fdca26"
            ],
            [
             1,
             "#f0f921"
            ]
           ],
           "sequentialminus": [
            [
             0,
             "#0d0887"
            ],
            [
             0.1111111111111111,
             "#46039f"
            ],
            [
             0.2222222222222222,
             "#7201a8"
            ],
            [
             0.3333333333333333,
             "#9c179e"
            ],
            [
             0.4444444444444444,
             "#bd3786"
            ],
            [
             0.5555555555555556,
             "#d8576b"
            ],
            [
             0.6666666666666666,
             "#ed7953"
            ],
            [
             0.7777777777777778,
             "#fb9f3a"
            ],
            [
             0.8888888888888888,
             "#fdca26"
            ],
            [
             1,
             "#f0f921"
            ]
           ]
          },
          "colorway": [
           "#1f77b4",
           "#ff7f0e",
           "#2ca02c",
           "#d62728",
           "#9467bd",
           "#8c564b",
           "#e377c2",
           "#7f7f7f",
           "#bcbd22",
           "#17becf"
          ],
          "font": {
           "color": "#2a3f5f"
          },
          "geo": {
           "bgcolor": "white",
           "lakecolor": "white",
           "landcolor": "white",
           "showlakes": true,
           "showland": true,
           "subunitcolor": "#C8D4E3"
          },
          "hoverlabel": {
           "align": "left"
          },
          "hovermode": "closest",
          "mapbox": {
           "style": "light"
          },
          "paper_bgcolor": "white",
          "plot_bgcolor": "white",
          "polar": {
           "angularaxis": {
            "gridcolor": "#EBF0F8",
            "linecolor": "#EBF0F8",
            "ticks": ""
           },
           "bgcolor": "white",
           "radialaxis": {
            "gridcolor": "#EBF0F8",
            "linecolor": "#EBF0F8",
            "ticks": ""
           }
          },
          "scene": {
           "camera": {
            "center": {
             "x": 0,
             "y": 0,
             "z": 0
            },
            "eye": {
             "x": 2,
             "y": 2,
             "z": 2
            },
            "up": {
             "x": 0,
             "y": 0,
             "z": 1
            }
           },
           "xaxis": {
            "backgroundcolor": "white",
            "gridcolor": "#DFE8F3",
            "gridwidth": 2,
            "linecolor": "#EBF0F8",
            "showbackground": true,
            "showspikes": false,
            "ticks": "",
            "zerolinecolor": "#EBF0F8"
           },
           "yaxis": {
            "backgroundcolor": "white",
            "gridcolor": "#DFE8F3",
            "gridwidth": 2,
            "linecolor": "#EBF0F8",
            "showbackground": true,
            "showspikes": false,
            "ticks": "",
            "zerolinecolor": "#EBF0F8"
           },
           "zaxis": {
            "backgroundcolor": "white",
            "gridcolor": "#DFE8F3",
            "gridwidth": 2,
            "linecolor": "#EBF0F8",
            "showbackground": true,
            "showspikes": false,
            "ticks": "",
            "zerolinecolor": "#EBF0F8"
           }
          },
          "shapedefaults": {
           "line": {
            "color": "#2a3f5f"
           }
          },
          "ternary": {
           "aaxis": {
            "gridcolor": "#DFE8F3",
            "linecolor": "#A2B1C6",
            "ticks": ""
           },
           "baxis": {
            "gridcolor": "#DFE8F3",
            "linecolor": "#A2B1C6",
            "ticks": ""
           },
           "bgcolor": "white",
           "caxis": {
            "gridcolor": "#DFE8F3",
            "linecolor": "#A2B1C6",
            "ticks": ""
           }
          },
          "title": {
           "x": 0.05
          },
          "xaxis": {
           "automargin": true,
           "gridcolor": "#EBF0F8",
           "linecolor": "black",
           "linewidth": 2,
           "mirror": true,
           "showline": true,
           "ticks": "",
           "title": {
            "standoff": 15
           },
           "zeroline": false,
           "zerolinecolor": "#EBF0F8",
           "zerolinewidth": 2
          },
          "yaxis": {
           "automargin": true,
           "gridcolor": "#EBF0F8",
           "linecolor": "black",
           "linewidth": 2,
           "mirror": true,
           "showline": true,
           "ticks": "",
           "title": {
            "standoff": 15
           },
           "zeroline": false,
           "zerolinecolor": "#EBF0F8",
           "zerolinewidth": 2
          }
         }
        },
        "xaxis": {
         "exponentformat": "none",
         "range": [
          20,
          1000
         ],
         "title": {
          "text": "Frequency (rad/s)"
         }
        },
        "yaxis": {
         "range": [
          0,
          3934.0812002817374
         ],
         "title": {
          "text": "Natural Frequencies (rad/s)"
         }
        }
       }
      }
     },
     "metadata": {}
    }
   ],
   "source": [
    "# CAMPBELL\n",
    "samples     = 50\n",
    "speed_range = np.linspace(20, 1000, samples) # [rad/s]\n",
    "campbell    = rotor.run_campbell(speed_range)\n",
    "campbell.plot()"
   ]
  },
  {
   "cell_type": "code",
   "execution_count": null,
   "metadata": {},
   "outputs": [],
   "source": []
  }
 ]
}